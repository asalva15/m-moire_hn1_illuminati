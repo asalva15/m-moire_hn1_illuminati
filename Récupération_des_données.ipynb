{
 "cells": [
  {
   "cell_type": "markdown",
   "id": "28b5651d-abeb-4ef6-aa7a-dfba374972ad",
   "metadata": {},
   "source": [
    "A lire: \\\n",
    "https://brightdata.com/blog/how-tos/web-scraping-with-python#libraries \\\n",
    "https://realpython.com/beautiful-soup-web-scraper-python/#dynamic-websites \\\n",
    "https://selenium-python.readthedocs.io/index.html \n"
   ]
  },
  {
   "cell_type": "code",
   "execution_count": 5,
   "id": "069b5075-3be6-42c5-a245-946c77148b98",
   "metadata": {
    "scrolled": true
   },
   "outputs": [
    {
     "name": "stdout",
     "output_type": "stream",
     "text": [
      "Requirement already satisfied: beautifulsoup4 in /home/asalva/.local/lib/python3.8/site-packages (4.12.3)\n",
      "Requirement already satisfied: soupsieve>1.2 in /home/asalva/.local/lib/python3.8/site-packages (from beautifulsoup4) (2.5)\n",
      "Requirement already satisfied: requests in /home/asalva/.local/lib/python3.8/site-packages (2.31.0)\n",
      "Requirement already satisfied: charset-normalizer<4,>=2 in /home/asalva/.local/lib/python3.8/site-packages (from requests) (3.3.2)\n",
      "Requirement already satisfied: urllib3<3,>=1.21.1 in /usr/lib/python3/dist-packages (from requests) (1.25.8)\n",
      "Requirement already satisfied: certifi>=2017.4.17 in /usr/lib/python3/dist-packages (from requests) (2019.11.28)\n",
      "Requirement already satisfied: idna<4,>=2.5 in /usr/lib/python3/dist-packages (from requests) (2.8)\n",
      "Collecting selenium\n",
      "  Downloading selenium-4.20.0-py3-none-any.whl (9.5 MB)\n",
      "\u001b[K     |████████████████████████████████| 9.5 MB 6.8 MB/s eta 0:00:01\n",
      "\u001b[?25hCollecting trio-websocket~=0.9\n",
      "  Downloading trio_websocket-0.11.1-py3-none-any.whl (17 kB)\n",
      "Requirement already satisfied: typing_extensions>=4.9.0 in /home/asalva/.local/lib/python3.8/site-packages (from selenium) (4.10.0)\n",
      "Collecting urllib3[socks]<3,>=1.26\n",
      "  Downloading urllib3-2.2.1-py3-none-any.whl (121 kB)\n",
      "\u001b[K     |████████████████████████████████| 121 kB 24.2 MB/s eta 0:00:01\n",
      "\u001b[?25hCollecting trio~=0.17\n",
      "  Downloading trio-0.25.0-py3-none-any.whl (467 kB)\n",
      "\u001b[K     |████████████████████████████████| 467 kB 23.1 MB/s eta 0:00:01\n",
      "\u001b[?25hCollecting certifi>=2021.10.8\n",
      "  Downloading certifi-2024.2.2-py3-none-any.whl (163 kB)\n",
      "\u001b[K     |████████████████████████████████| 163 kB 40.2 MB/s eta 0:00:01\n",
      "\u001b[?25hRequirement already satisfied: exceptiongroup; python_version < \"3.11\" in /home/asalva/.local/lib/python3.8/site-packages (from trio-websocket~=0.9->selenium) (1.2.0)\n",
      "Collecting wsproto>=0.14\n",
      "  Downloading wsproto-1.2.0-py3-none-any.whl (24 kB)\n",
      "Collecting pysocks!=1.5.7,<2.0,>=1.5.6; extra == \"socks\"\n",
      "  Downloading PySocks-1.7.1-py3-none-any.whl (16 kB)\n",
      "Requirement already satisfied: attrs>=23.2.0 in /home/asalva/.local/lib/python3.8/site-packages (from trio~=0.17->selenium) (23.2.0)\n",
      "Collecting outcome\n",
      "  Downloading outcome-1.3.0.post0-py2.py3-none-any.whl (10 kB)\n",
      "Requirement already satisfied: idna in /usr/lib/python3/dist-packages (from trio~=0.17->selenium) (2.8)\n",
      "Collecting sortedcontainers\n",
      "  Downloading sortedcontainers-2.4.0-py2.py3-none-any.whl (29 kB)\n",
      "Requirement already satisfied: sniffio>=1.3.0 in /home/asalva/.local/lib/python3.8/site-packages (from trio~=0.17->selenium) (1.3.1)\n",
      "Requirement already satisfied: h11<1,>=0.9.0 in /home/asalva/.local/lib/python3.8/site-packages (from wsproto>=0.14->trio-websocket~=0.9->selenium) (0.14.0)\n",
      "\u001b[31mERROR: pie-extended 0.1.2 has requirement numpy<1.24.0, but you'll have numpy 1.24.4 which is incompatible.\u001b[0m\n",
      "\u001b[31mERROR: pie-extended 0.1.2 has requirement requests~=2.25.0, but you'll have requests 2.31.0 which is incompatible.\u001b[0m\n",
      "Installing collected packages: wsproto, outcome, sortedcontainers, trio, trio-websocket, pysocks, urllib3, certifi, selenium\n",
      "Successfully installed certifi-2024.2.2 outcome-1.3.0.post0 pysocks-1.7.1 selenium-4.20.0 sortedcontainers-2.4.0 trio-0.25.0 trio-websocket-0.11.1 urllib3-2.2.1 wsproto-1.2.0\n"
     ]
    }
   ],
   "source": [
    "!pip install beautifulsoup4\n",
    "!pip install requests\n",
    "!pip install selenium"
   ]
  },
  {
   "cell_type": "markdown",
   "id": "212a4d46-0b7d-40d7-8b25-d92587ce885d",
   "metadata": {},
   "source": [
    "Tentative de webscrapping des formats txt des 130 résultats avec des occurences d'\"Illuminati\""
   ]
  },
  {
   "cell_type": "code",
   "execution_count": 8,
   "id": "dbefc763-da01-416b-a0a0-344e5ffca936",
   "metadata": {},
   "outputs": [
    {
     "name": "stdout",
     "output_type": "stream",
     "text": [
      "Error: Text file not found.\n",
      "No text file URL found.\n"
     ]
    }
   ],
   "source": [
    "import requests\n",
    "from bs4 import BeautifulSoup\n",
    "\n",
    "def scrape_txt_url(url):\n",
    "    # Send a GET request to the URL\n",
    "    response = requests.get(url)\n",
    "\n",
    "    # Check if the request was successful (status code 200)\n",
    "    if response.status_code == 200:\n",
    "        # Parse the HTML content of the page\n",
    "        soup = BeautifulSoup(response.content, 'html.parser')\n",
    "        \n",
    "        # Find all <a> tags with an href attribute containing \".txt\"\n",
    "        txt_links = soup.find_all('a', href=lambda href: href and href.endswith('.txt'))\n",
    "\n",
    "        # If there are text file links found, return the first one\n",
    "        if txt_links:\n",
    "            return txt_links[0]['href']\n",
    "        else:\n",
    "            print(\"Error: Text file not found.\")\n",
    "            return None\n",
    "    else:\n",
    "        print(\"Error: Unable to fetch data from the website\")\n",
    "        return None\n",
    "\n",
    "# URL of the specific result page to scrape\n",
    "url = 'https://chroniclingamerica.loc.gov/lccn/sn88053122/1831-09-30/ed-1/seq-2/#date1=1756&index=0&rows=20&words=Illuminati&searchType=basic&sequence=0&state=&date2=1850&proxtext=Illuminati&y=0&x=0&dateFilterType=yearRange&page=1'\n",
    "\n",
    "# Scrape the URL of the txt file\n",
    "txt_url = scrape_txt_url(url)\n",
    "\n",
    "# Print the txt file URL\n",
    "if txt_url:\n",
    "    print(f\"Text File URL: {txt_url}\")\n",
    "else:\n",
    "    print(\"No text file URL found.\")"
   ]
  },
  {
   "cell_type": "markdown",
   "id": "b5a0da2d-2323-41b7-bae6-a9750ec3b437",
   "metadata": {},
   "source": [
    "Tentative avec 1 texte à partir du lien du fichier txt (suffixe ocr.txt)"
   ]
  },
  {
   "cell_type": "code",
   "execution_count": 9,
   "id": "70ed1cad-8227-4005-a583-c86e9e8acd7e",
   "metadata": {},
   "outputs": [
    {
     "name": "stdout",
     "output_type": "stream",
     "text": [
      "File downloaded successfully.\n"
     ]
    }
   ],
   "source": [
    "import requests\n",
    "\n",
    "def download_txt_file(url, file_path):\n",
    "    # Send a GET request to download the file\n",
    "    response = requests.get(url)\n",
    "    \n",
    "    # Check if the request was successful (status code 200)\n",
    "    if response.status_code == 200:\n",
    "        # Write the content to a file\n",
    "        with open(file_path, 'wb') as file:\n",
    "            file.write(response.content)\n",
    "        print(\"File downloaded successfully.\")\n",
    "    else:\n",
    "        print(\"Error: Unable to download the file.\")\n",
    "\n",
    "# URL of the text file to download\n",
    "url = 'https://chroniclingamerica.loc.gov/lccn/sn83045634/1798-12-10/ed-1/seq-1/ocr.txt'\n",
    "\n",
    "# File path to save the downloaded file\n",
    "file_path = 'essai1.txt'\n",
    "\n",
    "# Download the text file and save it to the specified file path\n",
    "download_txt_file(url, file_path)"
   ]
  },
  {
   "cell_type": "code",
   "execution_count": 11,
   "id": "3e90c87d-07a8-4f79-908f-ad1b3693a750",
   "metadata": {},
   "outputs": [],
   "source": [
    "import requests\n",
    "from bs4 import BeautifulSoup\n",
    "from urllib.parse import urlparse, parse_qs\n",
    "\n",
    "def download_txt_file(url, file_path):\n",
    "    # Send a GET request to download the file\n",
    "    response = requests.get(url)\n",
    "    \n",
    "    # Check if the request was successful (status code 200)\n",
    "    if response.status_code == 200:\n",
    "        # Write the content to a file\n",
    "        with open(file_path, 'wb') as file:\n",
    "            file.write(response.content)\n",
    "        print(f\"File '{file_path}' downloaded successfully.\")\n",
    "    else:\n",
    "        print(f\"Error: Unable to download the file from '{url}'.\")\n",
    "\n",
    "def scrape_txt_urls(search_url):\n",
    "    # Send a GET request to the search results page\n",
    "    response = requests.get(search_url)\n",
    "    \n",
    "    # Check if the request was successful (status code 200)\n",
    "    if response.status_code == 200:\n",
    "        # Parse the HTML content of the page\n",
    "        soup = BeautifulSoup(response.content, 'html.parser')\n",
    "        \n",
    "        # Find all <a> tags with an href attribute containing \"ocr.txt\"\n",
    "        txt_links = soup.find_all('a', href=lambda href: href and href.endswith('ocr.txt'))\n",
    "        \n",
    "        # Extract the URLs from the href attributes\n",
    "        txt_urls = [link['href'] for link in txt_links]\n",
    "        \n",
    "        return txt_urls\n",
    "    else:\n",
    "        print(f\"Error: Unable to fetch data from the website '{search_url}'.\")\n",
    "        return []\n",
    "\n",
    "# URL of the search results page\n",
    "search_url = 'https://chroniclingamerica.loc.gov/search/pages/results/?state=&date1=1756&date2=1850&proxtext=Illuminati&x=0&y=0&dateFilterType=yearRange&rows=20&searchType=basic'\n",
    "\n",
    "# Scrape the URLs of the text files from the search results page\n",
    "txt_urls = scrape_txt_urls(search_url)\n",
    "\n",
    "# Download each text file\n",
    "for idx, txt_url in enumerate(txt_urls, start=1):\n",
    "    # Parse the URL to extract information\n",
    "    parsed_url = urlparse(txt_url)\n",
    "    query_params = parse_qs(parsed_url.query)\n",
    "    \n",
    "    # Extract newspaper name, location, and date from the query parameters\n",
    "    newspaper_name = query_params.get('lccn', [''])[0]\n",
    "    location = query_params.get('state', [''])[0]\n",
    "    date = query_params.get('date', [''])[0]\n",
    "    \n",
    "    # Construct the file name\n",
    "    file_name = f'{newspaper_name}_{location}_{date}.txt'\n",
    "    print(f\"Download link: {txt_url}, File name: {file_name}\")\n",
    "    \n",
    "    # Download the text file\n",
    "    download_txt_file(txt_url, file_name)"
   ]
  },
  {
   "cell_type": "markdown",
   "id": "dcb3c7a9-574f-4a42-a1c1-cf1927f4e353",
   "metadata": {},
   "source": [
    "Recherches sur structuration des fichiers"
   ]
  },
  {
   "cell_type": "code",
   "execution_count": 15,
   "id": "a39859b3-3088-41e3-90f3-5795e2508ffd",
   "metadata": {},
   "outputs": [
    {
     "name": "stdout",
     "output_type": "stream",
     "text": [
      "Text File URLs:\n"
     ]
    }
   ],
   "source": [
    "import requests\n",
    "from bs4 import BeautifulSoup\n",
    "from urllib.parse import urlparse, parse_qs\n",
    "\n",
    "def download_txt_file(url, file_path):\n",
    "    # Send a GET request to download the file\n",
    "    response = requests.get(url)\n",
    "    \n",
    "    # Check if the request was successful (status code 200)\n",
    "    if response.status_code == 200:\n",
    "        # Write the content to a file\n",
    "        with open(file_path, 'wb') as file:\n",
    "            file.write(response.content)\n",
    "        print(f\"File '{file_path}' downloaded successfully.\")\n",
    "    else:\n",
    "        print(f\"Error: Unable to download the file from '{url}'.\")\n",
    "\n",
    "def scrape_txt_urls(search_url):\n",
    "    # Send a GET request to the search results page\n",
    "    response = requests.get(search_url)\n",
    "    \n",
    "    # Check if the request was successful (status code 200)\n",
    "    if response.status_code == 200:\n",
    "        # Parse the HTML content of the page\n",
    "        soup = BeautifulSoup(response.content, 'html.parser')\n",
    "        \n",
    "        # Find all <a> tags with an href attribute containing \"ocr.txt\"\n",
    "        txt_links = soup.find_all('a', href=lambda href: href and href.endswith('ocr.txt'))\n",
    "        \n",
    "        # Extract the URLs from the href attributes\n",
    "        txt_urls = [link['href'] for link in txt_links]\n",
    "        \n",
    "        return txt_urls\n",
    "    else:\n",
    "        print(f\"Error: Unable to fetch data from the website '{search_url}'.\")\n",
    "        return []\n",
    "\n",
    "# URL of the search results page\n",
    "search_url = 'https://chroniclingamerica.loc.gov/search/pages/results/?state=&date1=1756&date2=1850&proxtext=Illuminati&x=0&y=0&dateFilterType=yearRange&rows=20&searchType=basic'\n",
    "\n",
    "# Scrape the URLs of the text files from the search results page\n",
    "txt_urls = scrape_txt_urls(search_url)\n",
    "\n",
    "# Print out the retrieved text file URLs\n",
    "print(\"Text File URLs:\")\n",
    "for url in txt_urls:\n",
    "    print(url)"
   ]
  },
  {
   "cell_type": "markdown",
   "id": "226bf6e8-4343-47de-a3c7-44ac0828bb0c",
   "metadata": {},
   "source": [
    "Tentative debug"
   ]
  },
  {
   "cell_type": "code",
   "execution_count": 17,
   "id": "758add02-0ec2-4d94-b2ae-26a4ed229b9f",
   "metadata": {},
   "outputs": [
    {
     "name": "stdout",
     "output_type": "stream",
     "text": [
      "b'<!DOCTYPE html>\\n<html>\\n  <head profile=\"http://dublincore.org/documents/2008/08/04/dc-html/\">\\n    \\n    \\n    \\n      <title>Search Results \\xc2\\xab Chronicling America \\xc2\\xab Library of Congress</title>\\n      <meta http-equiv=\"Content-Language\" content=\"en-us\" />\\n      <meta http-equiv=\"Content-Type\" content=\"text/html; charset=utf-8\" />\\n      <meta name=\"viewport\" content=\"width=device-width, initial-scale=1.0, maximum-scale=1.0, user-scalable=0\"/>\\n      <link rel=\"stylesheet\" media=\"screen\" type=\"text/css\" href=/media/css/lochead.06d82f58f829.css />\\n      <link rel=\"stylesheet\" media=\"screen\" type=\"text/css\" href=/media/css/locfoot.67de26538680.css />\\n      <link rel=\"preload\" as=\"script\" href=\"/media/js/jquery.min.883bf0ec72cf.js\">\\n      <link rel=\"preload\" as=\"script\" href=\"/media/js/lab.min.e842152f94c9.js\">\\n      \\n        <script async src=\"https://assets.adobedtm.com/f94f5647937d/624e2240e90d/launch-0610ec681aff.min.js\"></script>\\n      \\n    \\n    <style>\\n        .alert {\\n            clear: both;\\n            padding: 10px 14px;\\n            border-bottom: 1px solid #000;\\n            font: normal 11px Verdana, Arial, Helvetica, sans-serif;\\n            background-color: #0076AD;\\n            margin: .25rem 0 1rem;\\n            margin-top: 0px;\\n            color: #FFF;\\n        }\\n\\n        .alert a {\\n            color: #FFF !important;\\n            text-decoration: underline;\\n        }\\n\\n        .alert a:hover {\\n            text-decoration: none;\\n        }\\n    </style>\\n\\n    \\n    <link href=\"/media/img-std/fav.0537fd9021c6.ico\" rel=\"shortcut icon\"/>\\n    <link title=\"NDNP Page Search\" href=\"/search/pages/opensearch.xml\"\\n          rel=\"search\" type=\"application/opensearchdescription+xml\" />\\n    <link title=\"NDNP Title Search\" href=\"/search/titles/opensearch.xml\"\\n          rel=\"search\" type=\"application/opensearchdescription+xml\" />\\n    <link rel=\"alternate\" type=\"application/rss+xml\" title=\"News about Chronicling America - RSS Feed\"\\n          href=\"https://www.loc.gov/rss/ndnp/ndnp.xml\" />\\n    <meta http-equiv=\"Content-Language\" content=\"en-us\" />\\n    <meta http-equiv=\"Content-Type\" content=\"text/html; charset=utf-8\" />\\n    <meta name=\"dc.title\" content=\"Chronicling America | Library of Congress\" />\\n    <meta name=\"description\" content=\"Search America\\'s historic newspaper pages from 1756-1963 or use the U.S. Newspaper Directory to find information about American newspapers published between 1690-present. \" />\\n    <meta name=\"dc.contributor\" content=\"National Endowment for the Humanities\" />\\n    <meta name=\"dc.subject\" content=\"American History\" />\\n    <meta name=\"dc.subject\" content=\"Historical Newspapers\" />\\n    <meta name=\"dc.subject\" content=\"America\\'s Historic Newspapers\" />\\n    <meta name=\"dc.subject\" content=\"Chronicling America\" />\\n    <meta name=\"dc.coverage.spatial\" content=\"United States of America\" />\\n    <meta name=\"dc.coverage.temporal\" content=\"1756 - 1963\" />\\n    <meta name=\"dc.identifier\" content=\"https://chroniclingamerica.loc.gov/\" />\\n    <meta name=\"dc.type\" content=\"Text\" />\\n    <meta name=\"dc.type\" content=\"Still image\" />\\n    <meta name=\"dc.type\" content=\"Newspaper\" />\\n    <meta name=\"dc.type\" content=\"Periodical\" />\\n    <meta name=\"dc.type\" content=\"Web page\" />\\n    <meta name=\"dc.rights\" content=\"Text is U.S. Government Work\" />\\n    <link rel=\"dc.rights\" title=\"Rights Restriction\" href=\"//www.loc.gov/text-us-government-work\" />\\n    <link rel=\"dc.rights\" title=\"Rights Restriction\" href=\" https://chroniclingamerica.loc.gov/about/#rights_and_reproductions\" />\\n    <meta name=\"dc.language\" content=\"eng\" />\\n    <link type=\"text/css\" rel=\"stylesheet\" href=\"/media/base.cd2f33504fd2.css\" />\\n    <link type=\"text/css\" rel=\"stylesheet\" href=\"/media/jquery-ui.8f822337c37f.css\" />\\n    <link type=\"text/css\" rel=\"styelsheet\" href=\"/media/ui_carousel.1abe6873cc8d.css\" />\\n    \\n    <meta name=\"robots\" content=\"noindex\">\\n    \\n\\n\\n  </head>\\n  <body>\\n    \\n    <div id=\"container\">\\n    <!-- loc header -->\\n    <div id=\"h-wrapper\" class=\"fix-float\">\\n      <div id=\"header\" class=\"fix-float\">\\n\\t<div class=\"logo\">\\n\\t  <a href=\"https://www.loc.gov/\" accesskey=\"1\"><img src=\"/media/images/img-head/logo-loc.fc4ccd0baaa2.png\" width=\"141\" height=\"32\" alt=\"Library of Congress\" /></a>\\n\\t</div>\\n\\t<div class=\"nav\">\\n          <ul>\\n            <li><a class=\"btn-loc\" href=\"https://ask.loc.gov/\" accesskey=\"2\">Ask a Librarian</a></li>\\n            <li><a class=\"btn-loc\" href=\"https://www.loc.gov/library/libarch-digital.html\" accesskey=\"3\">Digital Collections</a></li>\\n            <li><a class=\"btn-loc\" href=\"http://catalog.loc.gov/\" accesskey=\"4\">Library Catalogs</a></li>\\n          </ul>\\n\\t</div>\\n\\t<div class=\"search\">\\n\\t  <form action=\"https://www.loc.gov/search/\" method=\"get\">\\n            <label class=\"search_label\" for=\"search\">Search</label>\\n            <div class=\"search_wrap\">\\n              <input type=\\'hidden\\' name=\\'new\\' value=\\'true\\'/>\\n              <input id=\"search\" type=\"search\" name=\"q\" maxlength=\"200\" accesskey=\"/\" title=\"Search the Library of Congress website\" placeholder=\"Search Loc.gov\" class=\"locsuggest\" />\\n              <button class=\"button\" id=\"search_button\" type=\"submit\">GO</button>\\n            </div>\\n\\t  </form>\\n\\t</div>\\n      </div>\\n    </div>\\n\\n    <div id=\"crumb_nav\">\\n      <a href=\"https://www.loc.gov/\">The Library of Congress</a>\\n      \\n      \\n\\n      \\n      <span> &gt; </span><a href=\"/\">Chronicling America</a>\\n      \\n      \\n      \\n    </div>\\n\\n    \\n    <div class=\"alert\" role=\"alert\">\\n        Announcement: In 2024, Chronicling America will transition to a new interface. <a href=\"https://www.loc.gov/collections/chronicling-america/about-this-collection/\">Visit the new website</a> for the most recent newspaper additions. <a href=\"https://www.loc.gov/ndnp/migration/\">More info</a>.\\n    </div>\\n\\n\\n    <div id=\"content\">\\n    \\n<div id=\"main_body\">\\n  \\n  \\n    <div id=\"top_branding\">\\n        <div class=\"neh_logo\"><a href=\"https://www.neh.gov\"><img src=\"/media/images/logo_neh.48c59a21b35f.png\" width=\"186\" height=\"46\" alt=\"National Endowment for the Humanities\" /></a></div>\\n        <div class=\"chron_logo\"><a href=\"/\"><img src=\"/media/images/logo_chron_top.701cd5eb0000.png\" width=\"179\" height=\"31\" alt=\"\" /></a></div>\\n        <div class=\"neh_txt\">\\n            <p>Search America&#39;s historic newspaper pages from 1756-1963 or use the U.S. Newspaper Directory to find information about American newspapers published between 1690-present. Chronicling America is sponsored jointly by the <a href=\"https://www.neh.gov\" class=\"external\">National Endowment for the Humanities<span> external link</span></a> and the Library of Congress. <a href=\"/about/\" class=\"ar-more-gray\">Learn more</a></p>\\n        </div><!-- end id:neh_txt -->\\n    </div><!-- end id:top_branding -->\\n    <div class=\"clear\"></div>\\n\\n  \\n\\n    \\n    \\n    <div id=\"tabs-container\" ></div>\\n    \\n    <div class=\"sharetool_container\">\\n        \\n        <p class=\"total-page-count\" hidden>Pages Available: <span class=\"total-page-count-value\"></span></p>\\n\\t    \\n        <!-- Toolbar -->\\n        <div class=\"locshare-this\" id=\\'instance_id1001\\' style=\\'display:none\\'>\\n            \\n            <code>{\\n                  title: \\'Search Results\\',\\n                  download_links: [\\n                  {\\n                   link: \\'https://www.loc.gov/rss/ndnp/ndnp.xml\\',\\n                   label: \\'application/rss+xml\\',\\n                   meta: \\'News about Chronicling America - RSS Feed\\',\\n                  },\\n                  \\n                  \\n                  ]\\n                }\\n            </code>\\n            \\n        </div><!-- end id:instance_id1001 -->\\n        <div class=\"clear-share\"><!-- --></div>\\n    </div>\\n    \\n\\n    \\n    \\n\\n    \\n    <div id=\"main\"><span style=\"width: 100%;\"><a name=\"skip_menu\"></a></span>\\n        \\n        \\n\\n        \\n        \\n    </div>\\n    \\n\\n    \\n    <div class=\"clear\"><!-- --></div>\\n    \\n\\n    \\n    \\n        <div class=\"search_results_ctrl top fix-float\">\\n            \\n\\n    <div class=\"left\">\\n        <span class=\"results\">Results 1 - 20 of 131</span>\\n        <span class=\"pagination\">\\n             \\n     \\n            \\n    \\t     \\n\\n             \\n\\n             \\n             <span class=\"off\">1</span> \\n             \\n\\n             \\n             \\n    \\t     |\\n\\n             \\n\\n             \\n             <a href=\"?date1=1756&amp;rows=20&amp;searchType=basic&amp;state=&amp;date2=1850&amp;proxtext=Illuminati&amp;y=0&amp;x=0&amp;dateFilterType=yearRange&amp;page=2&amp;sort=relevance\">2</a> \\n             \\n\\n             \\n             \\n    \\t     |\\n\\n             \\n\\n             \\n             <a href=\"?date1=1756&amp;rows=20&amp;searchType=basic&amp;state=&amp;date2=1850&amp;proxtext=Illuminati&amp;y=0&amp;x=0&amp;dateFilterType=yearRange&amp;page=3&amp;sort=relevance\">3</a> \\n             \\n\\n             \\n             \\n    \\t     |\\n\\n             \\n             ...\\n             \\n             \\n    \\t     |\\n\\n             \\n\\n             \\n             <a href=\"?date1=1756&amp;rows=20&amp;searchType=basic&amp;state=&amp;date2=1850&amp;proxtext=Illuminati&amp;y=0&amp;x=0&amp;dateFilterType=yearRange&amp;page=5&amp;sort=relevance\">5</a> \\n             \\n\\n             \\n             \\n    \\t     |\\n\\n             \\n\\n             \\n             <a href=\"?date1=1756&amp;rows=20&amp;searchType=basic&amp;state=&amp;date2=1850&amp;proxtext=Illuminati&amp;y=0&amp;x=0&amp;dateFilterType=yearRange&amp;page=6&amp;sort=relevance\">6</a> \\n             \\n\\n             \\n             \\n    \\t     |\\n\\n             \\n\\n             \\n             <a href=\"?date1=1756&amp;rows=20&amp;searchType=basic&amp;state=&amp;date2=1850&amp;proxtext=Illuminati&amp;y=0&amp;x=0&amp;dateFilterType=yearRange&amp;page=7&amp;sort=relevance\">7</a> \\n             \\n\\n             \\n             \\n            \\n             \\n            <a href=\"?date1=1756&amp;rows=20&amp;searchType=basic&amp;state=&amp;date2=1850&amp;proxtext=Illuminati&amp;y=0&amp;x=0&amp;dateFilterType=yearRange&amp;page=2\" class=\"next\"><img src=\"/media/images/pag_next_on.8cb345741a83.gif\" alt=\"next\" width=\"13\" height=\"13\" /></a>\\n             \\n        </span>\\n        <form action=\"\" method=\"GET\" class=\"jumptopage\">\\n            <label for=\"jumptopage\">Jump to page:</label> \\n            <input class=\"std\" type=\"text\" id=\"jumptopage\" name=\"page\" value=\"\" size=\"5\" />\\n            <input type=\"hidden\" name=\"ortext\" value=\"\" />\\n            <input type=\"hidden\" name=\"andtext\" value=\"\" />\\n            <input type=\"hidden\" name=\"phrasetext\" value=\"\" />\\n            <input type=\"hidden\" name=\"proxtext\" value=\"Illuminati\" />\\n            <input type=\"hidden\" name=\"proxValue\" value=\"\" />\\n            <input type=\"hidden\" name=\"date1\" value=\"1756\" />\\n            <input type=\"hidden\" name=\"date2\" value=\"1850\" />\\n            <input type=\"hidden\" name=\"year\" value=\"\" />\\n            <input type=\"hidden\" name=\"sort\" value=\"\" />\\n            <input type=\"hidden\" name=\"dateFilterType\" value=\"yearRange\" />\\n            <input type=\"hidden\" name=\"state\" value=\"\" />\\n            <input type=\"hidden\" name=\"lccn\" value=\"\" />\\n            <input type=\"hidden\" name=\"rows\" value=\"20\" />\\n            <input type=\"hidden\" name=\"sequence\" value=\"\" />\\n            <input type=\"hidden\" name=\"language\" value=\"\" />\\n        <input type=\"submit\" class=\"submit\" value=\"GO\" />\\n      </form>\\n    </div>\\n    <div class=\"right\">\\n        \\n        <span class=\"view\">\\n            <strong>View:</strong>&nbsp; <a href=\"#\" class=\"pag-gallery pag-selected\">Gallery</a> | <a class=\"pag-list\" href=\"/search/pages/results/list/?date1=1756&amp;rows=20&amp;searchType=basic&amp;state=&amp;date2=1850&amp;proxtext=Illuminati&amp;y=0&amp;x=0&amp;dateFilterType=yearRange&amp;page=1&amp;sort=relevance\">List</a>\\n        </span> \\n        \\n    </div>\\n\\n        </div>\\n\\n        <div class=\"search_results_body gallery\">\\n            <div class=\"results_nav\">\\n                <p class=\"term\">131 results\\n                containing\\n                \\n                    <strong>&ldquo;Illuminati&rdquo;</strong>\\n                    \\n                \\n\\n                </p>\\n                <form id=\"results\">\\n                    <p>\\n                        <input class=\"check\" name=\"check_front\" id=\"check_front\" value=1 type=\"checkbox\" />\\n                        <label class=\"norm\" for=\"check_front\">Show only front pages</label> &nbsp;&nbsp;\\n\\n                        <label class=\"norm\" for=\"sort_select\">Sort by:</label>\\n                        <select class=\"sel\" name=\"sort_select\" id=\"sort_select\">\\n                            <option value=\"relevance\">Relevance</option>\\n                            <option value=\"state\">State</option>\\n                            <option value=\"title\">Title</option>\\n                            <option value=\"date\">Date</option>\\n                        </select> &nbsp;  &nbsp;\\n                        <label class=\"norm\" for=\"rpp_select\">Results per page:</label>\\n                        <select class=\"sel\" name=\"rpp_select\" id=\"rpp_select\">\\n                            <option value=\"20\">20</option>\\n                            <option value=\"50\">50</option>\\n                        </select>\\n                    </p>\\n                </form>\\n            </div>\\n            \\n                <table class=\"search_results\" cellspacing=\"0\" summary=\"\">\\n                    <tr>\\n                        \\n                            <td>\\n                                \\n                                    <div class=\"highlite\">\\n                                        <a href=\"/lccn/sn88053122/1831-09-30/ed-1/seq-2/#date1=1756&amp;index=0&amp;rows=20&amp;words=Illuminati&amp;searchType=basic&amp;sequence=0&amp;state=&amp;date2=1850&amp;proxtext=Illuminati&amp;y=0&amp;x=0&amp;dateFilterType=yearRange&amp;page=1\">\\n                                        \\n                                            <img class=\"thumbnail\" src=\"https://chroniclingamerica.loc.gov/iiif/2/deu_kedavra_ver01%2Fdata%2Fsn88053122%2F00271741820%2F1831093001%2F0033.jp2/full/200,/0/default.jpg\" />\\n                                        \\n                                        </a>\\n                                        <br />\\n\\n                                        \\n                                                <a href=\"/lccn/sn88053122/1831-09-30/ed-1/seq-2/#date1=1756&amp;index=0&amp;rows=20&amp;words=Illuminati&amp;searchType=basic&amp;sequence=0&amp;state=&amp;date2=1850&amp;proxtext=Illuminati&amp;y=0&amp;x=0&amp;dateFilterType=yearRange&amp;page=1\">Wilmington expositor. (Wilmington, Del.), September 30, 1831, Image 2</a>\\n                                        \\n\\n                                        \\n                                        <input name=\"id\" value=\"/lccn/sn88053122/1831-09-30/ed-1/seq-2/\" type=\"hidden\"/>\\n                                        <input name=\"words\" value=\"Illuminati\" type=\"hidden\"/>\\n                                    </div>\\n                                \\n                            </td>\\n                            \\n                        \\n                            <td>\\n                                \\n                                    <div class=\"highlite\">\\n                                        <a href=\"/lccn/sn83045634/1798-12-10/ed-1/seq-1/#date1=1756&amp;index=1&amp;rows=20&amp;words=Illuminati&amp;searchType=basic&amp;sequence=0&amp;state=&amp;date2=1850&amp;proxtext=Illuminati&amp;y=0&amp;x=0&amp;dateFilterType=yearRange&amp;page=1\">\\n                                        \\n                                            <img class=\"thumbnail\" src=\"https://chroniclingamerica.loc.gov/iiif/2/me_bangor_ver02%2Fdata%2Fsn83045634%2F00332895059%2F1798121001%2F0130.jp2/full/200,/0/default.jpg\" />\\n                                        \\n                                        </a>\\n                                        <br />\\n\\n                                        \\n                                                <a href=\"/lccn/sn83045634/1798-12-10/ed-1/seq-1/#date1=1756&amp;index=1&amp;rows=20&amp;words=Illuminati&amp;searchType=basic&amp;sequence=0&amp;state=&amp;date2=1850&amp;proxtext=Illuminati&amp;y=0&amp;x=0&amp;dateFilterType=yearRange&amp;page=1\">The gazette. [volume] (Portland, Me.), December 10, 1798, Image 1</a>\\n                                        \\n\\n                                        \\n                                        <input name=\"id\" value=\"/lccn/sn83045634/1798-12-10/ed-1/seq-1/\" type=\"hidden\"/>\\n                                        <input name=\"words\" value=\"Illuminati\" type=\"hidden\"/>\\n                                    </div>\\n                                \\n                            </td>\\n                            \\n                        \\n                            <td>\\n                                \\n                                    <div class=\"highlite\">\\n                                        <a href=\"/lccn/sn83045242/1802-09-15/ed-1/seq-2/#date1=1756&amp;index=2&amp;rows=20&amp;words=Illuminati&amp;searchType=basic&amp;sequence=0&amp;state=&amp;date2=1850&amp;proxtext=Illuminati&amp;y=0&amp;x=0&amp;dateFilterType=yearRange&amp;page=1\">\\n                                        \\n                                            <img class=\"thumbnail\" src=\"https://chroniclingamerica.loc.gov/iiif/2/dlc_burmese_ver01%2Fdata%2Fsn83045242%2Fprint%2F1802091501%2F0002.jp2/full/200,/0/default.jpg\" />\\n                                        \\n                                        </a>\\n                                        <br />\\n\\n                                        \\n                                                <a href=\"/lccn/sn83045242/1802-09-15/ed-1/seq-2/#date1=1756&amp;index=2&amp;rows=20&amp;words=Illuminati&amp;searchType=basic&amp;sequence=0&amp;state=&amp;date2=1850&amp;proxtext=Illuminati&amp;y=0&amp;x=0&amp;dateFilterType=yearRange&amp;page=1\">The national intelligencer and Washington advertiser. [volume] (Washington City [D.C.]), September 15, 1802, Image 2</a>\\n                                        \\n\\n                                        \\n                                        <input name=\"id\" value=\"/lccn/sn83045242/1802-09-15/ed-1/seq-2/\" type=\"hidden\"/>\\n                                        <input name=\"words\" value=\"Illuminati\" type=\"hidden\"/>\\n                                    </div>\\n                                \\n                            </td>\\n                            \\n                        \\n                            <td>\\n                                \\n                                    <div class=\"highlite\">\\n                                        <a href=\"/lccn/sn84024678/1802-04-24/ed-1/seq-4/#date1=1756&amp;index=3&amp;rows=20&amp;words=illuminati+Illuminati&amp;searchType=basic&amp;sequence=0&amp;state=&amp;date2=1850&amp;proxtext=Illuminati&amp;y=0&amp;x=0&amp;dateFilterType=yearRange&amp;page=1\">\\n                                        \\n                                            <img class=\"thumbnail\" src=\"https://chroniclingamerica.loc.gov/iiif/2/vi_naturals_ver01%2Fdata%2Fsn84024678%2F00414184352%2F1802042401%2F0042.jp2/full/200,/0/default.jpg\" />\\n                                        \\n                                        </a>\\n                                        <br />\\n\\n                                        \\n                                                <a href=\"/lccn/sn84024678/1802-04-24/ed-1/seq-4/#date1=1756&amp;index=3&amp;rows=20&amp;words=illuminati+Illuminati&amp;searchType=basic&amp;sequence=0&amp;state=&amp;date2=1850&amp;proxtext=Illuminati&amp;y=0&amp;x=0&amp;dateFilterType=yearRange&amp;page=1\">The recorder, or, Lady&#39;s and gentleman&#39;s miscellany. [volume] (Richmond, Va.), April 24, 1802, Image 4</a>\\n                                        \\n\\n                                        \\n                                        <input name=\"id\" value=\"/lccn/sn84024678/1802-04-24/ed-1/seq-4/\" type=\"hidden\"/>\\n                                        <input name=\"words\" value=\"illuminati Illuminati\" type=\"hidden\"/>\\n                                    </div>\\n                                \\n                            </td>\\n                            \\n                                </tr>\\n                                <tr>\\n                            \\n                        \\n                            <td>\\n                                \\n                                    <div class=\"highlite\">\\n                                        <a href=\"/lccn/sn83016063/1802-09-20/ed-1/seq-2/#date1=1756&amp;index=4&amp;rows=20&amp;words=Illuminati&amp;searchType=basic&amp;sequence=0&amp;state=&amp;date2=1850&amp;proxtext=Illuminati&amp;y=0&amp;x=0&amp;dateFilterType=yearRange&amp;page=1\">\\n                                        \\n                                            <img class=\"thumbnail\" src=\"https://chroniclingamerica.loc.gov/iiif/2/me_bangor_ver02%2Fdata%2Fsn83016063%2F00332895060%2F1802092001%2F0068.jp2/full/200,/0/default.jpg\" />\\n                                        \\n                                        </a>\\n                                        <br />\\n\\n                                        \\n                                                <a href=\"/lccn/sn83016063/1802-09-20/ed-1/seq-2/#date1=1756&amp;index=4&amp;rows=20&amp;words=Illuminati&amp;searchType=basic&amp;sequence=0&amp;state=&amp;date2=1850&amp;proxtext=Illuminati&amp;y=0&amp;x=0&amp;dateFilterType=yearRange&amp;page=1\">Jenks&#39;s Portland gazette. [volume] (Portland [Me.]), September 20, 1802, Image 2</a>\\n                                        \\n\\n                                        \\n                                        <input name=\"id\" value=\"/lccn/sn83016063/1802-09-20/ed-1/seq-2/\" type=\"hidden\"/>\\n                                        <input name=\"words\" value=\"Illuminati\" type=\"hidden\"/>\\n                                    </div>\\n                                \\n                            </td>\\n                            \\n                        \\n                            <td>\\n                                \\n                                    <div class=\"highlite\">\\n                                        <a href=\"/lccn/sn82014894/1825-05-10/ed-1/seq-1/#date1=1756&amp;index=5&amp;rows=20&amp;words=illuminati+Illuminati&amp;searchType=basic&amp;sequence=0&amp;state=&amp;date2=1850&amp;proxtext=Illuminati&amp;y=0&amp;x=0&amp;dateFilterType=yearRange&amp;page=1\">\\n                                        \\n                                            <img class=\"thumbnail\" src=\"https://chroniclingamerica.loc.gov/iiif/2/deu_kedavra_ver01%2Fdata%2Fsn82014894%2F00271740207%2F1825051001%2F0168.jp2/full/200,/0/default.jpg\" />\\n                                        \\n                                        </a>\\n                                        <br />\\n\\n                                        \\n                                                <a href=\"/lccn/sn82014894/1825-05-10/ed-1/seq-1/#date1=1756&amp;index=5&amp;rows=20&amp;words=illuminati+Illuminati&amp;searchType=basic&amp;sequence=0&amp;state=&amp;date2=1850&amp;proxtext=Illuminati&amp;y=0&amp;x=0&amp;dateFilterType=yearRange&amp;page=1\">American watchman and Delaware advertiser. [volume] (Wilmington, Del.), May 10, 1825, Image 1</a>\\n                                        \\n\\n                                        \\n                                        <input name=\"id\" value=\"/lccn/sn82014894/1825-05-10/ed-1/seq-1/\" type=\"hidden\"/>\\n                                        <input name=\"words\" value=\"illuminati Illuminati\" type=\"hidden\"/>\\n                                    </div>\\n                                \\n                            </td>\\n                            \\n                        \\n                            <td>\\n                                \\n                                    <div class=\"highlite\">\\n                                        <a href=\"/lccn/sn82007022/1849-05-22/ed-1/seq-4/#date1=1756&amp;index=6&amp;rows=20&amp;words=Illuminati&amp;searchType=basic&amp;sequence=0&amp;state=&amp;date2=1850&amp;proxtext=Illuminati&amp;y=0&amp;x=0&amp;dateFilterType=yearRange&amp;page=1\">\\n                                        \\n                                            <img class=\"thumbnail\" src=\"https://chroniclingamerica.loc.gov/iiif/2/arhi_devo_ver01%2Fdata%2Fsn82007022%2F00393342894%2F1849052201%2F0450.jp2/full/200,/0/default.jpg\" />\\n                                        \\n                                        </a>\\n                                        <br />\\n\\n                                        \\n                                                <a href=\"/lccn/sn82007022/1849-05-22/ed-1/seq-4/#date1=1756&amp;index=6&amp;rows=20&amp;words=Illuminati&amp;searchType=basic&amp;sequence=0&amp;state=&amp;date2=1850&amp;proxtext=Illuminati&amp;y=0&amp;x=0&amp;dateFilterType=yearRange&amp;page=1\">The Arkansas banner. [volume] (Little Rock, Ark.), May 22, 1849, Image 4</a>\\n                                        \\n\\n                                        \\n                                        <input name=\"id\" value=\"/lccn/sn82007022/1849-05-22/ed-1/seq-4/\" type=\"hidden\"/>\\n                                        <input name=\"words\" value=\"Illuminati\" type=\"hidden\"/>\\n                                    </div>\\n                                \\n                            </td>\\n                            \\n                        \\n                            <td>\\n                                \\n                                    <div class=\"highlite\">\\n                                        <a href=\"/lccn/sn83025582/1763-08-26/ed-1/seq-2/#date1=1756&amp;index=7&amp;rows=20&amp;words=illuminati&amp;searchType=basic&amp;sequence=0&amp;state=&amp;date2=1850&amp;proxtext=Illuminati&amp;y=0&amp;x=0&amp;dateFilterType=yearRange&amp;page=1\">\\n                                        \\n                                            <img class=\"thumbnail\" src=\"https://chroniclingamerica.loc.gov/iiif/2/nhd_bondcliff_ver01%2Fdata%2Fsn83025582%2F00517015064%2F1763082601%2F0093.jp2/full/200,/0/default.jpg\" />\\n                                        \\n                                        </a>\\n                                        <br />\\n\\n                                        \\n                                                <a href=\"/lccn/sn83025582/1763-08-26/ed-1/seq-2/#date1=1756&amp;index=7&amp;rows=20&amp;words=illuminati&amp;searchType=basic&amp;sequence=0&amp;state=&amp;date2=1850&amp;proxtext=Illuminati&amp;y=0&amp;x=0&amp;dateFilterType=yearRange&amp;page=1\">The New-Hampshire gazette and historical chronicle. [volume] (Portsmouth, N.H.), August 26, 1763, Image 2</a>\\n                                        \\n\\n                                        \\n                                        <input name=\"id\" value=\"/lccn/sn83025582/1763-08-26/ed-1/seq-2/\" type=\"hidden\"/>\\n                                        <input name=\"words\" value=\"illuminati\" type=\"hidden\"/>\\n                                    </div>\\n                                \\n                            </td>\\n                            \\n                                </tr>\\n                                <tr>\\n                            \\n                        \\n                            <td>\\n                                \\n                                    <div class=\"highlite\">\\n                                        <a href=\"/lccn/sn83025881/1799-04-13/ed-1/seq-3/#date1=1756&amp;index=8&amp;rows=20&amp;words=Illuminati&amp;searchType=basic&amp;sequence=0&amp;state=&amp;date2=1850&amp;proxtext=Illuminati&amp;y=0&amp;x=0&amp;dateFilterType=yearRange&amp;page=1\">\\n                                        \\n                                            <img class=\"thumbnail\" src=\"https://chroniclingamerica.loc.gov/iiif/2/dlc_laperm_ver01%2Fdata%2Fsn83025881%2Fprint%2F1799041301%2F0003.jp2/full/200,/0/default.jpg\" />\\n                                        \\n                                        </a>\\n                                        <br />\\n\\n                                        \\n                                                <a href=\"/lccn/sn83025881/1799-04-13/ed-1/seq-3/#date1=1756&amp;index=8&amp;rows=20&amp;words=Illuminati&amp;searchType=basic&amp;sequence=0&amp;state=&amp;date2=1850&amp;proxtext=Illuminati&amp;y=0&amp;x=0&amp;dateFilterType=yearRange&amp;page=1\">Gazette of the United States, &amp; Philadelphia daily advertiser. [volume] (Philadelphia [Pa.]), April 13, 1799, Image 3</a>\\n                                        \\n\\n                                        \\n                                        <input name=\"id\" value=\"/lccn/sn83025881/1799-04-13/ed-1/seq-3/\" type=\"hidden\"/>\\n                                        <input name=\"words\" value=\"Illuminati\" type=\"hidden\"/>\\n                                    </div>\\n                                \\n                            </td>\\n                            \\n                        \\n                            <td>\\n                                \\n                                    <div class=\"highlite\">\\n                                        <a href=\"/lccn/sn85025006/1825-04-12/ed-1/seq-1/#date1=1756&amp;index=9&amp;rows=20&amp;words=Illuminati+illuminati&amp;searchType=basic&amp;sequence=0&amp;state=&amp;date2=1850&amp;proxtext=Illuminati&amp;y=0&amp;x=0&amp;dateFilterType=yearRange&amp;page=1\">\\n                                        \\n                                            <img class=\"thumbnail\" src=\"https://chroniclingamerica.loc.gov/iiif/2/vi_hops_ver01%2Fdata%2Fsn85025006%2F00414216341%2F1825041201%2F0178.jp2/full/200,/0/default.jpg\" />\\n                                        \\n                                        </a>\\n                                        <br />\\n\\n                                        \\n                                                <a href=\"/lccn/sn85025006/1825-04-12/ed-1/seq-1/#date1=1756&amp;index=9&amp;rows=20&amp;words=Illuminati+illuminati&amp;searchType=basic&amp;sequence=0&amp;state=&amp;date2=1850&amp;proxtext=Illuminati&amp;y=0&amp;x=0&amp;dateFilterType=yearRange&amp;page=1\">Phenix gazette. [volume] (Alexandria [D.C.]), April 12, 1825, Image 1</a>\\n                                        \\n\\n                                        \\n                                        <input name=\"id\" value=\"/lccn/sn85025006/1825-04-12/ed-1/seq-1/\" type=\"hidden\"/>\\n                                        <input name=\"words\" value=\"Illuminati illuminati\" type=\"hidden\"/>\\n                                    </div>\\n                                \\n                            </td>\\n                            \\n                        \\n                            <td>\\n                                \\n                                    <div class=\"highlite\">\\n                                        <a href=\"/lccn/sn85025815/1805-05-13/ed-1/seq-2/#date1=1756&amp;index=10&amp;rows=20&amp;words=illuminati+Illuminati&amp;searchType=basic&amp;sequence=0&amp;state=&amp;date2=1850&amp;proxtext=Illuminati&amp;y=0&amp;x=0&amp;dateFilterType=yearRange&amp;page=1\">\\n                                        \\n                                            <img class=\"thumbnail\" src=\"https://chroniclingamerica.loc.gov/iiif/2/vi_alpina_ver01%2Fdata%2Fsn85025815%2F00542866573%2F1805051301%2F0501.jp2/full/200,/0/default.jpg\" />\\n                                        \\n                                        </a>\\n                                        <br />\\n\\n                                        \\n                                                <a href=\"/lccn/sn85025815/1805-05-13/ed-1/seq-2/#date1=1756&amp;index=10&amp;rows=20&amp;words=illuminati+Illuminati&amp;searchType=basic&amp;sequence=0&amp;state=&amp;date2=1850&amp;proxtext=Illuminati&amp;y=0&amp;x=0&amp;dateFilterType=yearRange&amp;page=1\">Norfolk gazette and publick ledger. [volume] (Norfolk [Va.]), May 13, 1805, Image 2</a>\\n                                        \\n\\n                                        \\n                                        <input name=\"id\" value=\"/lccn/sn85025815/1805-05-13/ed-1/seq-2/\" type=\"hidden\"/>\\n                                        <input name=\"words\" value=\"illuminati Illuminati\" type=\"hidden\"/>\\n                                    </div>\\n                                \\n                            </td>\\n                            \\n                        \\n                            <td>\\n                                \\n                                    <div class=\"highlite\">\\n                                        <a href=\"/lccn/sn82014385/1809-07-29/ed-1/seq-3/#date1=1756&amp;index=11&amp;rows=20&amp;words=illuminati&amp;searchType=basic&amp;sequence=0&amp;state=&amp;date2=1850&amp;proxtext=Illuminati&amp;y=0&amp;x=0&amp;dateFilterType=yearRange&amp;page=1\">\\n                                        \\n                                            <img class=\"thumbnail\" src=\"https://chroniclingamerica.loc.gov/iiif/2/deu_kedavra_ver01%2Fdata%2Fsn82014385%2F00271740232%2F1809072901%2F0100.jp2/full/200,/0/default.jpg\" />\\n                                        \\n                                        </a>\\n                                        <br />\\n\\n                                        \\n                                                <a href=\"/lccn/sn82014385/1809-07-29/ed-1/seq-3/#date1=1756&amp;index=11&amp;rows=20&amp;words=illuminati&amp;searchType=basic&amp;sequence=0&amp;state=&amp;date2=1850&amp;proxtext=Illuminati&amp;y=0&amp;x=0&amp;dateFilterType=yearRange&amp;page=1\">The Delaware gazette. [volume] (Wilmington [Del.]), July 29, 1809, Image 3</a>\\n                                        \\n\\n                                        \\n                                        <input name=\"id\" value=\"/lccn/sn82014385/1809-07-29/ed-1/seq-3/\" type=\"hidden\"/>\\n                                        <input name=\"words\" value=\"illuminati\" type=\"hidden\"/>\\n                                    </div>\\n                                \\n                            </td>\\n                            \\n                                </tr>\\n                                <tr>\\n                            \\n                        \\n                            <td>\\n                                \\n                                    <div class=\"highlite\">\\n                                        <a href=\"/lccn/sn83045242/1801-03-25/ed-1/seq-3/#date1=1756&amp;index=12&amp;rows=20&amp;words=Illuminati&amp;searchType=basic&amp;sequence=0&amp;state=&amp;date2=1850&amp;proxtext=Illuminati&amp;y=0&amp;x=0&amp;dateFilterType=yearRange&amp;page=1\">\\n                                        \\n                                            <img class=\"thumbnail\" src=\"https://chroniclingamerica.loc.gov/iiif/2/dlc_forest_ver01%2Fdata%2Fsn83045242%2Fprint%2F1801032501%2F0003.jp2/full/200,/0/default.jpg\" />\\n                                        \\n                                        </a>\\n                                        <br />\\n\\n                                        \\n                                                <a href=\"/lccn/sn83045242/1801-03-25/ed-1/seq-3/#date1=1756&amp;index=12&amp;rows=20&amp;words=Illuminati&amp;searchType=basic&amp;sequence=0&amp;state=&amp;date2=1850&amp;proxtext=Illuminati&amp;y=0&amp;x=0&amp;dateFilterType=yearRange&amp;page=1\">The national intelligencer and Washington advertiser. [volume] (Washington City [D.C.]), March 25, 1801, Image 3</a>\\n                                        \\n\\n                                        \\n                                        <input name=\"id\" value=\"/lccn/sn83045242/1801-03-25/ed-1/seq-3/\" type=\"hidden\"/>\\n                                        <input name=\"words\" value=\"Illuminati\" type=\"hidden\"/>\\n                                    </div>\\n                                \\n                            </td>\\n                            \\n                        \\n                            <td>\\n                                \\n                                    <div class=\"highlite\">\\n                                        <a href=\"/lccn/sn83045242/1801-07-08/ed-1/seq-3/#date1=1756&amp;index=13&amp;rows=20&amp;words=illuminati&amp;searchType=basic&amp;sequence=0&amp;state=&amp;date2=1850&amp;proxtext=Illuminati&amp;y=0&amp;x=0&amp;dateFilterType=yearRange&amp;page=1\">\\n                                        \\n                                            <img class=\"thumbnail\" src=\"https://chroniclingamerica.loc.gov/iiif/2/dlc_forest_ver01%2Fdata%2Fsn83045242%2Fprint%2F1801070801%2F0003.jp2/full/200,/0/default.jpg\" />\\n                                        \\n                                        </a>\\n                                        <br />\\n\\n                                        \\n                                                <a href=\"/lccn/sn83045242/1801-07-08/ed-1/seq-3/#date1=1756&amp;index=13&amp;rows=20&amp;words=illuminati&amp;searchType=basic&amp;sequence=0&amp;state=&amp;date2=1850&amp;proxtext=Illuminati&amp;y=0&amp;x=0&amp;dateFilterType=yearRange&amp;page=1\">The national intelligencer and Washington advertiser. [volume] (Washington City [D.C.]), July 08, 1801, Image 3</a>\\n                                        \\n\\n                                        \\n                                        <input name=\"id\" value=\"/lccn/sn83045242/1801-07-08/ed-1/seq-3/\" type=\"hidden\"/>\\n                                        <input name=\"words\" value=\"illuminati\" type=\"hidden\"/>\\n                                    </div>\\n                                \\n                            </td>\\n                            \\n                        \\n                            <td>\\n                                \\n                                    <div class=\"highlite\">\\n                                        <a href=\"/lccn/sn83016063/1800-12-08/ed-1/seq-1/#date1=1756&amp;index=14&amp;rows=20&amp;words=ILLUMINATI&amp;searchType=basic&amp;sequence=0&amp;state=&amp;date2=1850&amp;proxtext=Illuminati&amp;y=0&amp;x=0&amp;dateFilterType=yearRange&amp;page=1\">\\n                                        \\n                                            <img class=\"thumbnail\" src=\"https://chroniclingamerica.loc.gov/iiif/2/me_bangor_ver02%2Fdata%2Fsn83016063%2F00332895059%2F1800120801%2F0503.jp2/full/200,/0/default.jpg\" />\\n                                        \\n                                        </a>\\n                                        <br />\\n\\n                                        \\n                                                <a href=\"/lccn/sn83016063/1800-12-08/ed-1/seq-1/#date1=1756&amp;index=14&amp;rows=20&amp;words=ILLUMINATI&amp;searchType=basic&amp;sequence=0&amp;state=&amp;date2=1850&amp;proxtext=Illuminati&amp;y=0&amp;x=0&amp;dateFilterType=yearRange&amp;page=1\">Jenks&#39;s Portland gazette. [volume] (Portland [Me.]), December 08, 1800, Image 1</a>\\n                                        \\n\\n                                        \\n                                        <input name=\"id\" value=\"/lccn/sn83016063/1800-12-08/ed-1/seq-1/\" type=\"hidden\"/>\\n                                        <input name=\"words\" value=\"ILLUMINATI\" type=\"hidden\"/>\\n                                    </div>\\n                                \\n                            </td>\\n                            \\n                        \\n                            <td>\\n                                \\n                                    <div class=\"highlite\">\\n                                        <a href=\"/lccn/sn83016063/1800-12-15/ed-1/seq-4/#date1=1756&amp;index=15&amp;rows=20&amp;words=ILLUMINATI&amp;searchType=basic&amp;sequence=0&amp;state=&amp;date2=1850&amp;proxtext=Illuminati&amp;y=0&amp;x=0&amp;dateFilterType=yearRange&amp;page=1\">\\n                                        \\n                                            <img class=\"thumbnail\" src=\"https://chroniclingamerica.loc.gov/iiif/2/me_bangor_ver02%2Fdata%2Fsn83016063%2F00332895059%2F1800121501%2F0510.jp2/full/200,/0/default.jpg\" />\\n                                        \\n                                        </a>\\n                                        <br />\\n\\n                                        \\n                                                <a href=\"/lccn/sn83016063/1800-12-15/ed-1/seq-4/#date1=1756&amp;index=15&amp;rows=20&amp;words=ILLUMINATI&amp;searchType=basic&amp;sequence=0&amp;state=&amp;date2=1850&amp;proxtext=Illuminati&amp;y=0&amp;x=0&amp;dateFilterType=yearRange&amp;page=1\">Jenks&#39;s Portland gazette. [volume] (Portland [Me.]), December 15, 1800, Image 4</a>\\n                                        \\n\\n                                        \\n                                        <input name=\"id\" value=\"/lccn/sn83016063/1800-12-15/ed-1/seq-4/\" type=\"hidden\"/>\\n                                        <input name=\"words\" value=\"ILLUMINATI\" type=\"hidden\"/>\\n                                    </div>\\n                                \\n                            </td>\\n                            \\n                                </tr>\\n                                <tr>\\n                            \\n                        \\n                            <td>\\n                                \\n                                    <div class=\"highlite\">\\n                                        <a href=\"/lccn/sn83045634/1799-01-14/ed-1/seq-1/#date1=1756&amp;index=16&amp;rows=20&amp;words=Illuminati&amp;searchType=basic&amp;sequence=0&amp;state=&amp;date2=1850&amp;proxtext=Illuminati&amp;y=0&amp;x=0&amp;dateFilterType=yearRange&amp;page=1\">\\n                                        \\n                                            <img class=\"thumbnail\" src=\"https://chroniclingamerica.loc.gov/iiif/2/me_bangor_ver02%2Fdata%2Fsn83045634%2F00332895059%2F1799011401%2F0150.jp2/full/200,/0/default.jpg\" />\\n                                        \\n                                        </a>\\n                                        <br />\\n\\n                                        \\n                                                <a href=\"/lccn/sn83045634/1799-01-14/ed-1/seq-1/#date1=1756&amp;index=16&amp;rows=20&amp;words=Illuminati&amp;searchType=basic&amp;sequence=0&amp;state=&amp;date2=1850&amp;proxtext=Illuminati&amp;y=0&amp;x=0&amp;dateFilterType=yearRange&amp;page=1\">The gazette. [volume] (Portland, Me.), January 14, 1799, Image 1</a>\\n                                        \\n\\n                                        \\n                                        <input name=\"id\" value=\"/lccn/sn83045634/1799-01-14/ed-1/seq-1/\" type=\"hidden\"/>\\n                                        <input name=\"words\" value=\"Illuminati\" type=\"hidden\"/>\\n                                    </div>\\n                                \\n                            </td>\\n                            \\n                        \\n                            <td>\\n                                \\n                                    <div class=\"highlite\">\\n                                        <a href=\"/lccn/sn83021188/1801-12-12/ed-1/seq-2/#date1=1756&amp;index=17&amp;rows=20&amp;words=Illuminati&amp;searchType=basic&amp;sequence=0&amp;state=&amp;date2=1850&amp;proxtext=Illuminati&amp;y=0&amp;x=0&amp;dateFilterType=yearRange&amp;page=1\">\\n                                        \\n                                            <img class=\"thumbnail\" src=\"https://chroniclingamerica.loc.gov/iiif/2/rp_beholder_ver02%2Fdata%2Fsn83021188%2F00514153140%2F1801121201%2F0039.jp2/full/200,/0/default.jpg\" />\\n                                        \\n                                        </a>\\n                                        <br />\\n\\n                                        \\n                                                <a href=\"/lccn/sn83021188/1801-12-12/ed-1/seq-2/#date1=1756&amp;index=17&amp;rows=20&amp;words=Illuminati&amp;searchType=basic&amp;sequence=0&amp;state=&amp;date2=1850&amp;proxtext=Illuminati&amp;y=0&amp;x=0&amp;dateFilterType=yearRange&amp;page=1\">Rhode-Island Republican. [volume] (Newport, R.I.), December 12, 1801, Image 2</a>\\n                                        \\n\\n                                        \\n                                        <input name=\"id\" value=\"/lccn/sn83021188/1801-12-12/ed-1/seq-2/\" type=\"hidden\"/>\\n                                        <input name=\"words\" value=\"Illuminati\" type=\"hidden\"/>\\n                                    </div>\\n                                \\n                            </td>\\n                            \\n                        \\n                            <td>\\n                                \\n                                    <div class=\"highlite\">\\n                                        <a href=\"/lccn/sn84024011/1802-09-17/ed-1/seq-3/#date1=1756&amp;index=18&amp;rows=20&amp;words=Illuminati&amp;searchType=basic&amp;sequence=0&amp;state=&amp;date2=1850&amp;proxtext=Illuminati&amp;y=0&amp;x=0&amp;dateFilterType=yearRange&amp;page=1\">\\n                                        \\n                                            <img class=\"thumbnail\" src=\"https://chroniclingamerica.loc.gov/iiif/2/vi_flyingsquirrels_ver03%2Fdata%2Fsn84024011%2F00414215993%2F1802091701%2F0377.jp2/full/200,/0/default.jpg\" />\\n                                        \\n                                        </a>\\n                                        <br />\\n\\n                                        \\n                                                <a href=\"/lccn/sn84024011/1802-09-17/ed-1/seq-3/#date1=1756&amp;index=18&amp;rows=20&amp;words=Illuminati&amp;searchType=basic&amp;sequence=0&amp;state=&amp;date2=1850&amp;proxtext=Illuminati&amp;y=0&amp;x=0&amp;dateFilterType=yearRange&amp;page=1\">Alexandria advertiser and commercial intelligencer. [volume] (Alexandria [Va.]), September 17, 1802, Image 3</a>\\n                                        \\n\\n                                        \\n                                        <input name=\"id\" value=\"/lccn/sn84024011/1802-09-17/ed-1/seq-3/\" type=\"hidden\"/>\\n                                        <input name=\"words\" value=\"Illuminati\" type=\"hidden\"/>\\n                                    </div>\\n                                \\n                            </td>\\n                            \\n                        \\n                            <td>\\n                                \\n                                    <div class=\"highlite\">\\n                                        <a href=\"/lccn/sn84024013/1809-05-29/ed-1/seq-2/#date1=1756&amp;index=19&amp;rows=20&amp;words=Illuminati&amp;searchType=basic&amp;sequence=0&amp;state=&amp;date2=1850&amp;proxtext=Illuminati&amp;y=0&amp;x=0&amp;dateFilterType=yearRange&amp;page=1\">\\n                                        \\n                                            <img class=\"thumbnail\" src=\"https://chroniclingamerica.loc.gov/iiif/2/vi_flyingsquirrels_ver03%2Fdata%2Fsn84024013%2F00414216092%2F1809052901%2F0584.jp2/full/200,/0/default.jpg\" />\\n                                        \\n                                        </a>\\n                                        <br />\\n\\n                                        \\n                                                <a href=\"/lccn/sn84024013/1809-05-29/ed-1/seq-2/#date1=1756&amp;index=19&amp;rows=20&amp;words=Illuminati&amp;searchType=basic&amp;sequence=0&amp;state=&amp;date2=1850&amp;proxtext=Illuminati&amp;y=0&amp;x=0&amp;dateFilterType=yearRange&amp;page=1\">Alexandria daily gazette, commercial &amp; political. [volume] (Alexandria [Va.]), May 29, 1809, Image 2</a>\\n                                        \\n\\n                                        \\n                                        <input name=\"id\" value=\"/lccn/sn84024013/1809-05-29/ed-1/seq-2/\" type=\"hidden\"/>\\n                                        <input name=\"words\" value=\"Illuminati\" type=\"hidden\"/>\\n                                    </div>\\n                                \\n                            </td>\\n                            \\n                        \\n                    </tr>\\n                </table>\\n                <div class=\"txt_wrapper\">\\n                    <p class=\"backtotop gallery\"><a href=\"#skip_menu\">Top</a></p>\\n                </div>\\n\\n            \\n        </div>\\n\\n        <div class=\"search_results_ctrl bot fix-float\">\\n            \\n\\n    <div class=\"left\">\\n        <span class=\"results\">Results 1 - 20 of 131</span>\\n        <span class=\"pagination\">\\n             \\n     \\n            \\n    \\t     \\n\\n             \\n\\n             \\n             <span class=\"off\">1</span> \\n             \\n\\n             \\n             \\n    \\t     |\\n\\n             \\n\\n             \\n             <a href=\"?date1=1756&amp;rows=20&amp;searchType=basic&amp;state=&amp;date2=1850&amp;proxtext=Illuminati&amp;y=0&amp;x=0&amp;dateFilterType=yearRange&amp;page=2&amp;sort=relevance\">2</a> \\n             \\n\\n             \\n             \\n    \\t     |\\n\\n             \\n\\n             \\n             <a href=\"?date1=1756&amp;rows=20&amp;searchType=basic&amp;state=&amp;date2=1850&amp;proxtext=Illuminati&amp;y=0&amp;x=0&amp;dateFilterType=yearRange&amp;page=3&amp;sort=relevance\">3</a> \\n             \\n\\n             \\n             \\n    \\t     |\\n\\n             \\n             ...\\n             \\n             \\n    \\t     |\\n\\n             \\n\\n             \\n             <a href=\"?date1=1756&amp;rows=20&amp;searchType=basic&amp;state=&amp;date2=1850&amp;proxtext=Illuminati&amp;y=0&amp;x=0&amp;dateFilterType=yearRange&amp;page=5&amp;sort=relevance\">5</a> \\n             \\n\\n             \\n             \\n    \\t     |\\n\\n             \\n\\n             \\n             <a href=\"?date1=1756&amp;rows=20&amp;searchType=basic&amp;state=&amp;date2=1850&amp;proxtext=Illuminati&amp;y=0&amp;x=0&amp;dateFilterType=yearRange&amp;page=6&amp;sort=relevance\">6</a> \\n             \\n\\n             \\n             \\n    \\t     |\\n\\n             \\n\\n             \\n             <a href=\"?date1=1756&amp;rows=20&amp;searchType=basic&amp;state=&amp;date2=1850&amp;proxtext=Illuminati&amp;y=0&amp;x=0&amp;dateFilterType=yearRange&amp;page=7&amp;sort=relevance\">7</a> \\n             \\n\\n             \\n             \\n            \\n             \\n            <a href=\"?date1=1756&amp;rows=20&amp;searchType=basic&amp;state=&amp;date2=1850&amp;proxtext=Illuminati&amp;y=0&amp;x=0&amp;dateFilterType=yearRange&amp;page=2\" class=\"next\"><img src=\"/media/images/pag_next_on.8cb345741a83.gif\" alt=\"next\" width=\"13\" height=\"13\" /></a>\\n             \\n        </span>\\n        <form action=\"\" method=\"GET\" class=\"jumptopage\">\\n            <label for=\"jumptopage\">Jump to page:</label> \\n            <input class=\"std\" type=\"text\" id=\"jumptopage\" name=\"page\" value=\"\" size=\"5\" />\\n            <input type=\"hidden\" name=\"ortext\" value=\"\" />\\n            <input type=\"hidden\" name=\"andtext\" value=\"\" />\\n            <input type=\"hidden\" name=\"phrasetext\" value=\"\" />\\n            <input type=\"hidden\" name=\"proxtext\" value=\"Illuminati\" />\\n            <input type=\"hidden\" name=\"proxValue\" value=\"\" />\\n            <input type=\"hidden\" name=\"date1\" value=\"1756\" />\\n            <input type=\"hidden\" name=\"date2\" value=\"1850\" />\\n            <input type=\"hidden\" name=\"year\" value=\"\" />\\n            <input type=\"hidden\" name=\"sort\" value=\"\" />\\n            <input type=\"hidden\" name=\"dateFilterType\" value=\"yearRange\" />\\n            <input type=\"hidden\" name=\"state\" value=\"\" />\\n            <input type=\"hidden\" name=\"lccn\" value=\"\" />\\n            <input type=\"hidden\" name=\"rows\" value=\"20\" />\\n            <input type=\"hidden\" name=\"sequence\" value=\"\" />\\n            <input type=\"hidden\" name=\"language\" value=\"\" />\\n        <input type=\"submit\" class=\"submit\" value=\"GO\" />\\n      </form>\\n    </div>\\n    <div class=\"right\">\\n        \\n        <span class=\"view\">\\n            <strong>View:</strong>&nbsp; <a href=\"#\" class=\"pag-gallery pag-selected\">Gallery</a> | <a class=\"pag-list\" href=\"/search/pages/results/list/?date1=1756&amp;rows=20&amp;searchType=basic&amp;state=&amp;date2=1850&amp;proxtext=Illuminati&amp;y=0&amp;x=0&amp;dateFilterType=yearRange&amp;page=1&amp;sort=relevance\">List</a>\\n        </span> \\n        \\n    </div>\\n\\n        </div>\\n    \\n\\n\\n\\n</div><!-- end id:main_body -->\\n\\n<div id=\"omni\">\\n    <input type=\"hidden\" id=\"eVar4\" value=\"\" />\\n    <input type=\"hidden\" id=\"prop13\" value=\"\" />\\n</div>\\n\\n\\n    </div>\\n\\n    <!-- locfoot -->\\n    <!-- begin: global footer -->\\n    <div id=\"f-wrapper\" class=\"fix-float\">\\n      <div id=\"footer\" class=\"fix-float\">\\n\\t<div class=\"cols heading\">\\n          <h2>Connect with the Library</h2>\\n          <p><a class=\"ar-more foot\" href=\"https://www.loc.gov/homepage/connect.html\">All ways to connect</a></p>\\n\\t</div>\\n\\t<div class=\"cols\">\\n          <h3>Find Us On</h3>\\n          <a href=\"http://www.facebook.com/libraryofcongress\"><img src=\"/media/images/img-foot/facebook.e3f5c4925eb3.gif\" alt=\"Facebook\" width=\"16\" height=\"16\" /></a> &nbsp; <a href=\"http://twitter.com/#!/librarycongress\"><img src=\"/media/images/img-foot/twitter.f7a021a01fea.gif\" alt=\"Twitter\" width=\"16\" height=\"16\" /></a> &nbsp; <a href=\"http://www.youtube.com/libraryofcongress\"><img src=\"/media/images/img-foot/youtube.b15d8dd5c7e8.gif\" alt=\"YouTube\" width=\"16\" height=\"16\" /></a> &nbsp; <a href=\"http://www.flickr.com/photos/library_of_congress/\"><img src=\"/media/images/img-foot/flickr.f7923742ee9b.gif\" alt=\"Flickr\" width=\"16\" height=\"16\" /></a>\\n\\t</div>\\n\\t<div class=\"cols\">\\n          <h3>Subscribe &amp; Comment</h3>\\n          <ul class=\"plain\">\\n            <li><a href=\"https://www.loc.gov/rss/\">RSS &amp; E-Mail</a></li>\\n            <li><a href=\"https://blogs.loc.gov/\">Blogs</a></li>\\n          </ul>\\n\\t</div>\\n\\t<div class=\"cols\">\\n          <h3>Download &amp; Play</h3>\\n          <ul class=\"plain\">\\n            <li><a href=\"https://www.loc.gov/podcasts/\">Podcasts</a></li>\\n            <li><a href=\"https://www.loc.gov/today/cyberlc/index.php\">Webcasts</a></li>\\n            <li><a href=\"http://itunes.apple.com/us/institution/library-of-congress/id386017159\" class=\"external foot mod\">iTunesU<span> (external link)</span></a></li>\\n          </ul>\\n\\t</div>\\n\\t<div class=\"cols\">\\n          <h3>Questions</h3>\\n          <ul class=\"plain\">\\n            <li><a href=\"https://ask.loc.gov/\">Ask a Librarian</a></li>\\n            <li><a href=\"https://www.loc.gov/help/contact-general.html\" accesskey=\"8\">Contact Us</a></li>\\n          </ul>\\n\\t</div>\\n\\t<div class=\"clear\"><!-- --></div>\\n\\t<p class=\"links\">\\n\\t  <a href=\"https://www.loc.gov/about/\">About</a> |\\n\\t  <a href=\"https://www.loc.gov/pressroom/login\">Press</a> |\\n\\t  <a href=\"https://www.loc.gov/hr/employment/index.php\">Jobs</a> |\\n\\t  <a href=\"https://www.loc.gov/philanthropy/index.php\">Donate</a>\\n\\t  <br />\\n\\t  <a href=\"https://www.loc.gov/about/oig/\">Inspector General</a> |\\n\\t  <a href=\"https://www.loc.gov/homepage/legal.html\" accesskey=\"9\">Legal</a> |\\n\\t  <a href=\"https://www.loc.gov/access/\" accesskey=\"0\">Accessibility</a> |\\n\\t  <a href=\"https://www.loc.gov/global/disclaim.html\">External Link Disclaimer</a> |\\n\\t  <a href=\"http://www.usa.gov/\">USA.gov</a>\\n\\t</p>\\n\\t<span class=\"speech\"><a href=\"https://www.loc.gov/access/web.html\">Speech Enabled</a></span>\\n      </div><!-- end id:footer -->\\n    </div><!-- end id:f-wrapper -->\\n    <!-- end: global footer -->\\n    </div>\\n    \\n    \\n\\n\\n\\n\\n\\n    <script>\\n      CDN_URL = \"https://cdn.loc.gov\";\\n      JQUERY = \"/media/js/jquery.min.883bf0ec72cf.js\";\\n      LAB_URL = \"/media/js/lab.min.e842152f94c9.js\";\\n    </script>\\n    <script src=\"/media/js/jquery.min.883bf0ec72cf.js\"></script>\\n    <script defer src=\"/media/js/suggest.min.a4038a2dd98b.js\"></script>\\n    \\n<script src=\"/media/vendor/jquery-ui.2aec9f3d57b8.js\" ></script>\\n\\n<script type=\"text/javascript\">\\njQuery(function ($) {\\n    var searchString = window.location.search.substring(1);\\n    if (searchString) {\\n        tab_url = \\'/tabs?\\' + searchString;\\n    } else {\\n        tab_url = \\'/tabs\\';\\n    }\\n    $(\\'#tabs-container\\').load(tab_url, function() {\\n        $(\"#tabs-container\").trigger(\\'chronam.tabsloaded\\', {});\\n    });\\n});\\n</script>\\n\\n<script type=\"text/javascript\">\\njQuery(function ($) {\\n    $.getJSON(\"/reports/total-page-count.json\", function (data) {\\n        if (data.total_page_count) {\\n            $(\".total-page-count\").removeAttr(\\'hidden\\');\\n            $(\".total-page-count-value\").text(Number(data.total_page_count).toLocaleString());\\n        }\\n    })\\n});\\n</script>\\n\\n<script type=\"text/javascript\" src=\"/media/vendor/jquery.ba-bbq.min.07c72646c769.js\"></script>\\n<script type=\"text/javascript\" src=\"/media/js/main.ba81888e49b0.js\"></script>\\n\\n\\n    \\n        <script type=\"text/javascript\" src=\"https://cdn.loc.gov/sites/chronicling-america.js\"></script>\\n    \\n\\n\\n\\n<script type=\"text/javascript\" src=\"/media/vendor/jquery.ba-bbq.min.07c72646c769.js\"></script>\\n<script type=\"text/javascript\">\\n\\njQuery(function($){\\n    $.ajaxSettings.traditional = true;\\n    $(\"#sort_select option[value=\\'relevance\\']\").attr(\"selected\", true);\\n    $(\"#rpp_select option[value=\\'20\\']\").attr(\"selected\", true);\\n    if ($.deparam.querystring().sequence == 1){\\n        $(\"input#check_front\").attr(\\'checked\\', \\'checked\\');\\n    }\\n    $(\"#rpp_select\").change(function(){\\n        window.location=$.param.querystring(location.href, {\\'rows\\': this.value});\\n    });\\n    $(\"#sort_select\").change(function(){\\n        window.location=$.param.querystring(location.href, {\\'sort\\': this.value});\\n    });\\n    $(\"#check_front\").change(function(){\\n        var checked = $(\"#check_front\").attr(\"checked\") ? 1 : \\'\\';\\n        window.location=$.param.querystring(location.href, {\\'sequence\\': checked});\\n    });\\n\\n});\\n</script>\\n\\n<script type=\"text/javascript\" src=\"/media/js/search.3f47d3efc327.js\"></script>\\n<script type=\"text/javascript\">\\nvar padding = 5;\\nvar offset = 2; /* Think the \\'a\\' tag around the thumbnail has a border\\nthat shifts the thumbnail down and to the right a couple pixels... so\\nwe do the same with the highlights */\\n\\n\\nfunction add_highlights(div) {\\n    var image = div.find(\".thumbnail\");\\n    var id = div.find(\"input[name=\\'id\\']\").attr(\"value\");\\n    var words = div.find(\"input[name=\\'words\\']\").attr(\"value\");\\n    var width = image.width();\\n    var height = image.height();\\n    if (width > 0 && height > 0) {\\n        $.getJSON(\"\" + id + \"coordinates/\", function(all_coordinates) {\\n            var vScale = height / all_coordinates[\"height\"];\\n            var hScale = width / all_coordinates[\"width\"];\\n\\n            var matchingWords = ChronAmSearch.matchWords(\\n                words,\\n                all_coordinates\\n            );\\n\\n            $.each(matchingWords, function (index, word_on_page) {\\n                var coordinates = all_coordinates[\"coords\"][word_on_page];\\n                for (var k in coordinates) {\\n                    var v = coordinates[k];\\n                    var $h = $(\\'<img class=\"highlite\">\\');\\n                    $h.attr(\"src\", \"/media/images/red_60.660e1a46ff2f.png\");\\n                    $h.css({\\n                        top: (v[1] * vScale - padding / 2.0 + offset) + \"px\",\\n                        left: (v[0] * hScale - padding / 2.0 + offset) + \"px\",\\n                        height: (v[3] * vScale + padding) + \"px\",\\n                        width: (v[2] * hScale + padding) + \"px\"\\n                    });\\n                    $h.appendTo(div);\\n                }\\n            });\\n        });\\n    }\\n}\\n\\nfunction initHighlights() {\\n    // add highlights after images load\\n    $(\"img.thumbnail\").load(function(i) {\\n        var div = $(this).parents(\"div.highlite\");\\n        add_highlights(div);\\n    });\\n\\n    // add highlights for already loaded images\\n    // TODO: prevent from potentially adding highlights twice\\n    $(\"div.highlite\").each(function(i) {\\n        var div = $(this);\\n        add_highlights(div);\\n    });\\n}\\n\\nif ($.browser.msie && $.browser.version < 7) {\\n    window.onload = initHighlights;\\n} else {\\n    $(document).ready(initHighlights);\\n}\\n</script>\\n\\n  </body>\\n</html>\\n'\n",
      "No result items found.\n"
     ]
    }
   ],
   "source": [
    "import requests\n",
    "from bs4 import BeautifulSoup\n",
    "\n",
    "def scrape_results_page(url):\n",
    "    # Send a GET request to the search results page\n",
    "    response = requests.get(url)\n",
    "    \n",
    "    # Check if the request was successful (status code 200)\n",
    "    if response.status_code == 200:\n",
    "        # Print out the response content to check if we're getting the HTML content correctly\n",
    "        print(response.content)\n",
    "        \n",
    "        # Parse the HTML content of the page\n",
    "        soup = BeautifulSoup(response.content, 'html.parser')\n",
    "        \n",
    "        # Find all the result items\n",
    "        result_items = soup.find_all('div', class_='item')\n",
    "        \n",
    "        # Check if any result items were found\n",
    "        if result_items:\n",
    "            print(\"Result items found:\")\n",
    "            for item in result_items:\n",
    "                print(item)\n",
    "        else:\n",
    "            print(\"No result items found.\")\n",
    "    else:\n",
    "        print(f\"Error: Unable to fetch data from the website '{url}'.\")\n",
    "\n",
    "# URL of the original results page\n",
    "results_page_url = 'https://chroniclingamerica.loc.gov/search/pages/results/?state=&date1=1756&date2=1850&proxtext=Illuminati&x=0&y=0&dateFilterType=yearRange&rows=20&searchType=basic'\n",
    "\n",
    "# Scrape the results page and print the response content and result items\n",
    "scrape_results_page(results_page_url)"
   ]
  },
  {
   "cell_type": "code",
   "execution_count": 18,
   "id": "78f0730e-d7c8-4204-8c31-74a2b64c8cc7",
   "metadata": {},
   "outputs": [
    {
     "name": "stdout",
     "output_type": "stream",
     "text": [
      "b'<!DOCTYPE html>\\n<html>\\n  <head profile=\"http://dublincore.org/documents/2008/08/04/dc-html/\">\\n    \\n    \\n    \\n      <title>Search Results \\xc2\\xab Chronicling America \\xc2\\xab Library of Congress</title>\\n      <meta http-equiv=\"Content-Language\" content=\"en-us\" />\\n      <meta http-equiv=\"Content-Type\" content=\"text/html; charset=utf-8\" />\\n      <meta name=\"viewport\" content=\"width=device-width, initial-scale=1.0, maximum-scale=1.0, user-scalable=0\"/>\\n      <link rel=\"stylesheet\" media=\"screen\" type=\"text/css\" href=/media/css/lochead.06d82f58f829.css />\\n      <link rel=\"stylesheet\" media=\"screen\" type=\"text/css\" href=/media/css/locfoot.67de26538680.css />\\n      <link rel=\"preload\" as=\"script\" href=\"/media/js/jquery.min.883bf0ec72cf.js\">\\n      <link rel=\"preload\" as=\"script\" href=\"/media/js/lab.min.e842152f94c9.js\">\\n      \\n        <script async src=\"https://assets.adobedtm.com/f94f5647937d/624e2240e90d/launch-0610ec681aff.min.js\"></script>\\n      \\n    \\n    <style>\\n        .alert {\\n            clear: both;\\n            padding: 10px 14px;\\n            border-bottom: 1px solid #000;\\n            font: normal 11px Verdana, Arial, Helvetica, sans-serif;\\n            background-color: #0076AD;\\n            margin: .25rem 0 1rem;\\n            margin-top: 0px;\\n            color: #FFF;\\n        }\\n\\n        .alert a {\\n            color: #FFF !important;\\n            text-decoration: underline;\\n        }\\n\\n        .alert a:hover {\\n            text-decoration: none;\\n        }\\n    </style>\\n\\n    \\n    <link href=\"/media/img-std/fav.0537fd9021c6.ico\" rel=\"shortcut icon\"/>\\n    <link title=\"NDNP Page Search\" href=\"/search/pages/opensearch.xml\"\\n          rel=\"search\" type=\"application/opensearchdescription+xml\" />\\n    <link title=\"NDNP Title Search\" href=\"/search/titles/opensearch.xml\"\\n          rel=\"search\" type=\"application/opensearchdescription+xml\" />\\n    <link rel=\"alternate\" type=\"application/rss+xml\" title=\"News about Chronicling America - RSS Feed\"\\n          href=\"https://www.loc.gov/rss/ndnp/ndnp.xml\" />\\n    <meta http-equiv=\"Content-Language\" content=\"en-us\" />\\n    <meta http-equiv=\"Content-Type\" content=\"text/html; charset=utf-8\" />\\n    <meta name=\"dc.title\" content=\"Chronicling America | Library of Congress\" />\\n    <meta name=\"description\" content=\"Search America\\'s historic newspaper pages from 1756-1963 or use the U.S. Newspaper Directory to find information about American newspapers published between 1690-present. \" />\\n    <meta name=\"dc.contributor\" content=\"National Endowment for the Humanities\" />\\n    <meta name=\"dc.subject\" content=\"American History\" />\\n    <meta name=\"dc.subject\" content=\"Historical Newspapers\" />\\n    <meta name=\"dc.subject\" content=\"America\\'s Historic Newspapers\" />\\n    <meta name=\"dc.subject\" content=\"Chronicling America\" />\\n    <meta name=\"dc.coverage.spatial\" content=\"United States of America\" />\\n    <meta name=\"dc.coverage.temporal\" content=\"1756 - 1963\" />\\n    <meta name=\"dc.identifier\" content=\"https://chroniclingamerica.loc.gov/\" />\\n    <meta name=\"dc.type\" content=\"Text\" />\\n    <meta name=\"dc.type\" content=\"Still image\" />\\n    <meta name=\"dc.type\" content=\"Newspaper\" />\\n    <meta name=\"dc.type\" content=\"Periodical\" />\\n    <meta name=\"dc.type\" content=\"Web page\" />\\n    <meta name=\"dc.rights\" content=\"Text is U.S. Government Work\" />\\n    <link rel=\"dc.rights\" title=\"Rights Restriction\" href=\"//www.loc.gov/text-us-government-work\" />\\n    <link rel=\"dc.rights\" title=\"Rights Restriction\" href=\" https://chroniclingamerica.loc.gov/about/#rights_and_reproductions\" />\\n    <meta name=\"dc.language\" content=\"eng\" />\\n    <link type=\"text/css\" rel=\"stylesheet\" href=\"/media/base.cd2f33504fd2.css\" />\\n    <link type=\"text/css\" rel=\"stylesheet\" href=\"/media/jquery-ui.8f822337c37f.css\" />\\n    <link type=\"text/css\" rel=\"styelsheet\" href=\"/media/ui_carousel.1abe6873cc8d.css\" />\\n    \\n    <meta name=\"robots\" content=\"noindex\">\\n    \\n\\n\\n  </head>\\n  <body>\\n    \\n    <div id=\"container\">\\n    <!-- loc header -->\\n    <div id=\"h-wrapper\" class=\"fix-float\">\\n      <div id=\"header\" class=\"fix-float\">\\n\\t<div class=\"logo\">\\n\\t  <a href=\"https://www.loc.gov/\" accesskey=\"1\"><img src=\"/media/images/img-head/logo-loc.fc4ccd0baaa2.png\" width=\"141\" height=\"32\" alt=\"Library of Congress\" /></a>\\n\\t</div>\\n\\t<div class=\"nav\">\\n          <ul>\\n            <li><a class=\"btn-loc\" href=\"https://ask.loc.gov/\" accesskey=\"2\">Ask a Librarian</a></li>\\n            <li><a class=\"btn-loc\" href=\"https://www.loc.gov/library/libarch-digital.html\" accesskey=\"3\">Digital Collections</a></li>\\n            <li><a class=\"btn-loc\" href=\"http://catalog.loc.gov/\" accesskey=\"4\">Library Catalogs</a></li>\\n          </ul>\\n\\t</div>\\n\\t<div class=\"search\">\\n\\t  <form action=\"https://www.loc.gov/search/\" method=\"get\">\\n            <label class=\"search_label\" for=\"search\">Search</label>\\n            <div class=\"search_wrap\">\\n              <input type=\\'hidden\\' name=\\'new\\' value=\\'true\\'/>\\n              <input id=\"search\" type=\"search\" name=\"q\" maxlength=\"200\" accesskey=\"/\" title=\"Search the Library of Congress website\" placeholder=\"Search Loc.gov\" class=\"locsuggest\" />\\n              <button class=\"button\" id=\"search_button\" type=\"submit\">GO</button>\\n            </div>\\n\\t  </form>\\n\\t</div>\\n      </div>\\n    </div>\\n\\n    <div id=\"crumb_nav\">\\n      <a href=\"https://www.loc.gov/\">The Library of Congress</a>\\n      \\n      \\n\\n      \\n      <span> &gt; </span><a href=\"/\">Chronicling America</a>\\n      \\n      \\n      \\n    </div>\\n\\n    \\n    <div class=\"alert\" role=\"alert\">\\n        Announcement: In 2024, Chronicling America will transition to a new interface. <a href=\"https://www.loc.gov/collections/chronicling-america/about-this-collection/\">Visit the new website</a> for the most recent newspaper additions. <a href=\"https://www.loc.gov/ndnp/migration/\">More info</a>.\\n    </div>\\n\\n\\n    <div id=\"content\">\\n    \\n<div id=\"main_body\">\\n  \\n  \\n    <div id=\"top_branding\">\\n        <div class=\"neh_logo\"><a href=\"https://www.neh.gov\"><img src=\"/media/images/logo_neh.48c59a21b35f.png\" width=\"186\" height=\"46\" alt=\"National Endowment for the Humanities\" /></a></div>\\n        <div class=\"chron_logo\"><a href=\"/\"><img src=\"/media/images/logo_chron_top.701cd5eb0000.png\" width=\"179\" height=\"31\" alt=\"\" /></a></div>\\n        <div class=\"neh_txt\">\\n            <p>Search America&#39;s historic newspaper pages from 1756-1963 or use the U.S. Newspaper Directory to find information about American newspapers published between 1690-present. Chronicling America is sponsored jointly by the <a href=\"https://www.neh.gov\" class=\"external\">National Endowment for the Humanities<span> external link</span></a> and the Library of Congress. <a href=\"/about/\" class=\"ar-more-gray\">Learn more</a></p>\\n        </div><!-- end id:neh_txt -->\\n    </div><!-- end id:top_branding -->\\n    <div class=\"clear\"></div>\\n\\n  \\n\\n    \\n    \\n    <div id=\"tabs-container\" ></div>\\n    \\n    <div class=\"sharetool_container\">\\n        \\n        <p class=\"total-page-count\" hidden>Pages Available: <span class=\"total-page-count-value\"></span></p>\\n\\t    \\n        <!-- Toolbar -->\\n        <div class=\"locshare-this\" id=\\'instance_id1001\\' style=\\'display:none\\'>\\n            \\n            <code>{\\n                  title: \\'Search Results\\',\\n                  download_links: [\\n                  {\\n                   link: \\'https://www.loc.gov/rss/ndnp/ndnp.xml\\',\\n                   label: \\'application/rss+xml\\',\\n                   meta: \\'News about Chronicling America - RSS Feed\\',\\n                  },\\n                  \\n                  \\n                  ]\\n                }\\n            </code>\\n            \\n        </div><!-- end id:instance_id1001 -->\\n        <div class=\"clear-share\"><!-- --></div>\\n    </div>\\n    \\n\\n    \\n    \\n\\n    \\n    <div id=\"main\"><span style=\"width: 100%;\"><a name=\"skip_menu\"></a></span>\\n        \\n        \\n\\n        \\n        \\n    </div>\\n    \\n\\n    \\n    <div class=\"clear\"><!-- --></div>\\n    \\n\\n    \\n    \\n        <div class=\"search_results_ctrl top fix-float\">\\n            \\n\\n    <div class=\"left\">\\n        <span class=\"results\">Results 1 - 20 of 131</span>\\n        <span class=\"pagination\">\\n             \\n     \\n            \\n    \\t     \\n\\n             \\n\\n             \\n             <span class=\"off\">1</span> \\n             \\n\\n             \\n             \\n    \\t     |\\n\\n             \\n\\n             \\n             <a href=\"?date1=1756&amp;rows=20&amp;searchType=basic&amp;state=&amp;date2=1850&amp;proxtext=Illuminati&amp;y=0&amp;x=0&amp;dateFilterType=yearRange&amp;page=2&amp;sort=relevance\">2</a> \\n             \\n\\n             \\n             \\n    \\t     |\\n\\n             \\n\\n             \\n             <a href=\"?date1=1756&amp;rows=20&amp;searchType=basic&amp;state=&amp;date2=1850&amp;proxtext=Illuminati&amp;y=0&amp;x=0&amp;dateFilterType=yearRange&amp;page=3&amp;sort=relevance\">3</a> \\n             \\n\\n             \\n             \\n    \\t     |\\n\\n             \\n             ...\\n             \\n             \\n    \\t     |\\n\\n             \\n\\n             \\n             <a href=\"?date1=1756&amp;rows=20&amp;searchType=basic&amp;state=&amp;date2=1850&amp;proxtext=Illuminati&amp;y=0&amp;x=0&amp;dateFilterType=yearRange&amp;page=5&amp;sort=relevance\">5</a> \\n             \\n\\n             \\n             \\n    \\t     |\\n\\n             \\n\\n             \\n             <a href=\"?date1=1756&amp;rows=20&amp;searchType=basic&amp;state=&amp;date2=1850&amp;proxtext=Illuminati&amp;y=0&amp;x=0&amp;dateFilterType=yearRange&amp;page=6&amp;sort=relevance\">6</a> \\n             \\n\\n             \\n             \\n    \\t     |\\n\\n             \\n\\n             \\n             <a href=\"?date1=1756&amp;rows=20&amp;searchType=basic&amp;state=&amp;date2=1850&amp;proxtext=Illuminati&amp;y=0&amp;x=0&amp;dateFilterType=yearRange&amp;page=7&amp;sort=relevance\">7</a> \\n             \\n\\n             \\n             \\n            \\n             \\n            <a href=\"?date1=1756&amp;rows=20&amp;searchType=basic&amp;state=&amp;date2=1850&amp;proxtext=Illuminati&amp;y=0&amp;x=0&amp;dateFilterType=yearRange&amp;page=2\" class=\"next\"><img src=\"/media/images/pag_next_on.8cb345741a83.gif\" alt=\"next\" width=\"13\" height=\"13\" /></a>\\n             \\n        </span>\\n        <form action=\"\" method=\"GET\" class=\"jumptopage\">\\n            <label for=\"jumptopage\">Jump to page:</label> \\n            <input class=\"std\" type=\"text\" id=\"jumptopage\" name=\"page\" value=\"\" size=\"5\" />\\n            <input type=\"hidden\" name=\"ortext\" value=\"\" />\\n            <input type=\"hidden\" name=\"andtext\" value=\"\" />\\n            <input type=\"hidden\" name=\"phrasetext\" value=\"\" />\\n            <input type=\"hidden\" name=\"proxtext\" value=\"Illuminati\" />\\n            <input type=\"hidden\" name=\"proxValue\" value=\"\" />\\n            <input type=\"hidden\" name=\"date1\" value=\"1756\" />\\n            <input type=\"hidden\" name=\"date2\" value=\"1850\" />\\n            <input type=\"hidden\" name=\"year\" value=\"\" />\\n            <input type=\"hidden\" name=\"sort\" value=\"\" />\\n            <input type=\"hidden\" name=\"dateFilterType\" value=\"yearRange\" />\\n            <input type=\"hidden\" name=\"state\" value=\"\" />\\n            <input type=\"hidden\" name=\"lccn\" value=\"\" />\\n            <input type=\"hidden\" name=\"rows\" value=\"20\" />\\n            <input type=\"hidden\" name=\"sequence\" value=\"\" />\\n            <input type=\"hidden\" name=\"language\" value=\"\" />\\n        <input type=\"submit\" class=\"submit\" value=\"GO\" />\\n      </form>\\n    </div>\\n    <div class=\"right\">\\n        \\n        <span class=\"view\">\\n            <strong>View:</strong>&nbsp; <a href=\"#\" class=\"pag-gallery pag-selected\">Gallery</a> | <a class=\"pag-list\" href=\"/search/pages/results/list/?date1=1756&amp;rows=20&amp;searchType=basic&amp;state=&amp;date2=1850&amp;proxtext=Illuminati&amp;y=0&amp;x=0&amp;dateFilterType=yearRange&amp;page=1&amp;sort=relevance\">List</a>\\n        </span> \\n        \\n    </div>\\n\\n        </div>\\n\\n        <div class=\"search_results_body gallery\">\\n            <div class=\"results_nav\">\\n                <p class=\"term\">131 results\\n                containing\\n                \\n                    <strong>&ldquo;Illuminati&rdquo;</strong>\\n                    \\n                \\n\\n                </p>\\n                <form id=\"results\">\\n                    <p>\\n                        <input class=\"check\" name=\"check_front\" id=\"check_front\" value=1 type=\"checkbox\" />\\n                        <label class=\"norm\" for=\"check_front\">Show only front pages</label> &nbsp;&nbsp;\\n\\n                        <label class=\"norm\" for=\"sort_select\">Sort by:</label>\\n                        <select class=\"sel\" name=\"sort_select\" id=\"sort_select\">\\n                            <option value=\"relevance\">Relevance</option>\\n                            <option value=\"state\">State</option>\\n                            <option value=\"title\">Title</option>\\n                            <option value=\"date\">Date</option>\\n                        </select> &nbsp;  &nbsp;\\n                        <label class=\"norm\" for=\"rpp_select\">Results per page:</label>\\n                        <select class=\"sel\" name=\"rpp_select\" id=\"rpp_select\">\\n                            <option value=\"20\">20</option>\\n                            <option value=\"50\">50</option>\\n                        </select>\\n                    </p>\\n                </form>\\n            </div>\\n            \\n                <table class=\"search_results\" cellspacing=\"0\" summary=\"\">\\n                    <tr>\\n                        \\n                            <td>\\n                                \\n                                    <div class=\"highlite\">\\n                                        <a href=\"/lccn/sn88053122/1831-09-30/ed-1/seq-2/#date1=1756&amp;index=0&amp;rows=20&amp;words=Illuminati&amp;searchType=basic&amp;sequence=0&amp;state=&amp;date2=1850&amp;proxtext=Illuminati&amp;y=0&amp;x=0&amp;dateFilterType=yearRange&amp;page=1\">\\n                                        \\n                                            <img class=\"thumbnail\" src=\"https://chroniclingamerica.loc.gov/iiif/2/deu_kedavra_ver01%2Fdata%2Fsn88053122%2F00271741820%2F1831093001%2F0033.jp2/full/200,/0/default.jpg\" />\\n                                        \\n                                        </a>\\n                                        <br />\\n\\n                                        \\n                                                <a href=\"/lccn/sn88053122/1831-09-30/ed-1/seq-2/#date1=1756&amp;index=0&amp;rows=20&amp;words=Illuminati&amp;searchType=basic&amp;sequence=0&amp;state=&amp;date2=1850&amp;proxtext=Illuminati&amp;y=0&amp;x=0&amp;dateFilterType=yearRange&amp;page=1\">Wilmington expositor. (Wilmington, Del.), September 30, 1831, Image 2</a>\\n                                        \\n\\n                                        \\n                                        <input name=\"id\" value=\"/lccn/sn88053122/1831-09-30/ed-1/seq-2/\" type=\"hidden\"/>\\n                                        <input name=\"words\" value=\"Illuminati\" type=\"hidden\"/>\\n                                    </div>\\n                                \\n                            </td>\\n                            \\n                        \\n                            <td>\\n                                \\n                                    <div class=\"highlite\">\\n                                        <a href=\"/lccn/sn83045634/1798-12-10/ed-1/seq-1/#date1=1756&amp;index=1&amp;rows=20&amp;words=Illuminati&amp;searchType=basic&amp;sequence=0&amp;state=&amp;date2=1850&amp;proxtext=Illuminati&amp;y=0&amp;x=0&amp;dateFilterType=yearRange&amp;page=1\">\\n                                        \\n                                            <img class=\"thumbnail\" src=\"https://chroniclingamerica.loc.gov/iiif/2/me_bangor_ver02%2Fdata%2Fsn83045634%2F00332895059%2F1798121001%2F0130.jp2/full/200,/0/default.jpg\" />\\n                                        \\n                                        </a>\\n                                        <br />\\n\\n                                        \\n                                                <a href=\"/lccn/sn83045634/1798-12-10/ed-1/seq-1/#date1=1756&amp;index=1&amp;rows=20&amp;words=Illuminati&amp;searchType=basic&amp;sequence=0&amp;state=&amp;date2=1850&amp;proxtext=Illuminati&amp;y=0&amp;x=0&amp;dateFilterType=yearRange&amp;page=1\">The gazette. [volume] (Portland, Me.), December 10, 1798, Image 1</a>\\n                                        \\n\\n                                        \\n                                        <input name=\"id\" value=\"/lccn/sn83045634/1798-12-10/ed-1/seq-1/\" type=\"hidden\"/>\\n                                        <input name=\"words\" value=\"Illuminati\" type=\"hidden\"/>\\n                                    </div>\\n                                \\n                            </td>\\n                            \\n                        \\n                            <td>\\n                                \\n                                    <div class=\"highlite\">\\n                                        <a href=\"/lccn/sn83045242/1802-09-15/ed-1/seq-2/#date1=1756&amp;index=2&amp;rows=20&amp;words=Illuminati&amp;searchType=basic&amp;sequence=0&amp;state=&amp;date2=1850&amp;proxtext=Illuminati&amp;y=0&amp;x=0&amp;dateFilterType=yearRange&amp;page=1\">\\n                                        \\n                                            <img class=\"thumbnail\" src=\"https://chroniclingamerica.loc.gov/iiif/2/dlc_burmese_ver01%2Fdata%2Fsn83045242%2Fprint%2F1802091501%2F0002.jp2/full/200,/0/default.jpg\" />\\n                                        \\n                                        </a>\\n                                        <br />\\n\\n                                        \\n                                                <a href=\"/lccn/sn83045242/1802-09-15/ed-1/seq-2/#date1=1756&amp;index=2&amp;rows=20&amp;words=Illuminati&amp;searchType=basic&amp;sequence=0&amp;state=&amp;date2=1850&amp;proxtext=Illuminati&amp;y=0&amp;x=0&amp;dateFilterType=yearRange&amp;page=1\">The national intelligencer and Washington advertiser. [volume] (Washington City [D.C.]), September 15, 1802, Image 2</a>\\n                                        \\n\\n                                        \\n                                        <input name=\"id\" value=\"/lccn/sn83045242/1802-09-15/ed-1/seq-2/\" type=\"hidden\"/>\\n                                        <input name=\"words\" value=\"Illuminati\" type=\"hidden\"/>\\n                                    </div>\\n                                \\n                            </td>\\n                            \\n                        \\n                            <td>\\n                                \\n                                    <div class=\"highlite\">\\n                                        <a href=\"/lccn/sn84024678/1802-04-24/ed-1/seq-4/#date1=1756&amp;index=3&amp;rows=20&amp;words=illuminati+Illuminati&amp;searchType=basic&amp;sequence=0&amp;state=&amp;date2=1850&amp;proxtext=Illuminati&amp;y=0&amp;x=0&amp;dateFilterType=yearRange&amp;page=1\">\\n                                        \\n                                            <img class=\"thumbnail\" src=\"https://chroniclingamerica.loc.gov/iiif/2/vi_naturals_ver01%2Fdata%2Fsn84024678%2F00414184352%2F1802042401%2F0042.jp2/full/200,/0/default.jpg\" />\\n                                        \\n                                        </a>\\n                                        <br />\\n\\n                                        \\n                                                <a href=\"/lccn/sn84024678/1802-04-24/ed-1/seq-4/#date1=1756&amp;index=3&amp;rows=20&amp;words=illuminati+Illuminati&amp;searchType=basic&amp;sequence=0&amp;state=&amp;date2=1850&amp;proxtext=Illuminati&amp;y=0&amp;x=0&amp;dateFilterType=yearRange&amp;page=1\">The recorder, or, Lady&#39;s and gentleman&#39;s miscellany. [volume] (Richmond, Va.), April 24, 1802, Image 4</a>\\n                                        \\n\\n                                        \\n                                        <input name=\"id\" value=\"/lccn/sn84024678/1802-04-24/ed-1/seq-4/\" type=\"hidden\"/>\\n                                        <input name=\"words\" value=\"illuminati Illuminati\" type=\"hidden\"/>\\n                                    </div>\\n                                \\n                            </td>\\n                            \\n                                </tr>\\n                                <tr>\\n                            \\n                        \\n                            <td>\\n                                \\n                                    <div class=\"highlite\">\\n                                        <a href=\"/lccn/sn83016063/1802-09-20/ed-1/seq-2/#date1=1756&amp;index=4&amp;rows=20&amp;words=Illuminati&amp;searchType=basic&amp;sequence=0&amp;state=&amp;date2=1850&amp;proxtext=Illuminati&amp;y=0&amp;x=0&amp;dateFilterType=yearRange&amp;page=1\">\\n                                        \\n                                            <img class=\"thumbnail\" src=\"https://chroniclingamerica.loc.gov/iiif/2/me_bangor_ver02%2Fdata%2Fsn83016063%2F00332895060%2F1802092001%2F0068.jp2/full/200,/0/default.jpg\" />\\n                                        \\n                                        </a>\\n                                        <br />\\n\\n                                        \\n                                                <a href=\"/lccn/sn83016063/1802-09-20/ed-1/seq-2/#date1=1756&amp;index=4&amp;rows=20&amp;words=Illuminati&amp;searchType=basic&amp;sequence=0&amp;state=&amp;date2=1850&amp;proxtext=Illuminati&amp;y=0&amp;x=0&amp;dateFilterType=yearRange&amp;page=1\">Jenks&#39;s Portland gazette. [volume] (Portland [Me.]), September 20, 1802, Image 2</a>\\n                                        \\n\\n                                        \\n                                        <input name=\"id\" value=\"/lccn/sn83016063/1802-09-20/ed-1/seq-2/\" type=\"hidden\"/>\\n                                        <input name=\"words\" value=\"Illuminati\" type=\"hidden\"/>\\n                                    </div>\\n                                \\n                            </td>\\n                            \\n                        \\n                            <td>\\n                                \\n                                    <div class=\"highlite\">\\n                                        <a href=\"/lccn/sn82014894/1825-05-10/ed-1/seq-1/#date1=1756&amp;index=5&amp;rows=20&amp;words=illuminati+Illuminati&amp;searchType=basic&amp;sequence=0&amp;state=&amp;date2=1850&amp;proxtext=Illuminati&amp;y=0&amp;x=0&amp;dateFilterType=yearRange&amp;page=1\">\\n                                        \\n                                            <img class=\"thumbnail\" src=\"https://chroniclingamerica.loc.gov/iiif/2/deu_kedavra_ver01%2Fdata%2Fsn82014894%2F00271740207%2F1825051001%2F0168.jp2/full/200,/0/default.jpg\" />\\n                                        \\n                                        </a>\\n                                        <br />\\n\\n                                        \\n                                                <a href=\"/lccn/sn82014894/1825-05-10/ed-1/seq-1/#date1=1756&amp;index=5&amp;rows=20&amp;words=illuminati+Illuminati&amp;searchType=basic&amp;sequence=0&amp;state=&amp;date2=1850&amp;proxtext=Illuminati&amp;y=0&amp;x=0&amp;dateFilterType=yearRange&amp;page=1\">American watchman and Delaware advertiser. [volume] (Wilmington, Del.), May 10, 1825, Image 1</a>\\n                                        \\n\\n                                        \\n                                        <input name=\"id\" value=\"/lccn/sn82014894/1825-05-10/ed-1/seq-1/\" type=\"hidden\"/>\\n                                        <input name=\"words\" value=\"illuminati Illuminati\" type=\"hidden\"/>\\n                                    </div>\\n                                \\n                            </td>\\n                            \\n                        \\n                            <td>\\n                                \\n                                    <div class=\"highlite\">\\n                                        <a href=\"/lccn/sn82007022/1849-05-22/ed-1/seq-4/#date1=1756&amp;index=6&amp;rows=20&amp;words=Illuminati&amp;searchType=basic&amp;sequence=0&amp;state=&amp;date2=1850&amp;proxtext=Illuminati&amp;y=0&amp;x=0&amp;dateFilterType=yearRange&amp;page=1\">\\n                                        \\n                                            <img class=\"thumbnail\" src=\"https://chroniclingamerica.loc.gov/iiif/2/arhi_devo_ver01%2Fdata%2Fsn82007022%2F00393342894%2F1849052201%2F0450.jp2/full/200,/0/default.jpg\" />\\n                                        \\n                                        </a>\\n                                        <br />\\n\\n                                        \\n                                                <a href=\"/lccn/sn82007022/1849-05-22/ed-1/seq-4/#date1=1756&amp;index=6&amp;rows=20&amp;words=Illuminati&amp;searchType=basic&amp;sequence=0&amp;state=&amp;date2=1850&amp;proxtext=Illuminati&amp;y=0&amp;x=0&amp;dateFilterType=yearRange&amp;page=1\">The Arkansas banner. [volume] (Little Rock, Ark.), May 22, 1849, Image 4</a>\\n                                        \\n\\n                                        \\n                                        <input name=\"id\" value=\"/lccn/sn82007022/1849-05-22/ed-1/seq-4/\" type=\"hidden\"/>\\n                                        <input name=\"words\" value=\"Illuminati\" type=\"hidden\"/>\\n                                    </div>\\n                                \\n                            </td>\\n                            \\n                        \\n                            <td>\\n                                \\n                                    <div class=\"highlite\">\\n                                        <a href=\"/lccn/sn83025582/1763-08-26/ed-1/seq-2/#date1=1756&amp;index=7&amp;rows=20&amp;words=illuminati&amp;searchType=basic&amp;sequence=0&amp;state=&amp;date2=1850&amp;proxtext=Illuminati&amp;y=0&amp;x=0&amp;dateFilterType=yearRange&amp;page=1\">\\n                                        \\n                                            <img class=\"thumbnail\" src=\"https://chroniclingamerica.loc.gov/iiif/2/nhd_bondcliff_ver01%2Fdata%2Fsn83025582%2F00517015064%2F1763082601%2F0093.jp2/full/200,/0/default.jpg\" />\\n                                        \\n                                        </a>\\n                                        <br />\\n\\n                                        \\n                                                <a href=\"/lccn/sn83025582/1763-08-26/ed-1/seq-2/#date1=1756&amp;index=7&amp;rows=20&amp;words=illuminati&amp;searchType=basic&amp;sequence=0&amp;state=&amp;date2=1850&amp;proxtext=Illuminati&amp;y=0&amp;x=0&amp;dateFilterType=yearRange&amp;page=1\">The New-Hampshire gazette and historical chronicle. [volume] (Portsmouth, N.H.), August 26, 1763, Image 2</a>\\n                                        \\n\\n                                        \\n                                        <input name=\"id\" value=\"/lccn/sn83025582/1763-08-26/ed-1/seq-2/\" type=\"hidden\"/>\\n                                        <input name=\"words\" value=\"illuminati\" type=\"hidden\"/>\\n                                    </div>\\n                                \\n                            </td>\\n                            \\n                                </tr>\\n                                <tr>\\n                            \\n                        \\n                            <td>\\n                                \\n                                    <div class=\"highlite\">\\n                                        <a href=\"/lccn/sn83025881/1799-04-13/ed-1/seq-3/#date1=1756&amp;index=8&amp;rows=20&amp;words=Illuminati&amp;searchType=basic&amp;sequence=0&amp;state=&amp;date2=1850&amp;proxtext=Illuminati&amp;y=0&amp;x=0&amp;dateFilterType=yearRange&amp;page=1\">\\n                                        \\n                                            <img class=\"thumbnail\" src=\"https://chroniclingamerica.loc.gov/iiif/2/dlc_laperm_ver01%2Fdata%2Fsn83025881%2Fprint%2F1799041301%2F0003.jp2/full/200,/0/default.jpg\" />\\n                                        \\n                                        </a>\\n                                        <br />\\n\\n                                        \\n                                                <a href=\"/lccn/sn83025881/1799-04-13/ed-1/seq-3/#date1=1756&amp;index=8&amp;rows=20&amp;words=Illuminati&amp;searchType=basic&amp;sequence=0&amp;state=&amp;date2=1850&amp;proxtext=Illuminati&amp;y=0&amp;x=0&amp;dateFilterType=yearRange&amp;page=1\">Gazette of the United States, &amp; Philadelphia daily advertiser. [volume] (Philadelphia [Pa.]), April 13, 1799, Image 3</a>\\n                                        \\n\\n                                        \\n                                        <input name=\"id\" value=\"/lccn/sn83025881/1799-04-13/ed-1/seq-3/\" type=\"hidden\"/>\\n                                        <input name=\"words\" value=\"Illuminati\" type=\"hidden\"/>\\n                                    </div>\\n                                \\n                            </td>\\n                            \\n                        \\n                            <td>\\n                                \\n                                    <div class=\"highlite\">\\n                                        <a href=\"/lccn/sn85025006/1825-04-12/ed-1/seq-1/#date1=1756&amp;index=9&amp;rows=20&amp;words=Illuminati+illuminati&amp;searchType=basic&amp;sequence=0&amp;state=&amp;date2=1850&amp;proxtext=Illuminati&amp;y=0&amp;x=0&amp;dateFilterType=yearRange&amp;page=1\">\\n                                        \\n                                            <img class=\"thumbnail\" src=\"https://chroniclingamerica.loc.gov/iiif/2/vi_hops_ver01%2Fdata%2Fsn85025006%2F00414216341%2F1825041201%2F0178.jp2/full/200,/0/default.jpg\" />\\n                                        \\n                                        </a>\\n                                        <br />\\n\\n                                        \\n                                                <a href=\"/lccn/sn85025006/1825-04-12/ed-1/seq-1/#date1=1756&amp;index=9&amp;rows=20&amp;words=Illuminati+illuminati&amp;searchType=basic&amp;sequence=0&amp;state=&amp;date2=1850&amp;proxtext=Illuminati&amp;y=0&amp;x=0&amp;dateFilterType=yearRange&amp;page=1\">Phenix gazette. [volume] (Alexandria [D.C.]), April 12, 1825, Image 1</a>\\n                                        \\n\\n                                        \\n                                        <input name=\"id\" value=\"/lccn/sn85025006/1825-04-12/ed-1/seq-1/\" type=\"hidden\"/>\\n                                        <input name=\"words\" value=\"Illuminati illuminati\" type=\"hidden\"/>\\n                                    </div>\\n                                \\n                            </td>\\n                            \\n                        \\n                            <td>\\n                                \\n                                    <div class=\"highlite\">\\n                                        <a href=\"/lccn/sn85025815/1805-05-13/ed-1/seq-2/#date1=1756&amp;index=10&amp;rows=20&amp;words=illuminati+Illuminati&amp;searchType=basic&amp;sequence=0&amp;state=&amp;date2=1850&amp;proxtext=Illuminati&amp;y=0&amp;x=0&amp;dateFilterType=yearRange&amp;page=1\">\\n                                        \\n                                            <img class=\"thumbnail\" src=\"https://chroniclingamerica.loc.gov/iiif/2/vi_alpina_ver01%2Fdata%2Fsn85025815%2F00542866573%2F1805051301%2F0501.jp2/full/200,/0/default.jpg\" />\\n                                        \\n                                        </a>\\n                                        <br />\\n\\n                                        \\n                                                <a href=\"/lccn/sn85025815/1805-05-13/ed-1/seq-2/#date1=1756&amp;index=10&amp;rows=20&amp;words=illuminati+Illuminati&amp;searchType=basic&amp;sequence=0&amp;state=&amp;date2=1850&amp;proxtext=Illuminati&amp;y=0&amp;x=0&amp;dateFilterType=yearRange&amp;page=1\">Norfolk gazette and publick ledger. [volume] (Norfolk [Va.]), May 13, 1805, Image 2</a>\\n                                        \\n\\n                                        \\n                                        <input name=\"id\" value=\"/lccn/sn85025815/1805-05-13/ed-1/seq-2/\" type=\"hidden\"/>\\n                                        <input name=\"words\" value=\"illuminati Illuminati\" type=\"hidden\"/>\\n                                    </div>\\n                                \\n                            </td>\\n                            \\n                        \\n                            <td>\\n                                \\n                                    <div class=\"highlite\">\\n                                        <a href=\"/lccn/sn82014385/1809-07-29/ed-1/seq-3/#date1=1756&amp;index=11&amp;rows=20&amp;words=illuminati&amp;searchType=basic&amp;sequence=0&amp;state=&amp;date2=1850&amp;proxtext=Illuminati&amp;y=0&amp;x=0&amp;dateFilterType=yearRange&amp;page=1\">\\n                                        \\n                                            <img class=\"thumbnail\" src=\"https://chroniclingamerica.loc.gov/iiif/2/deu_kedavra_ver01%2Fdata%2Fsn82014385%2F00271740232%2F1809072901%2F0100.jp2/full/200,/0/default.jpg\" />\\n                                        \\n                                        </a>\\n                                        <br />\\n\\n                                        \\n                                                <a href=\"/lccn/sn82014385/1809-07-29/ed-1/seq-3/#date1=1756&amp;index=11&amp;rows=20&amp;words=illuminati&amp;searchType=basic&amp;sequence=0&amp;state=&amp;date2=1850&amp;proxtext=Illuminati&amp;y=0&amp;x=0&amp;dateFilterType=yearRange&amp;page=1\">The Delaware gazette. [volume] (Wilmington [Del.]), July 29, 1809, Image 3</a>\\n                                        \\n\\n                                        \\n                                        <input name=\"id\" value=\"/lccn/sn82014385/1809-07-29/ed-1/seq-3/\" type=\"hidden\"/>\\n                                        <input name=\"words\" value=\"illuminati\" type=\"hidden\"/>\\n                                    </div>\\n                                \\n                            </td>\\n                            \\n                                </tr>\\n                                <tr>\\n                            \\n                        \\n                            <td>\\n                                \\n                                    <div class=\"highlite\">\\n                                        <a href=\"/lccn/sn83045242/1801-03-25/ed-1/seq-3/#date1=1756&amp;index=12&amp;rows=20&amp;words=Illuminati&amp;searchType=basic&amp;sequence=0&amp;state=&amp;date2=1850&amp;proxtext=Illuminati&amp;y=0&amp;x=0&amp;dateFilterType=yearRange&amp;page=1\">\\n                                        \\n                                            <img class=\"thumbnail\" src=\"https://chroniclingamerica.loc.gov/iiif/2/dlc_forest_ver01%2Fdata%2Fsn83045242%2Fprint%2F1801032501%2F0003.jp2/full/200,/0/default.jpg\" />\\n                                        \\n                                        </a>\\n                                        <br />\\n\\n                                        \\n                                                <a href=\"/lccn/sn83045242/1801-03-25/ed-1/seq-3/#date1=1756&amp;index=12&amp;rows=20&amp;words=Illuminati&amp;searchType=basic&amp;sequence=0&amp;state=&amp;date2=1850&amp;proxtext=Illuminati&amp;y=0&amp;x=0&amp;dateFilterType=yearRange&amp;page=1\">The national intelligencer and Washington advertiser. [volume] (Washington City [D.C.]), March 25, 1801, Image 3</a>\\n                                        \\n\\n                                        \\n                                        <input name=\"id\" value=\"/lccn/sn83045242/1801-03-25/ed-1/seq-3/\" type=\"hidden\"/>\\n                                        <input name=\"words\" value=\"Illuminati\" type=\"hidden\"/>\\n                                    </div>\\n                                \\n                            </td>\\n                            \\n                        \\n                            <td>\\n                                \\n                                    <div class=\"highlite\">\\n                                        <a href=\"/lccn/sn83045242/1801-07-08/ed-1/seq-3/#date1=1756&amp;index=13&amp;rows=20&amp;words=illuminati&amp;searchType=basic&amp;sequence=0&amp;state=&amp;date2=1850&amp;proxtext=Illuminati&amp;y=0&amp;x=0&amp;dateFilterType=yearRange&amp;page=1\">\\n                                        \\n                                            <img class=\"thumbnail\" src=\"https://chroniclingamerica.loc.gov/iiif/2/dlc_forest_ver01%2Fdata%2Fsn83045242%2Fprint%2F1801070801%2F0003.jp2/full/200,/0/default.jpg\" />\\n                                        \\n                                        </a>\\n                                        <br />\\n\\n                                        \\n                                                <a href=\"/lccn/sn83045242/1801-07-08/ed-1/seq-3/#date1=1756&amp;index=13&amp;rows=20&amp;words=illuminati&amp;searchType=basic&amp;sequence=0&amp;state=&amp;date2=1850&amp;proxtext=Illuminati&amp;y=0&amp;x=0&amp;dateFilterType=yearRange&amp;page=1\">The national intelligencer and Washington advertiser. [volume] (Washington City [D.C.]), July 08, 1801, Image 3</a>\\n                                        \\n\\n                                        \\n                                        <input name=\"id\" value=\"/lccn/sn83045242/1801-07-08/ed-1/seq-3/\" type=\"hidden\"/>\\n                                        <input name=\"words\" value=\"illuminati\" type=\"hidden\"/>\\n                                    </div>\\n                                \\n                            </td>\\n                            \\n                        \\n                            <td>\\n                                \\n                                    <div class=\"highlite\">\\n                                        <a href=\"/lccn/sn83016063/1800-12-08/ed-1/seq-1/#date1=1756&amp;index=14&amp;rows=20&amp;words=ILLUMINATI&amp;searchType=basic&amp;sequence=0&amp;state=&amp;date2=1850&amp;proxtext=Illuminati&amp;y=0&amp;x=0&amp;dateFilterType=yearRange&amp;page=1\">\\n                                        \\n                                            <img class=\"thumbnail\" src=\"https://chroniclingamerica.loc.gov/iiif/2/me_bangor_ver02%2Fdata%2Fsn83016063%2F00332895059%2F1800120801%2F0503.jp2/full/200,/0/default.jpg\" />\\n                                        \\n                                        </a>\\n                                        <br />\\n\\n                                        \\n                                                <a href=\"/lccn/sn83016063/1800-12-08/ed-1/seq-1/#date1=1756&amp;index=14&amp;rows=20&amp;words=ILLUMINATI&amp;searchType=basic&amp;sequence=0&amp;state=&amp;date2=1850&amp;proxtext=Illuminati&amp;y=0&amp;x=0&amp;dateFilterType=yearRange&amp;page=1\">Jenks&#39;s Portland gazette. [volume] (Portland [Me.]), December 08, 1800, Image 1</a>\\n                                        \\n\\n                                        \\n                                        <input name=\"id\" value=\"/lccn/sn83016063/1800-12-08/ed-1/seq-1/\" type=\"hidden\"/>\\n                                        <input name=\"words\" value=\"ILLUMINATI\" type=\"hidden\"/>\\n                                    </div>\\n                                \\n                            </td>\\n                            \\n                        \\n                            <td>\\n                                \\n                                    <div class=\"highlite\">\\n                                        <a href=\"/lccn/sn83016063/1800-12-15/ed-1/seq-4/#date1=1756&amp;index=15&amp;rows=20&amp;words=ILLUMINATI&amp;searchType=basic&amp;sequence=0&amp;state=&amp;date2=1850&amp;proxtext=Illuminati&amp;y=0&amp;x=0&amp;dateFilterType=yearRange&amp;page=1\">\\n                                        \\n                                            <img class=\"thumbnail\" src=\"https://chroniclingamerica.loc.gov/iiif/2/me_bangor_ver02%2Fdata%2Fsn83016063%2F00332895059%2F1800121501%2F0510.jp2/full/200,/0/default.jpg\" />\\n                                        \\n                                        </a>\\n                                        <br />\\n\\n                                        \\n                                                <a href=\"/lccn/sn83016063/1800-12-15/ed-1/seq-4/#date1=1756&amp;index=15&amp;rows=20&amp;words=ILLUMINATI&amp;searchType=basic&amp;sequence=0&amp;state=&amp;date2=1850&amp;proxtext=Illuminati&amp;y=0&amp;x=0&amp;dateFilterType=yearRange&amp;page=1\">Jenks&#39;s Portland gazette. [volume] (Portland [Me.]), December 15, 1800, Image 4</a>\\n                                        \\n\\n                                        \\n                                        <input name=\"id\" value=\"/lccn/sn83016063/1800-12-15/ed-1/seq-4/\" type=\"hidden\"/>\\n                                        <input name=\"words\" value=\"ILLUMINATI\" type=\"hidden\"/>\\n                                    </div>\\n                                \\n                            </td>\\n                            \\n                                </tr>\\n                                <tr>\\n                            \\n                        \\n                            <td>\\n                                \\n                                    <div class=\"highlite\">\\n                                        <a href=\"/lccn/sn83045634/1799-01-14/ed-1/seq-1/#date1=1756&amp;index=16&amp;rows=20&amp;words=Illuminati&amp;searchType=basic&amp;sequence=0&amp;state=&amp;date2=1850&amp;proxtext=Illuminati&amp;y=0&amp;x=0&amp;dateFilterType=yearRange&amp;page=1\">\\n                                        \\n                                            <img class=\"thumbnail\" src=\"https://chroniclingamerica.loc.gov/iiif/2/me_bangor_ver02%2Fdata%2Fsn83045634%2F00332895059%2F1799011401%2F0150.jp2/full/200,/0/default.jpg\" />\\n                                        \\n                                        </a>\\n                                        <br />\\n\\n                                        \\n                                                <a href=\"/lccn/sn83045634/1799-01-14/ed-1/seq-1/#date1=1756&amp;index=16&amp;rows=20&amp;words=Illuminati&amp;searchType=basic&amp;sequence=0&amp;state=&amp;date2=1850&amp;proxtext=Illuminati&amp;y=0&amp;x=0&amp;dateFilterType=yearRange&amp;page=1\">The gazette. [volume] (Portland, Me.), January 14, 1799, Image 1</a>\\n                                        \\n\\n                                        \\n                                        <input name=\"id\" value=\"/lccn/sn83045634/1799-01-14/ed-1/seq-1/\" type=\"hidden\"/>\\n                                        <input name=\"words\" value=\"Illuminati\" type=\"hidden\"/>\\n                                    </div>\\n                                \\n                            </td>\\n                            \\n                        \\n                            <td>\\n                                \\n                                    <div class=\"highlite\">\\n                                        <a href=\"/lccn/sn83021188/1801-12-12/ed-1/seq-2/#date1=1756&amp;index=17&amp;rows=20&amp;words=Illuminati&amp;searchType=basic&amp;sequence=0&amp;state=&amp;date2=1850&amp;proxtext=Illuminati&amp;y=0&amp;x=0&amp;dateFilterType=yearRange&amp;page=1\">\\n                                        \\n                                            <img class=\"thumbnail\" src=\"https://chroniclingamerica.loc.gov/iiif/2/rp_beholder_ver02%2Fdata%2Fsn83021188%2F00514153140%2F1801121201%2F0039.jp2/full/200,/0/default.jpg\" />\\n                                        \\n                                        </a>\\n                                        <br />\\n\\n                                        \\n                                                <a href=\"/lccn/sn83021188/1801-12-12/ed-1/seq-2/#date1=1756&amp;index=17&amp;rows=20&amp;words=Illuminati&amp;searchType=basic&amp;sequence=0&amp;state=&amp;date2=1850&amp;proxtext=Illuminati&amp;y=0&amp;x=0&amp;dateFilterType=yearRange&amp;page=1\">Rhode-Island Republican. [volume] (Newport, R.I.), December 12, 1801, Image 2</a>\\n                                        \\n\\n                                        \\n                                        <input name=\"id\" value=\"/lccn/sn83021188/1801-12-12/ed-1/seq-2/\" type=\"hidden\"/>\\n                                        <input name=\"words\" value=\"Illuminati\" type=\"hidden\"/>\\n                                    </div>\\n                                \\n                            </td>\\n                            \\n                        \\n                            <td>\\n                                \\n                                    <div class=\"highlite\">\\n                                        <a href=\"/lccn/sn84024011/1802-09-17/ed-1/seq-3/#date1=1756&amp;index=18&amp;rows=20&amp;words=Illuminati&amp;searchType=basic&amp;sequence=0&amp;state=&amp;date2=1850&amp;proxtext=Illuminati&amp;y=0&amp;x=0&amp;dateFilterType=yearRange&amp;page=1\">\\n                                        \\n                                            <img class=\"thumbnail\" src=\"https://chroniclingamerica.loc.gov/iiif/2/vi_flyingsquirrels_ver03%2Fdata%2Fsn84024011%2F00414215993%2F1802091701%2F0377.jp2/full/200,/0/default.jpg\" />\\n                                        \\n                                        </a>\\n                                        <br />\\n\\n                                        \\n                                                <a href=\"/lccn/sn84024011/1802-09-17/ed-1/seq-3/#date1=1756&amp;index=18&amp;rows=20&amp;words=Illuminati&amp;searchType=basic&amp;sequence=0&amp;state=&amp;date2=1850&amp;proxtext=Illuminati&amp;y=0&amp;x=0&amp;dateFilterType=yearRange&amp;page=1\">Alexandria advertiser and commercial intelligencer. [volume] (Alexandria [Va.]), September 17, 1802, Image 3</a>\\n                                        \\n\\n                                        \\n                                        <input name=\"id\" value=\"/lccn/sn84024011/1802-09-17/ed-1/seq-3/\" type=\"hidden\"/>\\n                                        <input name=\"words\" value=\"Illuminati\" type=\"hidden\"/>\\n                                    </div>\\n                                \\n                            </td>\\n                            \\n                        \\n                            <td>\\n                                \\n                                    <div class=\"highlite\">\\n                                        <a href=\"/lccn/sn84024013/1809-05-29/ed-1/seq-2/#date1=1756&amp;index=19&amp;rows=20&amp;words=Illuminati&amp;searchType=basic&amp;sequence=0&amp;state=&amp;date2=1850&amp;proxtext=Illuminati&amp;y=0&amp;x=0&amp;dateFilterType=yearRange&amp;page=1\">\\n                                        \\n                                            <img class=\"thumbnail\" src=\"https://chroniclingamerica.loc.gov/iiif/2/vi_flyingsquirrels_ver03%2Fdata%2Fsn84024013%2F00414216092%2F1809052901%2F0584.jp2/full/200,/0/default.jpg\" />\\n                                        \\n                                        </a>\\n                                        <br />\\n\\n                                        \\n                                                <a href=\"/lccn/sn84024013/1809-05-29/ed-1/seq-2/#date1=1756&amp;index=19&amp;rows=20&amp;words=Illuminati&amp;searchType=basic&amp;sequence=0&amp;state=&amp;date2=1850&amp;proxtext=Illuminati&amp;y=0&amp;x=0&amp;dateFilterType=yearRange&amp;page=1\">Alexandria daily gazette, commercial &amp; political. [volume] (Alexandria [Va.]), May 29, 1809, Image 2</a>\\n                                        \\n\\n                                        \\n                                        <input name=\"id\" value=\"/lccn/sn84024013/1809-05-29/ed-1/seq-2/\" type=\"hidden\"/>\\n                                        <input name=\"words\" value=\"Illuminati\" type=\"hidden\"/>\\n                                    </div>\\n                                \\n                            </td>\\n                            \\n                        \\n                    </tr>\\n                </table>\\n                <div class=\"txt_wrapper\">\\n                    <p class=\"backtotop gallery\"><a href=\"#skip_menu\">Top</a></p>\\n                </div>\\n\\n            \\n        </div>\\n\\n        <div class=\"search_results_ctrl bot fix-float\">\\n            \\n\\n    <div class=\"left\">\\n        <span class=\"results\">Results 1 - 20 of 131</span>\\n        <span class=\"pagination\">\\n             \\n     \\n            \\n    \\t     \\n\\n             \\n\\n             \\n             <span class=\"off\">1</span> \\n             \\n\\n             \\n             \\n    \\t     |\\n\\n             \\n\\n             \\n             <a href=\"?date1=1756&amp;rows=20&amp;searchType=basic&amp;state=&amp;date2=1850&amp;proxtext=Illuminati&amp;y=0&amp;x=0&amp;dateFilterType=yearRange&amp;page=2&amp;sort=relevance\">2</a> \\n             \\n\\n             \\n             \\n    \\t     |\\n\\n             \\n\\n             \\n             <a href=\"?date1=1756&amp;rows=20&amp;searchType=basic&amp;state=&amp;date2=1850&amp;proxtext=Illuminati&amp;y=0&amp;x=0&amp;dateFilterType=yearRange&amp;page=3&amp;sort=relevance\">3</a> \\n             \\n\\n             \\n             \\n    \\t     |\\n\\n             \\n             ...\\n             \\n             \\n    \\t     |\\n\\n             \\n\\n             \\n             <a href=\"?date1=1756&amp;rows=20&amp;searchType=basic&amp;state=&amp;date2=1850&amp;proxtext=Illuminati&amp;y=0&amp;x=0&amp;dateFilterType=yearRange&amp;page=5&amp;sort=relevance\">5</a> \\n             \\n\\n             \\n             \\n    \\t     |\\n\\n             \\n\\n             \\n             <a href=\"?date1=1756&amp;rows=20&amp;searchType=basic&amp;state=&amp;date2=1850&amp;proxtext=Illuminati&amp;y=0&amp;x=0&amp;dateFilterType=yearRange&amp;page=6&amp;sort=relevance\">6</a> \\n             \\n\\n             \\n             \\n    \\t     |\\n\\n             \\n\\n             \\n             <a href=\"?date1=1756&amp;rows=20&amp;searchType=basic&amp;state=&amp;date2=1850&amp;proxtext=Illuminati&amp;y=0&amp;x=0&amp;dateFilterType=yearRange&amp;page=7&amp;sort=relevance\">7</a> \\n             \\n\\n             \\n             \\n            \\n             \\n            <a href=\"?date1=1756&amp;rows=20&amp;searchType=basic&amp;state=&amp;date2=1850&amp;proxtext=Illuminati&amp;y=0&amp;x=0&amp;dateFilterType=yearRange&amp;page=2\" class=\"next\"><img src=\"/media/images/pag_next_on.8cb345741a83.gif\" alt=\"next\" width=\"13\" height=\"13\" /></a>\\n             \\n        </span>\\n        <form action=\"\" method=\"GET\" class=\"jumptopage\">\\n            <label for=\"jumptopage\">Jump to page:</label> \\n            <input class=\"std\" type=\"text\" id=\"jumptopage\" name=\"page\" value=\"\" size=\"5\" />\\n            <input type=\"hidden\" name=\"ortext\" value=\"\" />\\n            <input type=\"hidden\" name=\"andtext\" value=\"\" />\\n            <input type=\"hidden\" name=\"phrasetext\" value=\"\" />\\n            <input type=\"hidden\" name=\"proxtext\" value=\"Illuminati\" />\\n            <input type=\"hidden\" name=\"proxValue\" value=\"\" />\\n            <input type=\"hidden\" name=\"date1\" value=\"1756\" />\\n            <input type=\"hidden\" name=\"date2\" value=\"1850\" />\\n            <input type=\"hidden\" name=\"year\" value=\"\" />\\n            <input type=\"hidden\" name=\"sort\" value=\"\" />\\n            <input type=\"hidden\" name=\"dateFilterType\" value=\"yearRange\" />\\n            <input type=\"hidden\" name=\"state\" value=\"\" />\\n            <input type=\"hidden\" name=\"lccn\" value=\"\" />\\n            <input type=\"hidden\" name=\"rows\" value=\"20\" />\\n            <input type=\"hidden\" name=\"sequence\" value=\"\" />\\n            <input type=\"hidden\" name=\"language\" value=\"\" />\\n        <input type=\"submit\" class=\"submit\" value=\"GO\" />\\n      </form>\\n    </div>\\n    <div class=\"right\">\\n        \\n        <span class=\"view\">\\n            <strong>View:</strong>&nbsp; <a href=\"#\" class=\"pag-gallery pag-selected\">Gallery</a> | <a class=\"pag-list\" href=\"/search/pages/results/list/?date1=1756&amp;rows=20&amp;searchType=basic&amp;state=&amp;date2=1850&amp;proxtext=Illuminati&amp;y=0&amp;x=0&amp;dateFilterType=yearRange&amp;page=1&amp;sort=relevance\">List</a>\\n        </span> \\n        \\n    </div>\\n\\n        </div>\\n    \\n\\n\\n\\n</div><!-- end id:main_body -->\\n\\n<div id=\"omni\">\\n    <input type=\"hidden\" id=\"eVar4\" value=\"\" />\\n    <input type=\"hidden\" id=\"prop13\" value=\"\" />\\n</div>\\n\\n\\n    </div>\\n\\n    <!-- locfoot -->\\n    <!-- begin: global footer -->\\n    <div id=\"f-wrapper\" class=\"fix-float\">\\n      <div id=\"footer\" class=\"fix-float\">\\n\\t<div class=\"cols heading\">\\n          <h2>Connect with the Library</h2>\\n          <p><a class=\"ar-more foot\" href=\"https://www.loc.gov/homepage/connect.html\">All ways to connect</a></p>\\n\\t</div>\\n\\t<div class=\"cols\">\\n          <h3>Find Us On</h3>\\n          <a href=\"http://www.facebook.com/libraryofcongress\"><img src=\"/media/images/img-foot/facebook.e3f5c4925eb3.gif\" alt=\"Facebook\" width=\"16\" height=\"16\" /></a> &nbsp; <a href=\"http://twitter.com/#!/librarycongress\"><img src=\"/media/images/img-foot/twitter.f7a021a01fea.gif\" alt=\"Twitter\" width=\"16\" height=\"16\" /></a> &nbsp; <a href=\"http://www.youtube.com/libraryofcongress\"><img src=\"/media/images/img-foot/youtube.b15d8dd5c7e8.gif\" alt=\"YouTube\" width=\"16\" height=\"16\" /></a> &nbsp; <a href=\"http://www.flickr.com/photos/library_of_congress/\"><img src=\"/media/images/img-foot/flickr.f7923742ee9b.gif\" alt=\"Flickr\" width=\"16\" height=\"16\" /></a>\\n\\t</div>\\n\\t<div class=\"cols\">\\n          <h3>Subscribe &amp; Comment</h3>\\n          <ul class=\"plain\">\\n            <li><a href=\"https://www.loc.gov/rss/\">RSS &amp; E-Mail</a></li>\\n            <li><a href=\"https://blogs.loc.gov/\">Blogs</a></li>\\n          </ul>\\n\\t</div>\\n\\t<div class=\"cols\">\\n          <h3>Download &amp; Play</h3>\\n          <ul class=\"plain\">\\n            <li><a href=\"https://www.loc.gov/podcasts/\">Podcasts</a></li>\\n            <li><a href=\"https://www.loc.gov/today/cyberlc/index.php\">Webcasts</a></li>\\n            <li><a href=\"http://itunes.apple.com/us/institution/library-of-congress/id386017159\" class=\"external foot mod\">iTunesU<span> (external link)</span></a></li>\\n          </ul>\\n\\t</div>\\n\\t<div class=\"cols\">\\n          <h3>Questions</h3>\\n          <ul class=\"plain\">\\n            <li><a href=\"https://ask.loc.gov/\">Ask a Librarian</a></li>\\n            <li><a href=\"https://www.loc.gov/help/contact-general.html\" accesskey=\"8\">Contact Us</a></li>\\n          </ul>\\n\\t</div>\\n\\t<div class=\"clear\"><!-- --></div>\\n\\t<p class=\"links\">\\n\\t  <a href=\"https://www.loc.gov/about/\">About</a> |\\n\\t  <a href=\"https://www.loc.gov/pressroom/login\">Press</a> |\\n\\t  <a href=\"https://www.loc.gov/hr/employment/index.php\">Jobs</a> |\\n\\t  <a href=\"https://www.loc.gov/philanthropy/index.php\">Donate</a>\\n\\t  <br />\\n\\t  <a href=\"https://www.loc.gov/about/oig/\">Inspector General</a> |\\n\\t  <a href=\"https://www.loc.gov/homepage/legal.html\" accesskey=\"9\">Legal</a> |\\n\\t  <a href=\"https://www.loc.gov/access/\" accesskey=\"0\">Accessibility</a> |\\n\\t  <a href=\"https://www.loc.gov/global/disclaim.html\">External Link Disclaimer</a> |\\n\\t  <a href=\"http://www.usa.gov/\">USA.gov</a>\\n\\t</p>\\n\\t<span class=\"speech\"><a href=\"https://www.loc.gov/access/web.html\">Speech Enabled</a></span>\\n      </div><!-- end id:footer -->\\n    </div><!-- end id:f-wrapper -->\\n    <!-- end: global footer -->\\n    </div>\\n    \\n    \\n\\n\\n\\n\\n\\n    <script>\\n      CDN_URL = \"https://cdn.loc.gov\";\\n      JQUERY = \"/media/js/jquery.min.883bf0ec72cf.js\";\\n      LAB_URL = \"/media/js/lab.min.e842152f94c9.js\";\\n    </script>\\n    <script src=\"/media/js/jquery.min.883bf0ec72cf.js\"></script>\\n    <script defer src=\"/media/js/suggest.min.a4038a2dd98b.js\"></script>\\n    \\n<script src=\"/media/vendor/jquery-ui.2aec9f3d57b8.js\" ></script>\\n\\n<script type=\"text/javascript\">\\njQuery(function ($) {\\n    var searchString = window.location.search.substring(1);\\n    if (searchString) {\\n        tab_url = \\'/tabs?\\' + searchString;\\n    } else {\\n        tab_url = \\'/tabs\\';\\n    }\\n    $(\\'#tabs-container\\').load(tab_url, function() {\\n        $(\"#tabs-container\").trigger(\\'chronam.tabsloaded\\', {});\\n    });\\n});\\n</script>\\n\\n<script type=\"text/javascript\">\\njQuery(function ($) {\\n    $.getJSON(\"/reports/total-page-count.json\", function (data) {\\n        if (data.total_page_count) {\\n            $(\".total-page-count\").removeAttr(\\'hidden\\');\\n            $(\".total-page-count-value\").text(Number(data.total_page_count).toLocaleString());\\n        }\\n    })\\n});\\n</script>\\n\\n<script type=\"text/javascript\" src=\"/media/vendor/jquery.ba-bbq.min.07c72646c769.js\"></script>\\n<script type=\"text/javascript\" src=\"/media/js/main.ba81888e49b0.js\"></script>\\n\\n\\n    \\n        <script type=\"text/javascript\" src=\"https://cdn.loc.gov/sites/chronicling-america.js\"></script>\\n    \\n\\n\\n\\n<script type=\"text/javascript\" src=\"/media/vendor/jquery.ba-bbq.min.07c72646c769.js\"></script>\\n<script type=\"text/javascript\">\\n\\njQuery(function($){\\n    $.ajaxSettings.traditional = true;\\n    $(\"#sort_select option[value=\\'relevance\\']\").attr(\"selected\", true);\\n    $(\"#rpp_select option[value=\\'20\\']\").attr(\"selected\", true);\\n    if ($.deparam.querystring().sequence == 1){\\n        $(\"input#check_front\").attr(\\'checked\\', \\'checked\\');\\n    }\\n    $(\"#rpp_select\").change(function(){\\n        window.location=$.param.querystring(location.href, {\\'rows\\': this.value});\\n    });\\n    $(\"#sort_select\").change(function(){\\n        window.location=$.param.querystring(location.href, {\\'sort\\': this.value});\\n    });\\n    $(\"#check_front\").change(function(){\\n        var checked = $(\"#check_front\").attr(\"checked\") ? 1 : \\'\\';\\n        window.location=$.param.querystring(location.href, {\\'sequence\\': checked});\\n    });\\n\\n});\\n</script>\\n\\n<script type=\"text/javascript\" src=\"/media/js/search.3f47d3efc327.js\"></script>\\n<script type=\"text/javascript\">\\nvar padding = 5;\\nvar offset = 2; /* Think the \\'a\\' tag around the thumbnail has a border\\nthat shifts the thumbnail down and to the right a couple pixels... so\\nwe do the same with the highlights */\\n\\n\\nfunction add_highlights(div) {\\n    var image = div.find(\".thumbnail\");\\n    var id = div.find(\"input[name=\\'id\\']\").attr(\"value\");\\n    var words = div.find(\"input[name=\\'words\\']\").attr(\"value\");\\n    var width = image.width();\\n    var height = image.height();\\n    if (width > 0 && height > 0) {\\n        $.getJSON(\"\" + id + \"coordinates/\", function(all_coordinates) {\\n            var vScale = height / all_coordinates[\"height\"];\\n            var hScale = width / all_coordinates[\"width\"];\\n\\n            var matchingWords = ChronAmSearch.matchWords(\\n                words,\\n                all_coordinates\\n            );\\n\\n            $.each(matchingWords, function (index, word_on_page) {\\n                var coordinates = all_coordinates[\"coords\"][word_on_page];\\n                for (var k in coordinates) {\\n                    var v = coordinates[k];\\n                    var $h = $(\\'<img class=\"highlite\">\\');\\n                    $h.attr(\"src\", \"/media/images/red_60.660e1a46ff2f.png\");\\n                    $h.css({\\n                        top: (v[1] * vScale - padding / 2.0 + offset) + \"px\",\\n                        left: (v[0] * hScale - padding / 2.0 + offset) + \"px\",\\n                        height: (v[3] * vScale + padding) + \"px\",\\n                        width: (v[2] * hScale + padding) + \"px\"\\n                    });\\n                    $h.appendTo(div);\\n                }\\n            });\\n        });\\n    }\\n}\\n\\nfunction initHighlights() {\\n    // add highlights after images load\\n    $(\"img.thumbnail\").load(function(i) {\\n        var div = $(this).parents(\"div.highlite\");\\n        add_highlights(div);\\n    });\\n\\n    // add highlights for already loaded images\\n    // TODO: prevent from potentially adding highlights twice\\n    $(\"div.highlite\").each(function(i) {\\n        var div = $(this);\\n        add_highlights(div);\\n    });\\n}\\n\\nif ($.browser.msie && $.browser.version < 7) {\\n    window.onload = initHighlights;\\n} else {\\n    $(document).ready(initHighlights);\\n}\\n</script>\\n\\n  </body>\\n</html>\\n'\n",
      "No result items found.\n"
     ]
    }
   ],
   "source": [
    "import requests\n",
    "from bs4 import BeautifulSoup\n",
    "\n",
    "def scrape_results_page(url):\n",
    "    # Send a GET request to the search results page\n",
    "    response = requests.get(url)\n",
    "    \n",
    "    # Check if the request was successful\n",
    "    if response.ok:\n",
    "        # Print out the response content to check if we're getting the HTML content correctly\n",
    "        print(response.content)\n",
    "        \n",
    "        # Parse the HTML content of the page\n",
    "        soup = BeautifulSoup(response.content, 'html.parser')\n",
    "        \n",
    "        # Find all the result items\n",
    "        result_items = soup.find_all('div', class_='item')\n",
    "        \n",
    "        # Check if any result items were found\n",
    "        if result_items:\n",
    "            print(\"Result items found:\")\n",
    "            for item in result_items:\n",
    "                print(item)\n",
    "        else:\n",
    "            print(\"No result items found.\")\n",
    "    else:\n",
    "        # Print error message\n",
    "        print(f\"Error: Unable to fetch data from the website '{url}'. Status code: {response.status_code}\")\n",
    "\n",
    "# URL of the original results page\n",
    "results_page_url = 'https://chroniclingamerica.loc.gov/search/pages/results/?state=&date1=1756&date2=1850&proxtext=Illuminati&x=0&y=0&dateFilterType=yearRange&rows=20&searchType=basic'\n",
    "\n",
    "# Scrape the results page and print the response content and result items\n",
    "scrape_results_page(results_page_url)"
   ]
  },
  {
   "cell_type": "code",
   "execution_count": null,
   "id": "1ff60347-09c2-4d4a-8f2b-64a9ad37db8b",
   "metadata": {},
   "outputs": [],
   "source": [
    "import requests\n",
    "from bs4 import BeautifulSoup\n",
    "from urllib.parse import urljoin\n",
    "\n",
    "def scrape_result_page_urls(results_page_url):\n",
    "    # Send a GET request to the results page\n",
    "    response = requests.get(results_page_url)\n",
    "    \n",
    "    # Check if the request was successful (status code 200)\n",
    "    if response.status_code == 200:\n",
    "        # Parse the HTML content of the page\n",
    "        soup = BeautifulSoup(response.content, 'html.parser')\n",
    "        \n",
    "        # Find all the links to individual result pages\n",
    "        result_page_links = soup.find_all('a', class_='title')\n",
    "        \n",
    "        # Extract the URLs from the links\n",
    "        result_page_urls = [link['href'] for link in result_page_links]\n",
    "        \n",
    "        return result_page_urls\n",
    "    else:\n",
    "        print(f\"Error: Unable to fetch data from the website '{results_page_url}'. Status code: {response.status_code}\")\n",
    "        return []\n",
    "\n",
    "def download_txt_versions(result_page_urls):\n",
    "    if not result_page_urls:\n",
    "        print(\"No result page URLs found.\")\n",
    "        return\n",
    "    \n",
    "    for result_page_url in result_page_urls:\n",
    "        # Append \"ocr.txt/\" to the result page URL to get the text version URL\n",
    "        txt_version_url = urljoin(result_page_url, 'ocr.txt/')\n",
    "        \n",
    "        print(f\"Downloading text version from: {txt_version_url}\")\n",
    "        \n",
    "        # Send a GET request to download the text version\n",
    "        response = requests.get(txt_version_url)\n",
    "        \n",
    "        # Check if the request was successful (status code 200)\n",
    "        if response.status_code == 200:\n",
    "            # Save the text version to a file\n",
    "            filename = result_page_url.split('/')[-2] + \"_ocr.txt\"\n",
    "            with open(filename, 'wb') as f:\n",
    "                f.write(response.content)\n",
    "            print(f\"Downloaded text version: {filename}\")\n",
    "        else:\n",
    "            print(f\"Error: Unable to download text version from '{txt_version_url}'. Status code: {response.status_code}\")\n",
    "\n",
    "# URL of the results page\n",
    "results_page_url = 'https://chroniclingamerica.loc.gov/search/pages/results/list/?date1=1756&rows=50&searchType=basic&state=&date2=1850&proxtext=Illuminati&y=0&x=0&dateFilterType=yearRange&page=1&sort=relevance'\n",
    "\n",
    "# Scrape the results page to obtain the URLs of individual result pages\n",
    "result_page_urls = scrape_result_page_urls(results_page_url)\n",
    "\n",
    "# Download the text versions from the obtained URLs\n",
    "download_txt_versions(result_page_urls)"
   ]
  },
  {
   "cell_type": "markdown",
   "id": "97a206d8-9dd9-44f7-aa56-48c76a37fc3b",
   "metadata": {},
   "source": [
    "format des liens recherchés \n",
    "https://chroniclingamerica.loc.gov/*/*/*/*/*/ocr.txt/#date1=1756&index=1&rows=20&words=Illuminati&searchType=basic&sequence=0&state=&date2=1850&proxtext=Illuminati&y=0&x=0&dateFilterType=yearRange&page=1\n",
    "\n",
    "inspection du code html des pages web des résultats <link rel= ‘alternate’ type= ‘text/plain” href= ‘/lccn/sn83045634/1798-12-10/ed-1/seq-1/ocr.txt>"
   ]
  },
  {
   "cell_type": "markdown",
   "id": "05778d8b-256d-456e-a1d3-7ace9424732a",
   "metadata": {},
   "source": [
    "Tentative avec une boucle"
   ]
  },
  {
   "cell_type": "code",
   "execution_count": 2,
   "id": "1032aa4a-4a91-47cc-b0e1-c9522bb649fd",
   "metadata": {},
   "outputs": [],
   "source": [
    "import requests\n",
    "from bs4 import BeautifulSoup\n",
    "from urllib.parse import urljoin\n",
    "\n",
    "def retrieve_txt_files(results_page_url):\n",
    "    # Send a GET request to the results page\n",
    "    response = requests.get(results_page_url)\n",
    "    \n",
    "    # Check if the request was successful (status code 200)\n",
    "    if response.status_code == 200:\n",
    "        # Parse the HTML content of the page\n",
    "        soup = BeautifulSoup(response.content, 'html.parser')\n",
    "        \n",
    "        # Find all links to individual result pages\n",
    "        result_page_links = soup.find_all('a', class_='title')\n",
    "        \n",
    "        # Iterate over each result page link\n",
    "        for link in result_page_links:\n",
    "            # Construct the URL for the individual result page\n",
    "            individual_result_page_url = urljoin(results_page_url, link['href'])\n",
    "            \n",
    "            # Retrieve and process the text file from the individual result page\n",
    "            process_individual_result_page(individual_result_page_url)\n",
    "    else:\n",
    "        print(f\"Error: Unable to fetch data from the website '{results_page_url}'.\")\n",
    "\n",
    "def process_individual_result_page(individual_result_page_url):\n",
    "    # Send a GET request to the individual result page\n",
    "    response = requests.get(individual_result_page_url)\n",
    "    \n",
    "    # Check if the request was successful (status code 200)\n",
    "    if response.status_code == 200:\n",
    "        # Parse the HTML content of the page\n",
    "        soup = BeautifulSoup(response.content, 'html.parser')\n",
    "        \n",
    "        # Extract necessary information (newspaper identifier, date, edition, sequence number)\n",
    "        # Example code: identifier = ...\n",
    "        # Example code: date = ...\n",
    "        # Example code: edition = ...\n",
    "        # Example code: sequence_number = ...\n",
    "        \n",
    "        # Construct the URL for the text file using the extracted information\n",
    "        txt_file_url = construct_txt_file_url(individual_result_page_url, identifier, date, edition, sequence_number)\n",
    "        \n",
    "        # Download the text file\n",
    "        download_txt_file(txt_file_url)\n",
    "    else:\n",
    "        print(f\"Error: Unable to fetch data from the website '{individual_result_page_url}'.\")\n",
    "\n",
    "def construct_txt_file_url(individual_result_page_url, identifier, date, edition, sequence_number):\n",
    "    # Example implementation:\n",
    "    # Construct the URL for the text file based on the provided format\n",
    "    txt_file_url = f\"{individual_result_page_url}/ocr.txt\"\n",
    "    return txt_file_url\n",
    "\n",
    "def download_txt_file(txt_file_url):\n",
    "    # Send a GET request to download the text file\n",
    "    response = requests.get(txt_file_url)\n",
    "    \n",
    "    # Check if the request was successful (status code 200)\n",
    "    if response.status_code == 200:\n",
    "        # Save the text file\n",
    "        filename = txt_file_url.split('/')[-2] + \"_ocr.txt\"\n",
    "        with open(filename, 'wb') as f:\n",
    "            f.write(response.content)\n",
    "        print(f\"Downloaded text file: {filename}\")\n",
    "    else:\n",
    "        print(f\"Error: Unable to download text file from '{txt_file_url}'.\")\n",
    "\n",
    "# URL of the results page containing links to individual result pages\n",
    "results_page_url = 'https://chroniclingamerica.loc.gov/search/pages/results/?state=&date1=1756&date2=1850&proxtext=Illuminati&x=0&y=0&dateFilterType=yearRange&rows=20&searchType=basic'\n",
    "\n",
    "# Retrieve and process text files from individual result pages\n",
    "retrieve_txt_files(results_page_url)"
   ]
  },
  {
   "cell_type": "markdown",
   "id": "98de187a-4ab2-4ddd-a79f-e9aca3204ba6",
   "metadata": {},
   "source": [
    "La récupération des données s'avérait trop difficile pour moi, pour l'instant. Heureusement, la Librairie du Congrès met à disposition une API, qui va me permettre de récupérer mes données. "
   ]
  },
  {
   "cell_type": "markdown",
   "id": "ecf95968-4a75-4316-b037-15db5dc458ed",
   "metadata": {},
   "source": [
    "API \\\n",
    "https://github.com/LibraryOfCongress/data-exploration \\\n",
    "Les premières lignes de code suivantes m'ont permis d'apprivoiser les spécificités de l'API en question.\n"
   ]
  },
  {
   "cell_type": "code",
   "execution_count": null,
   "id": "02167f14-dae9-4c00-8116-9b4d9b7c3156",
   "metadata": {},
   "outputs": [],
   "source": [
    "import requests #import the library that we use to make the http request\n",
    "r = requests.get(\"http://chroniclingamerica.loc.gov/search/pages/results/?state=Arizona&format=json\").json()\n",
    "r['itemsPerPage'] #print out the number of items per page:"
   ]
  },
  {
   "cell_type": "code",
   "execution_count": 3,
   "id": "6e587ced-7dec-4abe-94e0-6a01f8f5f568",
   "metadata": {},
   "outputs": [
    {
     "data": {
      "text/plain": [
       "20"
      ]
     },
     "execution_count": 3,
     "metadata": {},
     "output_type": "execute_result"
    }
   ],
   "source": [
    "import requests #import the library that we use to make the http request\n",
    "r = requests.get(\"http://chroniclingamerica.loc.gov/search/pages/results/?state=&date1=1776&date2=1850&proxtext=Illuminati&dateFilterType=yearRange&format=json\").json()\n",
    "r['itemsPerPage'] #print out the number of items per page:\n"
   ]
  },
  {
   "cell_type": "code",
   "execution_count": 7,
   "id": "7af192b7-725f-49d7-bf55-e67b8ad3d466",
   "metadata": {},
   "outputs": [],
   "source": [
    "illuminati_search = requests.get('http://chroniclingamerica.loc.gov/search/pages/results/?proxtext=Illuminati&format=json').json()"
   ]
  },
  {
   "cell_type": "code",
   "execution_count": 8,
   "id": "0350e17e-1ba2-4c22-b976-eac7d4b02b62",
   "metadata": {},
   "outputs": [
    {
     "data": {
      "text/plain": [
       "10469"
      ]
     },
     "execution_count": 8,
     "metadata": {},
     "output_type": "execute_result"
    }
   ],
   "source": [
    "illuminati_search['totalItems']"
   ]
  },
  {
   "cell_type": "code",
   "execution_count": 9,
   "id": "621b3f25-949c-4981-98fa-1ac3c00fa8f9",
   "metadata": {},
   "outputs": [
    {
     "data": {
      "text/plain": [
       "'https://chroniclingamerica.loc.gov/lccn/45043535/1901-05-01/ed-1/seq-27.json'"
      ]
     },
     "execution_count": 9,
     "metadata": {},
     "output_type": "execute_result"
    }
   ],
   "source": [
    "illuminati_search['items'][0]['url']"
   ]
  },
  {
   "cell_type": "code",
   "execution_count": 40,
   "id": "2e511d0d-6033-49dd-b658-9d2bfec071bf",
   "metadata": {},
   "outputs": [
    {
     "data": {
      "text/plain": [
       "'The Indian advocate.'"
      ]
     },
     "execution_count": 40,
     "metadata": {},
     "output_type": "execute_result"
    }
   ],
   "source": [
    "illuminati_search['items'][0]['title']"
   ]
  },
  {
   "cell_type": "code",
   "execution_count": 42,
   "id": "702b9236-13cf-47de-9299-2ff74658feb2",
   "metadata": {},
   "outputs": [
    {
     "data": {
      "text/plain": [
       "'19010501'"
      ]
     },
     "execution_count": 42,
     "metadata": {},
     "output_type": "execute_result"
    }
   ],
   "source": [
    "illuminati_search['items'][0]['date']"
   ]
  },
  {
   "cell_type": "code",
   "execution_count": 10,
   "id": "35760063-8af8-44af-a75b-3ec8126f06b3",
   "metadata": {},
   "outputs": [
    {
     "data": {
      "text/plain": [
       "'wmrgit Kxn\\'\"\"\\' \\'i ((vw\\nTin: Indian Advocate. 152\\nall property belonging to the foundations, abbeys and monas\\nteries within their states, and to dispose of it at their discre\\ntion in providing public worship (Protestant) and instruc\\ntion, in founding useful institutions, and \" restoring their own\\nfinances.\"\\nIn this way the whole of the temporal possessions of sev\\neral bishoprics were disposed of. Unfortunately, most of the\\nbishops died during the first fifteen years of the century; their\\nchairs remained vacant, and it seemed as if the Church was\\ndoomed to the same fate as the old empire which had been\\ndissolved in 1806 on the death of Francis II. But the more\\ngrass is cut, the more vigorously does it grow.\\nIn spite of the diabolical doctrines and the growing\\npower of the illuminati, the Church continued. Voltaire,\\nKant and Weishaupt had caused men of brain and thought to\\nconsider religious matters, and these considerations brought\\nmany illustrious converts to the Church, foremost among\\nthem Count Stolberg and Schlegel. These and their follow\\ners created a movement at the Protestant University of Jena\\nthat was very similar indeed to the famous Oxford Movement.\\nDalberg, the Primate and Archchancellor, found it neces\\nsary to translate his metropolitan rights from Mainz to Ratis\\nbon, and created a new principality for himself. The Pope,\\nseeing nearly all episcopal thrones vacant, sent Vicars-Apostolic\\nin place of the bishops; but as these men knew little or\\nnothing about Germany and the Germans, their missions\\nwere of little use. Besides, the Protestant Government set\\ninnumerable obstacles in their way, Not only did they con\\ntrol their communications with Rome, but they actually pre\\nscribed the prayers to be said in Holy Mass; indeed they went\\nso far as to legislate on the quantity of incense to be used at\\na religious ceremony.\\nNaturally the Vicars-Apostolic found it impossible to\\nAlogs Church History.'"
      ]
     },
     "execution_count": 10,
     "metadata": {},
     "output_type": "execute_result"
    }
   ],
   "source": [
    "requests.get('https://chroniclingamerica.loc.gov/lccn/45043535/1901-05-01/ed-1/seq-27/ocr.txt').text"
   ]
  },
  {
   "cell_type": "code",
   "execution_count": 33,
   "id": "cc19cade-d805-447d-b4e3-2053e8dba0c3",
   "metadata": {},
   "outputs": [],
   "source": [
    "pages = requests.get(\"http://chroniclingamerica.loc.gov/search/pages/results/?proxtext=Illuminati&rows=20&format=json\").json()"
   ]
  },
  {
   "cell_type": "code",
   "execution_count": 12,
   "id": "9cf775ec-c0c5-4328-94ee-70e5cd075f8e",
   "metadata": {},
   "outputs": [
    {
     "data": {
      "text/plain": [
       "[('District of Columbia', 3),\n",
       " ('Delaware', 2),\n",
       " ('Maine', 2),\n",
       " ('Utah', 2),\n",
       " ('Minnesota', 2),\n",
       " ('Oklahoma', 1),\n",
       " ('Connecticut', 1),\n",
       " ('Michigan', 1),\n",
       " ('Texas', 1),\n",
       " ('Maryland', 1),\n",
       " ('North Carolina', 1),\n",
       " ('Illinois', 1),\n",
       " ('Virginia', 1),\n",
       " ('New York', 1)]"
      ]
     },
     "execution_count": 12,
     "metadata": {},
     "output_type": "execute_result"
    }
   ],
   "source": [
    "from collections import Counter\n",
    "\n",
    "c = Counter()\n",
    "for page in pages['items']:\n",
    "    c[page['state'][0]] += 1\n",
    "    \n",
    "c.most_common()"
   ]
  },
  {
   "cell_type": "code",
   "execution_count": 21,
   "id": "a332bd69-9b85-4d64-8218-3c8ad2b48766",
   "metadata": {},
   "outputs": [],
   "source": [
    "illuminati_search_1776_1850 = requests.get('http://chroniclingamerica.loc.gov/search/pages/results/?state=&date1=1776&date2=1850&proxtext=Illuminati&dateFilterType=yearRange&format=json').json()"
   ]
  },
  {
   "cell_type": "markdown",
   "id": "e317ffd0-9a61-4f6b-b44f-536f4e1539c4",
   "metadata": {},
   "source": [
    "?state=&date1=1756&date2=1776&proxtext=Illuminati&x=4&y=20&dateFilterType=yearRange&rows=20 \\\n",
    "copie format lien requête à la main"
   ]
  },
  {
   "cell_type": "code",
   "execution_count": 22,
   "id": "f92ddd12-d66c-4794-9636-1fdb1ba7d0c7",
   "metadata": {},
   "outputs": [
    {
     "data": {
      "text/plain": [
       "130"
      ]
     },
     "execution_count": 22,
     "metadata": {},
     "output_type": "execute_result"
    }
   ],
   "source": [
    "illuminati_search_1776_1850['totalItems'] #on a le bon nombre"
   ]
  },
  {
   "cell_type": "code",
   "execution_count": 23,
   "id": "ec62fe38-ede3-4b1c-ae12-20ad7408fe45",
   "metadata": {},
   "outputs": [
    {
     "data": {
      "text/plain": [
       "'https://chroniclingamerica.loc.gov/lccn/sn88053122/1831-09-30/ed-1/seq-2.json'"
      ]
     },
     "execution_count": 23,
     "metadata": {},
     "output_type": "execute_result"
    }
   ],
   "source": [
    "illuminati_search_1776_1850['items'][0]['url']"
   ]
  },
  {
   "cell_type": "code",
   "execution_count": null,
   "id": "e0eb351f-d8c2-40c0-9753-f40b7037e303",
   "metadata": {},
   "outputs": [],
   "source": [
    "illuminati_search = requests.get('http://chroniclingamerica.loc.gov/search/pages/results/?proxtext=Illuminati&format=json').json()\n",
    "illuminati_search_1776_1850['items'][0]['url']\n",
    "illuminati_search_1776_1850['items'][0]['title']\n",
    "illuminati_search_1776_1850['items'][0]['date']\n",
    "requests.get('https://chroniclingamerica.loc.gov/lccn/sn88053122/1831-09-30/ed-1/seq-2/ocr.txt').text"
   ]
  },
  {
   "cell_type": "code",
   "execution_count": 24,
   "id": "89c4eab2-73dd-4e31-832b-e5c93d682933",
   "metadata": {},
   "outputs": [
    {
     "data": {
      "text/plain": [
       "'By several Â«rivals at New York, London and of\\nParis papers to the 16th of August have been\\nreceived. h or our extracts we arc milÂ«. > 0 ; m a\\nour correspondents of the American, the Stan- ^\\n, dar<l, the Morning Gouner, and the Daily. ^\\nAdvertiser.\\nFrom the London Sun of Aagart Su.. ^\\nMarch of the French ,Â® ; cast II\\nportance thicken on usâ\\x80\\x94thedieol war is cast\\nLand a French army of 50 000 men, now\\non ns march to assist the King of the Behans\\nin repelling the invasion of the Dutch. This ^\\nis indeed important news, and must lead *Â° -,\\ntesults of great importance. . . ...\\nIt appears that on Thursday night, intelli-|\\ngence had been received at Paris of the Dutch!\\nhaving broken the armistice, and commenced,\\nimmediate hostilities, bv the capture of some\\nof the Belgian towns. Nearly at the same time\\nan express arrived from King Leopold, tlemand\\ning the aid of a French army to preserve the\\nneutrality of Belgium, and to repel the Dutch.\\nThe French King immediately convoked a\\nCouncil, at which M. Perrier and all the late\\nMinistry attended. The result of their delib\\nerations was the publication of an Extraordi\\nnary Edition of the Moniteur.\\nThe decision of the French was at once\\nprompt_boldâ\\x80\\x94honorableâ\\x80\\x94and in accordance\\nwith the often expressed feelings of the nation.\\nBut the question arises, what will be the con\\nof this step? We answerâ\\x80\\x94War\\nâ\\x96\\xa0ith Kussiaâ\\x80\\x94and very\\nAt present this\\nthe appearance of\\nFOWIAU.V .VYAVft.\\nby\\nin\\nry\\nis\\nto\\nof\\n>v\\nan\\nsequences\\nwith Prussiaâ\\x80\\x94War\\nprobably war with Austria;\\nunavoidable fr\\nthings, for it is impossible to conceive that the\\nperfidious King of Holland, with all his obsti\\nnaev, would have been mad enough to precipi\\ntate a war without the secret encouragement\\nof Prussia and Russia,â\\x80\\x94But he will yet pay\\ndearjv for his temerity.\\nExpresses front Parts â\\x80\\x94The King of France\\nreceived intelligence late\\nseem a\\n. ........j on Wednsday Right 1\\nthat â\\x80\\x9en Thursday morning, the 4th of August/\\nat half past nine o\\'clock, the King of Holland \\'\\nintended to recommence hostilities against,highly\\nBelgium i\\nEarl v on Thursday morning a special courier !\\nÂ«ached the French\\'government With an auto-i\\ngranhy letter from King Leopold, announcing*\\nft is 1 said, the declaration of war on the part of 1\\nHolland, and claiming frÃ´m France the assist-*\\'â\\x84¢\\nonce of an army, to maintain the independence!\\n1 neutrality which was promised to Belgium:\\'\\nby the Great Powers.\\nA nine o\\'clock on the same morning\\nKing held a Council at the Paiace Royal, when!\\nall the Ministers of M. Casimir PerVier\\'s ad\\nBerlin papers arrived, this morning, to the\\n7th instant. The Prussian State G .Â»zette of\\nthe 5th and 6th gives accounts from Warsaw,\\nto the 28th of July, of whieh the following is j\\nthe substance: but which must of couse be re\\nccived with caution and hesitation, having re\\ngard to the medium through which they are\\ntransmitted.\\n1 be danger is coming nearer, and begins to\\nbe more and more urgent; and in order to en\\ncourage the people and set an example of\\nmaking every effort, the Deputies to the Diet\\nare to assemble on the ramparts, to-morrow,\\nto work on the fortifications.\\nThe substance of the articles respecting the\\nmilitary operations is as follows:\\nOn the 22d the Russian General Gerstenz\\nwieg, sent out from the environs of Sochoehin,\\nintending to proceed bv the road from Pul-j\\ntusk to Niessawa. there to ioin Count Paske\\nwitsch. The Polish General Muhlberg, hav\\ning marched in that direction to hinder him.\\nan action took place on the 23d, in which the\\nRussians are stated to have lost some officers,\\nand about fifty men killed, wounded, and\\nprisoners. The Poles say they lost two superi- 5\\nor officers, and twenty men killed or wounded,\\nGeneral Gerstenzwieg. finding he could not\\'\\nproceed in that direction, recrossed the Wkra, j\\nbreaking down the bridges behind him, and\\nreturned to Ciechanow. The Warsaw Gazette\\nthat General Gerstenzwieg afterwards\\nmarched along Wkra, and with his corps join\\ned the army under Count Paskewitsch.\\nThe Russians says the Warsaw Gazette,\\nare marching along the left bank of the Vistula\\nministration attended, including the President\\nhimself, and determined to remain in office\\nUnder the present emergency, until the debate\\nupon the address in the Chamber of Deputies.\\nIt was also resolved that Gen. Girard, at the\\nhead of 50,000 French troops, should immedi\\nately march to the aid of the King of Belgium.\\ns;\\nand occupy Kowal; but it is not confirmed\\nthat Krasniewia is in their hands. The direct\\ncommunications between Kojo and Klodawa\\nare interrupted. At Wolzh said; the landstnrm i\\nhad an action with the enemy. \\'I hey took the!\\ntown three times, but were at length driven\\nout and forced to retreat. Many Cossacks\\nwere killed. I he Russians are said to have\\noccupied Ruttno on the 25th, but the pbsts\\nfrom that place have since arrived at Warsaw,\\nGenerrl Rudiger still remains on the Wieprz\\nsupported y the 7th division of infantry under\\nGeneral Kaiaaroff. The two corps of Rudiger\\nan l Caisaroff amount to 32,000.\\nIt appears from accounts from Prussia, that\\nGenerals Dembinski and Sierakowski are still\\nin Lithuania.\\nI\\'m* State Gazette of Warsaw says that the\\nlif ted 90,000 men, to put\\ndown the insurrection in Lithuania.\\nHi* ;ians h;Â»\\\\e\\nThe Warsaw Courier says, it iss\\'positively\\n[affirmed that General Krukoniecki will again\\nfill-the important post of Governor of the Ã\\x87ity\\nof j uly 29 ._ T he day before yester\\n^ National Government and the Corn\\nm a nde rm Chief are reported to have discussed,\\n^ ^ t counei i D f war , the state of affairs\\n^ ^ fuMre plan3i Th< Dict in w ir,ch the\\n[result was immediately communicated, issued\\n^ , amat ; on to th \\' ople â\\x80\\x9ed the army.\\nII seems that thc y P re P are fut a mortal atrug\\nâ\\x80\\x9eâ\\x80\\x9epears also that it is intended to Bend,\\nto Lithuania aml VoftymÂ«7|\\n, hc insuirect iort is said to have broken\\n^ Kudig â\\x80\\x9e - ]S preparing to cross the\\n-, Vistula, but we have no positive infor\\n\\'\\'\\nthe\\nthe\\nIf\\nfor\\nyou\\nmauon.\\nANTI-MASONIC.\\nto\\nto\\nmy\\nthe\\nof\\nto\\nis\\nWASHINGTON AND MASONRY.\\nThe Journal publishes a letter, purporting\\nhave been addressed to Gen. Washington,\\nby the Grand Lodge of Pennsylvania, and his\\nreply to the same. These letters, with some\\nothers, were published two or three years ago\\nin the masonic papers of New-York. They\\nthen pronounced forgeries, and\\ndence to the contrary was ever produced,\\nwhile Washington\\'s letter has no date. Ad\\nmitting, however, that they were not, (though\\ninstitution that has murdered and bribed to\\nperjury, might be supposed to consider forge\\nry not a very criminal act) what does Wash\\nington say in favour of Masonry? Nothing.\\nThere is not a sentence, i r a part of a sen\\ntence, in the letter, favourable to masonry. It\\nis evidently written with studied evasion.\\nWashinton\\'s opinion, as favourable to masory,\\ncannot, therefore, be gathered from his letters\\nto the brethien.\\nThese letters to and from the Grand Lodges\\nof Pennsylvania, Massachusetts, Rhode-Island.\\n&c. although they do not produce evidence lh|(|\\ncd of the masonic ins\\'mn\\n>v ere\\nan\\n1 Washington approve\\nÂ«Â«\"â\\x80¢ contained evidence oi another descrip\\n\\' tIon \\' equally important to the public, and\\nagainst,highly favourable to the cause of antimasonry.\\nWashington\\'s farewell address 1\\n\\'on the first Wednesday of Dt\\ni vÂ« Haum^iuu s sium css was delivered\\n! first Wednesday of December, 1796, in\\nwhich he denounced \\'all secret associations,\\n\"Â» dangerous and pernicious. I his gave the\\nof 1 fraternity a general alarm. Accordingly-, every\\nassist-*\\'â\\x84¢ 1111 Lodge in the L nilcd States addressed\\nhim as it were, simultaneously, about the\\n1 \"\" 0 * thu sau,c month, on the subject, for\\nI\\'jV 1 l lur I lose of counteracting the effect of the\\nthe,denunciation, and pledging him to the Order.\\n*\\' h \\' B had not the desired effect. Washington\\nwould not pledge himself to masonry lhe\\ncraft were therefore obliged to be contented\\nwith slandering him secretly, and praising and\\nclaiming him publicly, and endeavouring by\\nevery possible means to allay the suspicions\\nhe ha/i awakened in the minds of the people\\nrespecting the institution.\\nt here has been evidence, conclusive, before\\nthe public, to prove that Washington was, in\\nheart an antimason; that in all instances where\\nlie was called upon by his friends, to give his\\nof opinion or advice on the subject, it was uni\\nformly against the institution. Still he knew\\nis j ls power, and its proscriptive and vengeance\\nfollowing principles, and was therefore guard\\ned in his expressions, and intended only to\\nleave on the minds of his friends the impres\\nsion that he could say nothing in favor of the\\nto institution, and leave them to the irresistible\\nconclusion that be disapproved of it.\\nof I n addition to much other evidence <\\npoint, we now present our readers with his\\nletters to a highly respectable Divine, then\\nliving in Maryland, on this subject. J hev are\\nwritten with caution, but contain declarations\\nwhich put the matter entirely at rest, rc\\nspecting his opinion of masonry. From their\\nperusal every man must conclude that he was\\na n anti-mason.â\\x80\\x94 Anti-Masonic Herald.\\n~ . P ... r r . . _ , â\\x80\\x9e\\nT *â\\x80\\x9e t r Ae . f d \\'t 0r jf the . 9?\"l ,nal \\'/ \" e Galley,\\nWoodstock, Shenandoah Co., Vtrgtma.\\nthe Sir-- 1 hrough the politeness of a friend late\\nOI ) a visit to 1\\' rcderick county, I was favored\\nand with a perusal of several letters\\n5 Gen. Washington. Not knowing whether you\\nimav have seen them or n^t. I concluded by\\nnot\\' permission to send them to you. I should be\\nj glad to see them in your paper, and with them\\nand (the remarks I have subjoined. By which you\\nwill much oblige\\ntill!\\n\"ritten by\\nYour\\'\\nSCRUTATOR.\\nLETTER 1.\\nMt. Vernon, September 25, Ã\\x8f 708.\\nSirâ\\x80\\x94M any apologies are due to you for my\\nnot acknwlcdging the receipt of your obliging\\nfavor of the 2d ult, and for not thanking you\\nat an earlier period, for the book you had the\\ni goodness to send me. I have heard much of\\nthe! the nefarious and dangerous plan and doctrine\\nof the Illuminati, but never saw the book until\\nyou were pleased to stnd it to me.\\nhave causes have prevented my reading the book\\npbsts hitherto, viz:â\\x80\\x94the multiplicity of matters\\nwhich pressed upon\\ntated state in which I was left after\\nfever had been removed, and which allows\\nto add little more here than thanks for vorn\\nwishes and favorable sentiments, except to\\nthat correct an error you have run into_of my\\nstill presiding over the English lodges in this\\ncountry. The fact is, I preside over none, nor\\nhave I been in any, more than once or twice\\nwithin the last thirty years. I believe not\\nwithstanding that none of the lodges in this\\nThe same\\nbefore, and the debili\\na severe\\nthe\\nput\\na\\ncountry arc contaminated With the principles\\nascribed to the society of the Illuminati.\\nWith respectÂ» I am, &c.\\nG. WASHINGTON.\\nLETTER 2.\\nMt. Vernon, Oct, 10, 1798.\\nSirâ\\x80\\x94I t is more than a fortnight since I ac\\nknowledged the receipt of your first letter, on\\nthe subject of the Illuminati, and thanked you\\nRobinson\\'s account of that society. It\\nwent to the Post-office as usual, addressed to\\nthe Rev. Mr. Snyder, of Frederkktown Md.\\nIf it has not been received before this, some\\nmishap must, have attended it, of which I pray\\nit could not have been\\nfor\\nyou to advise me, as\\nreceived at the date of your last, not being\\nmentioned.â\\x80\\x94I am, 8tc. _\\nG WASHINGTON.\\nLETTER 3.\\nMt. Vernon. Oct. 1798.\\nRev. Sirâ\\x80\\x94 I have you favor of the 17th\\ninstant before me, and my only motive to\\ntrouble you with the receipt of this letter, is\\nto explain and correct a mistake, which, I\\nperceive the hurry in which l am obliged often\\nto write letters, has led you into. It was not\\nmy intention to doubt, that the doctrines of\\nthe Illuminati and the principles of Jacobinism\\nhad spread in the United States ; on the con\\ntrary no one is more fully satisfied of the fact\\nthan I am. The idea I meant to convey was,\\nthat I did not believe that the lodges of free\\nmasons in this country had, as societies en\\ndeavoured to propagate the diabolical tenets\\nof the first, or the pernicious principles of the\\nlatter (if they are susceptible of separation.)\\nThat individuals of them may have done it,\\nand that the founder or instrument employed\\nto found the Democratic Societies in the Uni\\nted States may have these objects and actually\\nhad a separation of the people from their gov\\n\\' too evident to be questioned.\\nMy occupations arc such that but little leisure\\nis allowed me to read newspapers of any kind;\\nthe reading of letters and preparing of answers\\nabsorbs much of my time.\\nWith respect, (kc.\\nG. WASHINGTON.\\nNow, if Washington hail considered the in\\nstiuttion a good one, he would have visited the\\nlodges, more than\\'once or twice, within thirty\\nyears.\\' Washington was a man of purityÂ» and\\nhe would not have banished the habitation of\\nthe \\'hand-maid of religion!\\' from his presence,\\nwith so little ceremony, for thirty years.\\nWashington\\'s opinion of masonry stands in\\nhold relief, in the first letter, and \\'he that runs\\nmav read.\\' and understand.\\nThe following denunciation of \\'\\'all combina\\ntions,\" given in his farewell addres, conies in\\nvery well here. It can be easily understood.\\nIt conincides with the sentiment cautiously ex\\npressed in his letters, and the reader should\\nremember that it was given near two years be r\\nfore the letters were written.â\\x80\\x94 A. M. Herald.\\n\"All obstructions to the exÃ©cutons of laws,\\nall combinations and associations, under\\never plausible character, with the real design to\\'\\ndirect, control , counteract , or awe the constitu-j\\nted authorities, are destructive of this funda\\nmental principle, and of fatal tendency. They\\nserve to organizeyhe/io;;, to give it an\\ncial and extraordinary force, to put it in\\nplace of the delegated will of the nation, the\\nwill of the party, often a small, but enterpris\\ning minority of the community; and according\\nto the alternate triumphs of different parties,\\nto make the public administration the mirror\\nof the ill concerted and incongruous projects\\nof faction, rather than the organs of consistent\\nand wholesome plans, digested by common\\ncouncils and modified by mutual interest.\\n\"However combinations or associations of the\\nabove description, may now and then answer\\npopular ends, they are likely in the course of\\ntime and things to become potent engines, hv\\nwhich cunning, ambitious, and unprincipled\\nmen will be enabled to subvert the power of\\nthe people, and usurp for themselves the reigns\\nof government.\"\\nIf such language as this, together with the\\nfact that he had hardly been in a Lodge for\\nthirty years , does not prove hint a Secedcr,\\nwe know not what can.\\neminent m view,\\nby\\nbe\\nby\\n\"MASONIC CHARITY.\"\\nWe copy an extract from a Masonic band\\nbill, (says the Boston Free Press,) 5 or 6000\\nof which are said to have been distributed in\\nthe stores and dwelling houses in the city, the\\nnext day after the meeting at Faneuil Hall.\\nIt bears date Sept. 9th, 1829, [A I. (Anno\\nLodges ) 5829] with the signature of Samuel\\nMallen, a gentleman holden in the highest es\\ntimation by the fraternity, who has reached as\\nwc understand, the very topmost round of the\\nMasonic Ladderâ\\x80\\x94Hear him:\\n* \" I HOPE Godwill strictly visit all the en\\nemies of Masonry with the contents of ihe CIS.\\nPsalm, from the 6th verse .\"\\nThe Anchor of Hope garnished one corner\\nof the handbill, and the Masonic Temple with\\nall its beautiful emblems of Faith, Hope, and\\nCharity, the other. We copy the blessings be\\nstowed upon Anti-masons, by a disciple of the\\n\" Handmaid\" of Masonic Religion, from\\nPsalm 109th.\\nG. \" Set thou a wicked man over him;* and\\nlet Satan stand at his right hand.\\n7. When he shall be judged, let him be con\\ndemned; and let bis prayer become sin.\\n8. Let bis days be few, and let another take\\nmy\\nthe\\nof\\nto\\nmy\\nhis offer,\\nWmd hi* -Wife\\nre \\'visited\\' on\\n9. Let hh child^Ã\\x8a\\na widow ! [This the\\nMorgan.]\\nXO. Let his children be continually vaga\\nbonds. and beg; let them seek their bread also\\nout of desolate places.\\nXI. Let the extortioner,catch all that lie hath;\\nand let the stranger spoil his labor.\\n12. Let there be none to extend mercy unto\\nhim ; neither let there be any to favor his fa\\ntherless children. ...\\nIS. Let his prosperity be cut off; and in the\\ngeneration following, let their nam i be blotted\\n14. Let the iniquity of his fathers be re\\nmembered with the Lord ; and let the sin of\\nhis mother be blotted out.\\n15. Let them be before the Lord continual\\nly, that he may cut off the memory of ^hem.\\nfrom the earth.\\n16. Because that he remembered not to\\nshow mercy, but persecuted the poor and\\ndy man, that he might even slay the broken\\nheart.\\n17. As he loved cursing, let it come unto\\nhe delighted not in blessing, so let it\\nllffn ;\\n; as\\nbe from him.\\n18. As he closed himself with pursing like,\\nlet it come unto his\\nnth a garment,\\nbowels with water, and like oil into his bones#\\n19. Let it be unto him as a garmentf which\\ncovcreth him, and for a girdle wherewith he is\\ngirded continually.\\n20. Let this be the reward of my adversa\\nries from the Lord, and them that speak evil\\nagainst my soul.\"â\\x80\\x94 Roch. Enq.\\nâ\\x99¦This \"curse\" lias been fulfilling ev\\nsoniy had an existenceâ\\x80\\x94wicked\\nover usâ\\x80\\x94and\\n\" curse.\"\\nf This is the extreme unction of cursing.\\nas\\nincc Ma\\nhave been sec\\ndetermined to get rid of the.\\nBenedict Arnold was a Mason .â\\x80\\x94Wc are en\\nabled to settle this fact on the best testimony\\nthat can he asked. A worthy and esteemed\\nofficer of the revolution, now resident in Con\\nnecticut, spent a few daÃ¿s in this village last\\nweek. He was formerly a Mason, but long\\nsince turned away from the Institution with\\ndisgust, as many other revolutionÃ¤r worthies.\\nin- uot excepting Washington have done. He\\nstates that to his certain knowledgs, General\\n| Arnold the identical traitor, Benedict Ar\\njnold â\\x80\\x94was a Masons that he (our iÂ«dormant)\\nof sat in a lodge in Morristown. N. J., in the\\nwinter of 1779â\\x80\\x9480. and that General Arnold\\nâ\\x80\\x94the identical traitor wan present at that\\nin time in the lodge, as a brother. He (our in\\nformant) acted that evening as a junior deacon,\\nand another person now living in Colchester,\\nConn, acted as junior warden. The informa\\nin turn may be depended upon. The character\\nof \\'he â\\x84¢Â»n from whom it is obtained is a full\\nex- guarantee for its truth. We may have yet\\nmore t0 sa y Is denied,\\nr We do not take the trouble to prove that\\nArnold was a Mason because of any gif at con\\nsequence in the fact, but to put the seal of si\\nwhat-1\\'fence upon the braggart frothing declaration,\\nto\\' lliat \\' every officer of the revolution, except*\\nING Benedict Arnold, was a Mason,\\'\\nP. S. In a later conversation, our informant\\nfurther states, that General Washington and\\nartifi-jGeneral Arnold, on this occasion, came into\\nthe\\'the lodge together. Now the fraternity say\\nthe that Washington was a Mason. We say that\\nArnold was also a Mason. So that ncutrali\\nzea this argument. It is as good on one side\\nas the other, and leaves us to look to other\\nfacts for the good or bad of Masonry. We\\nhave no evidence that Arnold deserted the in\\nstitution. We have full evidence that Wash-Â»\\nington and other true revolutionary patriots\\ndid, including our informant and the venerable\\nthe Henry Sewnll.-â\\x80\\x94 Utica ElucidÃ¢t or.\\nof\\nhv\\nof\\nfor\\nbeauties or masonry.â\\x80\\x94 A masonic priest\\na year or two since, when touching upon the*\\n\\'excitement\\', while preaching to an audience of\\nmasons, made use of the following expression:\\n\" Shall I mention the name of William Morgan\\nan outcast in societv. A CHILD OF SATAN\\nA HELL ENGENDERED TRAITOR?\"\\nAnother masonic priest, when saluted by\\nfriend, a Baptist deacon who had renounced\\nreplied thus:â\\x80\\x94\"Not a word out of your mouth\\nyou perjured villain !\"\\nA short time since, in a certain town in\\nFairfield county, as a group of masons were\\nconsulting each other upon the affairs of the\\n\"noble institution,\" in presence of a masonic\\nclergyman, antimasonry was anathematized in\\ngreat style. Befote the close cf the interview\\nthe \\'villainous character* of Crocker and Fan\\nton, was made the topic of remark. Says one\\nhonourable and delicate \" brother,\" \"I hope\\nthat when Crocket lectures again, some one\\nwill dash in his face the contents of a pot de\\'\\nchambre (!) This sentiment met with a lotul\\nand hearty response from the whole group! v\\nHow beautiful!! How delicate and chaste is\\nthe language of masonry ! !â\\x80\\x94Hartford Intelli\\ngencer.\\nin\\nthe\\nes\\nas\\nthe\\nen\\nand\\nbe\\nthe\\nand\\nEbcnczer Mix, one of the most activÃ§ Mor\\ngan conspirators, one of the banditti that as\\nsailed Miller\\'s printing office, himself carrying\\na bludgeon, has just been elected Grand Cap\\ntain General of the Grand Encampment of\\nNew York! Masonry loves and cherishes\\nkidnappers a3 dearly beloved children. The\\nbludgeon above mentioned is preserved as a\\ntrophy (says, the Albany Journal,) by a lady\\nof Batavia.\\nÂ¥'"
      ]
     },
     "execution_count": 24,
     "metadata": {},
     "output_type": "execute_result"
    }
   ],
   "source": [
    "requests.get('https://chroniclingamerica.loc.gov/lccn/sn88053122/1831-09-30/ed-1/seq-2/ocr.txt').text"
   ]
  },
  {
   "cell_type": "code",
   "execution_count": 25,
   "id": "ecb25eaf-c3a3-442b-b759-e9707ea7cca4",
   "metadata": {},
   "outputs": [
    {
     "data": {
      "text/plain": [
       "'By several «rivals at New York, London and of\\nParis papers to the 16th of August have been\\nreceived. h or our extracts we arc mil«. > 0 ; m a\\nour correspondents of the American, the Stan- ^\\n, dar<l, the Morning Gouner, and the Daily. ^\\nAdvertiser.\\nFrom the London Sun of Aagart Su.. ^\\nMarch of the French ,® ; cast II\\nportance thicken on us—thedieol war is cast\\nLand a French army of 50 000 men, now\\non ns march to assist the King of the Behans\\nin repelling the invasion of the Dutch. This ^\\nis indeed important news, and must lead *° -,\\ntesults of great importance. . . ...\\nIt appears that on Thursday night, intelli-|\\ngence had been received at Paris of the Dutch!\\nhaving broken the armistice, and commenced,\\nimmediate hostilities, bv the capture of some\\nof the Belgian towns. Nearly at the same time\\nan express arrived from King Leopold, tlemand\\ning the aid of a French army to preserve the\\nneutrality of Belgium, and to repel the Dutch.\\nThe French King immediately convoked a\\nCouncil, at which M. Perrier and all the late\\nMinistry attended. The result of their delib\\nerations was the publication of an Extraordi\\nnary Edition of the Moniteur.\\nThe decision of the French was at once\\nprompt_bold—honorable—and in accordance\\nwith the often expressed feelings of the nation.\\nBut the question arises, what will be the con\\nof this step? We answer—War\\n■ith Kussia—and very\\nAt present this\\nthe appearance of\\nFOWIAU.V .VYAVft.\\nby\\nin\\nry\\nis\\nto\\nof\\n>v\\nan\\nsequences\\nwith Prussia—War\\nprobably war with Austria;\\nunavoidable fr\\nthings, for it is impossible to conceive that the\\nperfidious King of Holland, with all his obsti\\nnaev, would have been mad enough to precipi\\ntate a war without the secret encouragement\\nof Prussia and Russia,—But he will yet pay\\ndearjv for his temerity.\\nExpresses front Parts —The King of France\\nreceived intelligence late\\nseem a\\n. ........j on Wednsday Right 1\\nthat „n Thursday morning, the 4th of August/\\nat half past nine o\\'clock, the King of Holland \\'\\nintended to recommence hostilities against,highly\\nBelgium i\\nEarl v on Thursday morning a special courier !\\n«ached the French\\'government With an auto-i\\ngranhy letter from King Leopold, announcing*\\nft is 1 said, the declaration of war on the part of 1\\nHolland, and claiming frôm France the assist-*\\'™\\nonce of an army, to maintain the independence!\\n1 neutrality which was promised to Belgium:\\'\\nby the Great Powers.\\nA nine o\\'clock on the same morning\\nKing held a Council at the Paiace Royal, when!\\nall the Ministers of M. Casimir PerVier\\'s ad\\nBerlin papers arrived, this morning, to the\\n7th instant. The Prussian State G .»zette of\\nthe 5th and 6th gives accounts from Warsaw,\\nto the 28th of July, of whieh the following is j\\nthe substance: but which must of couse be re\\nccived with caution and hesitation, having re\\ngard to the medium through which they are\\ntransmitted.\\n1 be danger is coming nearer, and begins to\\nbe more and more urgent; and in order to en\\ncourage the people and set an example of\\nmaking every effort, the Deputies to the Diet\\nare to assemble on the ramparts, to-morrow,\\nto work on the fortifications.\\nThe substance of the articles respecting the\\nmilitary operations is as follows:\\nOn the 22d the Russian General Gerstenz\\nwieg, sent out from the environs of Sochoehin,\\nintending to proceed bv the road from Pul-j\\ntusk to Niessawa. there to ioin Count Paske\\nwitsch. The Polish General Muhlberg, hav\\ning marched in that direction to hinder him.\\nan action took place on the 23d, in which the\\nRussians are stated to have lost some officers,\\nand about fifty men killed, wounded, and\\nprisoners. The Poles say they lost two superi- 5\\nor officers, and twenty men killed or wounded,\\nGeneral Gerstenzwieg. finding he could not\\'\\nproceed in that direction, recrossed the Wkra, j\\nbreaking down the bridges behind him, and\\nreturned to Ciechanow. The Warsaw Gazette\\nthat General Gerstenzwieg afterwards\\nmarched along Wkra, and with his corps join\\ned the army under Count Paskewitsch.\\nThe Russians says the Warsaw Gazette,\\nare marching along the left bank of the Vistula\\nministration attended, including the President\\nhimself, and determined to remain in office\\nUnder the present emergency, until the debate\\nupon the address in the Chamber of Deputies.\\nIt was also resolved that Gen. Girard, at the\\nhead of 50,000 French troops, should immedi\\nately march to the aid of the King of Belgium.\\ns;\\nand occupy Kowal; but it is not confirmed\\nthat Krasniewia is in their hands. The direct\\ncommunications between Kojo and Klodawa\\nare interrupted. At Wolzh said; the landstnrm i\\nhad an action with the enemy. \\'I hey took the!\\ntown three times, but were at length driven\\nout and forced to retreat. Many Cossacks\\nwere killed. I he Russians are said to have\\noccupied Ruttno on the 25th, but the pbsts\\nfrom that place have since arrived at Warsaw,\\nGenerrl Rudiger still remains on the Wieprz\\nsupported y the 7th division of infantry under\\nGeneral Kaiaaroff. The two corps of Rudiger\\nan l Caisaroff amount to 32,000.\\nIt appears from accounts from Prussia, that\\nGenerals Dembinski and Sierakowski are still\\nin Lithuania.\\nI\\'m* State Gazette of Warsaw says that the\\nlif ted 90,000 men, to put\\ndown the insurrection in Lithuania.\\nHi* ;ians h;»\\\\e\\nThe Warsaw Courier says, it iss\\'positively\\n[affirmed that General Krukoniecki will again\\nfill-the important post of Governor of the Çity\\nof j uly 29 ._ T he day before yester\\n^ National Government and the Corn\\nm a nde rm Chief are reported to have discussed,\\n^ ^ t counei i D f war , the state of affairs\\n^ ^ fuMre plan3i Th< Dict in w ir,ch the\\n[result was immediately communicated, issued\\n^ , amat ; on to th \\' ople „d the army.\\nII seems that thc y P re P are fut a mortal atrug\\n„„pears also that it is intended to Bend,\\nto Lithuania aml Voftym«7|\\n, hc insuirect iort is said to have broken\\n^ Kudig „ - ]S preparing to cross the\\n-, Vistula, but we have no positive infor\\n\\'\\'\\nthe\\nthe\\nIf\\nfor\\nyou\\nmauon.\\nANTI-MASONIC.\\nto\\nto\\nmy\\nthe\\nof\\nto\\nis\\nWASHINGTON AND MASONRY.\\nThe Journal publishes a letter, purporting\\nhave been addressed to Gen. Washington,\\nby the Grand Lodge of Pennsylvania, and his\\nreply to the same. These letters, with some\\nothers, were published two or three years ago\\nin the masonic papers of New-York. They\\nthen pronounced forgeries, and\\ndence to the contrary was ever produced,\\nwhile Washington\\'s letter has no date. Ad\\nmitting, however, that they were not, (though\\ninstitution that has murdered and bribed to\\nperjury, might be supposed to consider forge\\nry not a very criminal act) what does Wash\\nington say in favour of Masonry? Nothing.\\nThere is not a sentence, i r a part of a sen\\ntence, in the letter, favourable to masonry. It\\nis evidently written with studied evasion.\\nWashinton\\'s opinion, as favourable to masory,\\ncannot, therefore, be gathered from his letters\\nto the brethien.\\nThese letters to and from the Grand Lodges\\nof Pennsylvania, Massachusetts, Rhode-Island.\\n&c. although they do not produce evidence lh|(|\\ncd of the masonic ins\\'mn\\n>v ere\\nan\\n1 Washington approve\\n««\"• contained evidence oi another descrip\\n\\' tIon \\' equally important to the public, and\\nagainst,highly favourable to the cause of antimasonry.\\nWashington\\'s farewell address 1\\n\\'on the first Wednesday of Dt\\ni v« Haum^iuu s sium css was delivered\\n! first Wednesday of December, 1796, in\\nwhich he denounced \\'all secret associations,\\n\"» dangerous and pernicious. I his gave the\\nof 1 fraternity a general alarm. Accordingly-, every\\nassist-*\\'™ 1111 Lodge in the L nilcd States addressed\\nhim as it were, simultaneously, about the\\n1 \"\" 0 * thu sau,c month, on the subject, for\\nI\\'jV 1 l lur I lose of counteracting the effect of the\\nthe,denunciation, and pledging him to the Order.\\n*\\' h \\' B had not the desired effect. Washington\\nwould not pledge himself to masonry lhe\\ncraft were therefore obliged to be contented\\nwith slandering him secretly, and praising and\\nclaiming him publicly, and endeavouring by\\nevery possible means to allay the suspicions\\nhe ha/i awakened in the minds of the people\\nrespecting the institution.\\nt here has been evidence, conclusive, before\\nthe public, to prove that Washington was, in\\nheart an antimason; that in all instances where\\nlie was called upon by his friends, to give his\\nof opinion or advice on the subject, it was uni\\nformly against the institution. Still he knew\\nis j ls power, and its proscriptive and vengeance\\nfollowing principles, and was therefore guard\\ned in his expressions, and intended only to\\nleave on the minds of his friends the impres\\nsion that he could say nothing in favor of the\\nto institution, and leave them to the irresistible\\nconclusion that be disapproved of it.\\nof I n addition to much other evidence <\\npoint, we now present our readers with his\\nletters to a highly respectable Divine, then\\nliving in Maryland, on this subject. J hev are\\nwritten with caution, but contain declarations\\nwhich put the matter entirely at rest, rc\\nspecting his opinion of masonry. From their\\nperusal every man must conclude that he was\\na n anti-mason.— Anti-Masonic Herald.\\n~ . P ... r r . . _ , „\\nT *„ t r Ae . f d \\'t 0r jf the . 9?\"l ,nal \\'/ \" e Galley,\\nWoodstock, Shenandoah Co., Vtrgtma.\\nthe Sir-- 1 hrough the politeness of a friend late\\nOI ) a visit to 1\\' rcderick county, I was favored\\nand with a perusal of several letters\\n5 Gen. Washington. Not knowing whether you\\nimav have seen them or n^t. I concluded by\\nnot\\' permission to send them to you. I should be\\nj glad to see them in your paper, and with them\\nand (the remarks I have subjoined. By which you\\nwill much oblige\\ntill!\\n\"ritten by\\nYour\\'\\nSCRUTATOR.\\nLETTER 1.\\nMt. Vernon, September 25, Ï 708.\\nSir—M any apologies are due to you for my\\nnot acknwlcdging the receipt of your obliging\\nfavor of the 2d ult, and for not thanking you\\nat an earlier period, for the book you had the\\ni goodness to send me. I have heard much of\\nthe! the nefarious and dangerous plan and doctrine\\nof the Illuminati, but never saw the book until\\nyou were pleased to stnd it to me.\\nhave causes have prevented my reading the book\\npbsts hitherto, viz:—the multiplicity of matters\\nwhich pressed upon\\ntated state in which I was left after\\nfever had been removed, and which allows\\nto add little more here than thanks for vorn\\nwishes and favorable sentiments, except to\\nthat correct an error you have run into_of my\\nstill presiding over the English lodges in this\\ncountry. The fact is, I preside over none, nor\\nhave I been in any, more than once or twice\\nwithin the last thirty years. I believe not\\nwithstanding that none of the lodges in this\\nThe same\\nbefore, and the debili\\na severe\\nthe\\nput\\na\\ncountry arc contaminated With the principles\\nascribed to the society of the Illuminati.\\nWith respect» I am, &c.\\nG. WASHINGTON.\\nLETTER 2.\\nMt. Vernon, Oct, 10, 1798.\\nSir—I t is more than a fortnight since I ac\\nknowledged the receipt of your first letter, on\\nthe subject of the Illuminati, and thanked you\\nRobinson\\'s account of that society. It\\nwent to the Post-office as usual, addressed to\\nthe Rev. Mr. Snyder, of Frederkktown Md.\\nIf it has not been received before this, some\\nmishap must, have attended it, of which I pray\\nit could not have been\\nfor\\nyou to advise me, as\\nreceived at the date of your last, not being\\nmentioned.—I am, 8tc. _\\nG WASHINGTON.\\nLETTER 3.\\nMt. Vernon. Oct. 1798.\\nRev. Sir— I have you favor of the 17th\\ninstant before me, and my only motive to\\ntrouble you with the receipt of this letter, is\\nto explain and correct a mistake, which, I\\nperceive the hurry in which l am obliged often\\nto write letters, has led you into. It was not\\nmy intention to doubt, that the doctrines of\\nthe Illuminati and the principles of Jacobinism\\nhad spread in the United States ; on the con\\ntrary no one is more fully satisfied of the fact\\nthan I am. The idea I meant to convey was,\\nthat I did not believe that the lodges of free\\nmasons in this country had, as societies en\\ndeavoured to propagate the diabolical tenets\\nof the first, or the pernicious principles of the\\nlatter (if they are susceptible of separation.)\\nThat individuals of them may have done it,\\nand that the founder or instrument employed\\nto found the Democratic Societies in the Uni\\nted States may have these objects and actually\\nhad a separation of the people from their gov\\n\\' too evident to be questioned.\\nMy occupations arc such that but little leisure\\nis allowed me to read newspapers of any kind;\\nthe reading of letters and preparing of answers\\nabsorbs much of my time.\\nWith respect, (kc.\\nG. WASHINGTON.\\nNow, if Washington hail considered the in\\nstiuttion a good one, he would have visited the\\nlodges, more than\\'once or twice, within thirty\\nyears.\\' Washington was a man of purity» and\\nhe would not have banished the habitation of\\nthe \\'hand-maid of religion!\\' from his presence,\\nwith so little ceremony, for thirty years.\\nWashington\\'s opinion of masonry stands in\\nhold relief, in the first letter, and \\'he that runs\\nmav read.\\' and understand.\\nThe following denunciation of \\'\\'all combina\\ntions,\" given in his farewell addres, conies in\\nvery well here. It can be easily understood.\\nIt conincides with the sentiment cautiously ex\\npressed in his letters, and the reader should\\nremember that it was given near two years be r\\nfore the letters were written.— A. M. Herald.\\n\"All obstructions to the exécutons of laws,\\nall combinations and associations, under\\never plausible character, with the real design to\\'\\ndirect, control , counteract , or awe the constitu-j\\nted authorities, are destructive of this funda\\nmental principle, and of fatal tendency. They\\nserve to organizeyhe/io;;, to give it an\\ncial and extraordinary force, to put it in\\nplace of the delegated will of the nation, the\\nwill of the party, often a small, but enterpris\\ning minority of the community; and according\\nto the alternate triumphs of different parties,\\nto make the public administration the mirror\\nof the ill concerted and incongruous projects\\nof faction, rather than the organs of consistent\\nand wholesome plans, digested by common\\ncouncils and modified by mutual interest.\\n\"However combinations or associations of the\\nabove description, may now and then answer\\npopular ends, they are likely in the course of\\ntime and things to become potent engines, hv\\nwhich cunning, ambitious, and unprincipled\\nmen will be enabled to subvert the power of\\nthe people, and usurp for themselves the reigns\\nof government.\"\\nIf such language as this, together with the\\nfact that he had hardly been in a Lodge for\\nthirty years , does not prove hint a Secedcr,\\nwe know not what can.\\neminent m view,\\nby\\nbe\\nby\\n\"MASONIC CHARITY.\"\\nWe copy an extract from a Masonic band\\nbill, (says the Boston Free Press,) 5 or 6000\\nof which are said to have been distributed in\\nthe stores and dwelling houses in the city, the\\nnext day after the meeting at Faneuil Hall.\\nIt bears date Sept. 9th, 1829, [A I. (Anno\\nLodges ) 5829] with the signature of Samuel\\nMallen, a gentleman holden in the highest es\\ntimation by the fraternity, who has reached as\\nwc understand, the very topmost round of the\\nMasonic Ladder—Hear him:\\n* \" I HOPE Godwill strictly visit all the en\\nemies of Masonry with the contents of ihe CIS.\\nPsalm, from the 6th verse .\"\\nThe Anchor of Hope garnished one corner\\nof the handbill, and the Masonic Temple with\\nall its beautiful emblems of Faith, Hope, and\\nCharity, the other. We copy the blessings be\\nstowed upon Anti-masons, by a disciple of the\\n\" Handmaid\" of Masonic Religion, from\\nPsalm 109th.\\nG. \" Set thou a wicked man over him;* and\\nlet Satan stand at his right hand.\\n7. When he shall be judged, let him be con\\ndemned; and let bis prayer become sin.\\n8. Let bis days be few, and let another take\\nmy\\nthe\\nof\\nto\\nmy\\nhis offer,\\nWmd hi* -Wife\\nre \\'visited\\' on\\n9. Let hh child^Ê\\na widow ! [This the\\nMorgan.]\\nXO. Let his children be continually vaga\\nbonds. and beg; let them seek their bread also\\nout of desolate places.\\nXI. Let the extortioner,catch all that lie hath;\\nand let the stranger spoil his labor.\\n12. Let there be none to extend mercy unto\\nhim ; neither let there be any to favor his fa\\ntherless children. ...\\nIS. Let his prosperity be cut off; and in the\\ngeneration following, let their nam i be blotted\\n14. Let the iniquity of his fathers be re\\nmembered with the Lord ; and let the sin of\\nhis mother be blotted out.\\n15. Let them be before the Lord continual\\nly, that he may cut off the memory of ^hem.\\nfrom the earth.\\n16. Because that he remembered not to\\nshow mercy, but persecuted the poor and\\ndy man, that he might even slay the broken\\nheart.\\n17. As he loved cursing, let it come unto\\nhe delighted not in blessing, so let it\\nllffn ;\\n; as\\nbe from him.\\n18. As he closed himself with pursing like,\\nlet it come unto his\\nnth a garment,\\nbowels with water, and like oil into his bones#\\n19. Let it be unto him as a garmentf which\\ncovcreth him, and for a girdle wherewith he is\\ngirded continually.\\n20. Let this be the reward of my adversa\\nries from the Lord, and them that speak evil\\nagainst my soul.\"— Roch. Enq.\\n♦This \"curse\" lias been fulfilling ev\\nsoniy had an existence—wicked\\nover us—and\\n\" curse.\"\\nf This is the extreme unction of cursing.\\nas\\nincc Ma\\nhave been sec\\ndetermined to get rid of the.\\nBenedict Arnold was a Mason .—Wc are en\\nabled to settle this fact on the best testimony\\nthat can he asked. A worthy and esteemed\\nofficer of the revolution, now resident in Con\\nnecticut, spent a few daÿs in this village last\\nweek. He was formerly a Mason, but long\\nsince turned away from the Institution with\\ndisgust, as many other revolutionär worthies.\\nin- uot excepting Washington have done. He\\nstates that to his certain knowledgs, General\\n| Arnold the identical traitor, Benedict Ar\\njnold —was a Masons that he (our i«dormant)\\nof sat in a lodge in Morristown. N. J., in the\\nwinter of 1779—80. and that General Arnold\\n—the identical traitor wan present at that\\nin time in the lodge, as a brother. He (our in\\nformant) acted that evening as a junior deacon,\\nand another person now living in Colchester,\\nConn, acted as junior warden. The informa\\nin turn may be depended upon. The character\\nof \\'he ™»n from whom it is obtained is a full\\nex- guarantee for its truth. We may have yet\\nmore t0 sa y Is denied,\\nr We do not take the trouble to prove that\\nArnold was a Mason because of any gif at con\\nsequence in the fact, but to put the seal of si\\nwhat-1\\'fence upon the braggart frothing declaration,\\nto\\' lliat \\' every officer of the revolution, except*\\nING Benedict Arnold, was a Mason,\\'\\nP. S. In a later conversation, our informant\\nfurther states, that General Washington and\\nartifi-jGeneral Arnold, on this occasion, came into\\nthe\\'the lodge together. Now the fraternity say\\nthe that Washington was a Mason. We say that\\nArnold was also a Mason. So that ncutrali\\nzea this argument. It is as good on one side\\nas the other, and leaves us to look to other\\nfacts for the good or bad of Masonry. We\\nhave no evidence that Arnold deserted the in\\nstitution. We have full evidence that Wash-»\\nington and other true revolutionary patriots\\ndid, including our informant and the venerable\\nthe Henry Sewnll.-— Utica Elucidât or.\\nof\\nhv\\nof\\nfor\\nbeauties or masonry.— A masonic priest\\na year or two since, when touching upon the*\\n\\'excitement\\', while preaching to an audience of\\nmasons, made use of the following expression:\\n\" Shall I mention the name of William Morgan\\nan outcast in societv. A CHILD OF SATAN\\nA HELL ENGENDERED TRAITOR?\"\\nAnother masonic priest, when saluted by\\nfriend, a Baptist deacon who had renounced\\nreplied thus:—\"Not a word out of your mouth\\nyou perjured villain !\"\\nA short time since, in a certain town in\\nFairfield county, as a group of masons were\\nconsulting each other upon the affairs of the\\n\"noble institution,\" in presence of a masonic\\nclergyman, antimasonry was anathematized in\\ngreat style. Befote the close cf the interview\\nthe \\'villainous character* of Crocker and Fan\\nton, was made the topic of remark. Says one\\nhonourable and delicate \" brother,\" \"I hope\\nthat when Crocket lectures again, some one\\nwill dash in his face the contents of a pot de\\'\\nchambre (!) This sentiment met with a lotul\\nand hearty response from the whole group! v\\nHow beautiful!! How delicate and chaste is\\nthe language of masonry ! !—Hartford Intelli\\ngencer.\\nin\\nthe\\nes\\nas\\nthe\\nen\\nand\\nbe\\nthe\\nand\\nEbcnczer Mix, one of the most activç Mor\\ngan conspirators, one of the banditti that as\\nsailed Miller\\'s printing office, himself carrying\\na bludgeon, has just been elected Grand Cap\\ntain General of the Grand Encampment of\\nNew York! Masonry loves and cherishes\\nkidnappers a3 dearly beloved children. The\\nbludgeon above mentioned is preserved as a\\ntrophy (says, the Albany Journal,) by a lady\\nof Batavia.\\n¥'"
      ]
     },
     "execution_count": 25,
     "metadata": {},
     "output_type": "execute_result"
    }
   ],
   "source": [
    "illuminati_search_1776_1850['items'][0]['ocr_eng']"
   ]
  },
  {
   "cell_type": "code",
   "execution_count": 45,
   "id": "a776ac11-fd0a-4eb3-91eb-31d35bcb84f7",
   "metadata": {},
   "outputs": [
    {
     "name": "stdout",
     "output_type": "stream",
     "text": [
      "Failed to retrieve OCR text for Wilmington expositor._18310930.txt. Status code: 404, URL: https://chroniclingamerica.loc.gov/lccn/sn88053122/18310930/2/ocr.txt\n",
      "Failed to retrieve OCR text for The gazette. [volume]_17981210.txt. Status code: 404, URL: https://chroniclingamerica.loc.gov/lccn/sn83045634/17981210/1/ocr.txt\n",
      "Failed to retrieve OCR text for The national intelligencer and Washington advertiser. [volume]_18020915.txt. Status code: 404, URL: https://chroniclingamerica.loc.gov/lccn/sn83045242/18020915/2/ocr.txt\n",
      "Failed to retrieve OCR text for The recorder, or, Lady's and gentleman's miscellany. [volume]_18020424.txt. Status code: 404, URL: https://chroniclingamerica.loc.gov/lccn/sn84024678/18020424/4/ocr.txt\n",
      "Failed to retrieve OCR text for Jenks's Portland gazette. [volume]_18020920.txt. Status code: 404, URL: https://chroniclingamerica.loc.gov/lccn/sn83016063/18020920/2/ocr.txt\n",
      "Failed to retrieve OCR text for American watchman and Delaware advertiser. [volume]_18250510.txt. Status code: 404, URL: https://chroniclingamerica.loc.gov/lccn/sn82014894/18250510/1/ocr.txt\n",
      "Failed to retrieve OCR text for The Arkansas banner. [volume]_18490522.txt. Status code: 404, URL: https://chroniclingamerica.loc.gov/lccn/sn82007022/18490522/4/ocr.txt\n",
      "Failed to retrieve OCR text for Gazette of the United States, & Philadelphia daily advertiser. [volume]_17990413.txt. Status code: 404, URL: https://chroniclingamerica.loc.gov/lccn/sn83025881/17990413/3/ocr.txt\n",
      "Failed to retrieve OCR text for Phenix gazette. [volume]_18250412.txt. Status code: 404, URL: https://chroniclingamerica.loc.gov/lccn/sn85025006/18250412/1/ocr.txt\n",
      "Failed to retrieve OCR text for Norfolk gazette and publick ledger. [volume]_18050513.txt. Status code: 404, URL: https://chroniclingamerica.loc.gov/lccn/sn85025815/18050513/2/ocr.txt\n",
      "Failed to retrieve OCR text for The Delaware gazette. [volume]_18090729.txt. Status code: 404, URL: https://chroniclingamerica.loc.gov/lccn/sn82014385/18090729/3/ocr.txt\n",
      "Failed to retrieve OCR text for The national intelligencer and Washington advertiser. [volume]_18010325.txt. Status code: 404, URL: https://chroniclingamerica.loc.gov/lccn/sn83045242/18010325/3/ocr.txt\n",
      "Failed to retrieve OCR text for The national intelligencer and Washington advertiser. [volume]_18010708.txt. Status code: 404, URL: https://chroniclingamerica.loc.gov/lccn/sn83045242/18010708/3/ocr.txt\n",
      "Failed to retrieve OCR text for Jenks's Portland gazette. [volume]_18001208.txt. Status code: 404, URL: https://chroniclingamerica.loc.gov/lccn/sn83016063/18001208/1/ocr.txt\n",
      "Failed to retrieve OCR text for Jenks's Portland gazette. [volume]_18001215.txt. Status code: 404, URL: https://chroniclingamerica.loc.gov/lccn/sn83016063/18001215/4/ocr.txt\n",
      "Failed to retrieve OCR text for The gazette. [volume]_17990114.txt. Status code: 404, URL: https://chroniclingamerica.loc.gov/lccn/sn83045634/17990114/1/ocr.txt\n",
      "Failed to retrieve OCR text for Rhode-Island Republican. [volume]_18011212.txt. Status code: 404, URL: https://chroniclingamerica.loc.gov/lccn/sn83021188/18011212/2/ocr.txt\n",
      "Failed to retrieve OCR text for Alexandria advertiser and commercial intelligencer. [volume]_18020917.txt. Status code: 404, URL: https://chroniclingamerica.loc.gov/lccn/sn84024011/18020917/3/ocr.txt\n",
      "Failed to retrieve OCR text for Alexandria daily gazette, commercial & political. [volume]_18090529.txt. Status code: 404, URL: https://chroniclingamerica.loc.gov/lccn/sn84024013/18090529/2/ocr.txt\n",
      "Failed to retrieve OCR text for The gazette. [volume]_17980813.txt. Status code: 404, URL: https://chroniclingamerica.loc.gov/lccn/sn83045634/17980813/2/ocr.txt\n",
      "Number of OCR text files retrieved: 0\n"
     ]
    }
   ],
   "source": [
    "import requests\n",
    "\n",
    "# Original request to retrieve search results\n",
    "illuminati_search_1776_1850 = requests.get('http://chroniclingamerica.loc.gov/search/pages/results/?state=&date1=1776&date2=1850&proxtext=Illuminati&dateFilterType=yearRange&format=json').json()\n",
    "\n",
    "ocr_files = []\n",
    "\n",
    "# Loop through each search result and retrieve OCR text\n",
    "for result in illuminati_search_1776_1850['items']:\n",
    "    # Extract newspaper name and publication date\n",
    "    newspaper_name = result['title']\n",
    "    publication_date = result['date']\n",
    "    # Create file name by combining newspaper name and publication date\n",
    "    file_name = f\"{newspaper_name}_{publication_date}.txt\"\n",
    "    # Extract necessary information for constructing the OCR text URL\n",
    "    lccn = result['lccn']\n",
    "    sequence = result['sequence']\n",
    "    # Construct OCR text URL\n",
    "    ocr_url = f'https://chroniclingamerica.loc.gov/lccn/{lccn}/{publication_date.replace(\"-\", \"\")}/{sequence}/ocr.txt'\n",
    "    # Request OCR text content from the OCR text URL\n",
    "    ocr_response = requests.get(ocr_url)\n",
    "    # Check if request was successful\n",
    "    if ocr_response.status_code == 200:\n",
    "        # Extract OCR text from response\n",
    "        ocr_text = ocr_response.text\n",
    "        # Append file name and OCR text content to the list of OCR files\n",
    "        ocr_files.append({file_name: ocr_text})\n",
    "    else:\n",
    "        print(f\"Failed to retrieve OCR text for {file_name}. Status code: {ocr_response.status_code}, URL: {ocr_url}\")\n",
    "\n",
    "# Print the number of OCR text files retrieved\n",
    "print(\"Number of OCR text files retrieved:\", len(ocr_files))"
   ]
  },
  {
   "cell_type": "code",
   "execution_count": 48,
   "id": "b69a1f07-1034-4b60-be17-d202ed7e6064",
   "metadata": {},
   "outputs": [
    {
     "name": "stdout",
     "output_type": "stream",
     "text": [
      "Stored OCR text for Wilmington expositor. (18310930) as Wilmington expositor.18310930.txt\n"
     ]
    }
   ],
   "source": [
    "import os\n",
    "import requests\n",
    "\n",
    "# Perform search for \"Illuminati\"\n",
    "illuminati_search = requests.get('http://chroniclingamerica.loc.gov/search/pages/results/?state=&date1=1776&date2=1850&proxtext=Illuminati&dateFilterType=yearRange&format=json').json()\n",
    "\n",
    "# Extract necessary information from the first search result\n",
    "first_result = illuminati_search['items'][0]\n",
    "title = first_result['title']\n",
    "date = first_result['date']\n",
    "ocr_text = first_result['ocr_eng']\n",
    "\n",
    "# Define file name format\n",
    "file_name = f\"{title}{date}.txt\"\n",
    "\n",
    "# Store OCR text content under the file name\n",
    "with open(file_name, 'w', encoding='utf-8') as file:\n",
    "    file.write(ocr_text)\n",
    "\n",
    "print(f\"Stored OCR text for {title} ({date}) as {file_name}\")"
   ]
  },
  {
   "cell_type": "code",
   "execution_count": 59,
   "id": "55ba1db8-75b4-4ed6-9050-62915e0533d0",
   "metadata": {},
   "outputs": [
    {
     "name": "stdout",
     "output_type": "stream",
     "text": [
      "Stored OCR text for Wilmington expositor. (18310930) as essai_automatisation_OCR_files/Wilmington expositor._18310930.txt\n",
      "Stored OCR text for The gazette. [volume] (17981210) as essai_automatisation_OCR_files/The gazette. [volume]_17981210.txt\n",
      "Stored OCR text for The national intelligencer and Washington advertiser. [volume] (18020915) as essai_automatisation_OCR_files/The national intelligencer and Washington advertiser. [volume]_18020915.txt\n",
      "Stored OCR text for The recorder, or, Lady's and gentleman's miscellany. [volume] (18020424) as essai_automatisation_OCR_files/The recorder, or, Lady's and gentleman's miscellany. [volume]_18020424.txt\n",
      "Stored OCR text for Jenks's Portland gazette. [volume] (18020920) as essai_automatisation_OCR_files/Jenks's Portland gazette. [volume]_18020920.txt\n",
      "Stored OCR text for American watchman and Delaware advertiser. [volume] (18250510) as essai_automatisation_OCR_files/American watchman and Delaware advertiser. [volume]_18250510.txt\n",
      "Stored OCR text for The Arkansas banner. [volume] (18490522) as essai_automatisation_OCR_files/The Arkansas banner. [volume]_18490522.txt\n",
      "Stored OCR text for Gazette of the United States, & Philadelphia daily advertiser. [volume] (17990413) as essai_automatisation_OCR_files/Gazette of the United States, & Philadelphia daily advertiser. [volume]_17990413.txt\n",
      "Stored OCR text for Phenix gazette. [volume] (18250412) as essai_automatisation_OCR_files/Phenix gazette. [volume]_18250412.txt\n",
      "Stored OCR text for Norfolk gazette and publick ledger. [volume] (18050513) as essai_automatisation_OCR_files/Norfolk gazette and publick ledger. [volume]_18050513.txt\n",
      "Stored OCR text for The Delaware gazette. [volume] (18090729) as essai_automatisation_OCR_files/The Delaware gazette. [volume]_18090729.txt\n",
      "Stored OCR text for The national intelligencer and Washington advertiser. [volume] (18010325) as essai_automatisation_OCR_files/The national intelligencer and Washington advertiser. [volume]_18010325.txt\n",
      "Stored OCR text for The national intelligencer and Washington advertiser. [volume] (18010708) as essai_automatisation_OCR_files/The national intelligencer and Washington advertiser. [volume]_18010708.txt\n",
      "Stored OCR text for Jenks's Portland gazette. [volume] (18001208) as essai_automatisation_OCR_files/Jenks's Portland gazette. [volume]_18001208.txt\n",
      "Stored OCR text for Jenks's Portland gazette. [volume] (18001215) as essai_automatisation_OCR_files/Jenks's Portland gazette. [volume]_18001215.txt\n",
      "Stored OCR text for The gazette. [volume] (17990114) as essai_automatisation_OCR_files/The gazette. [volume]_17990114.txt\n",
      "Stored OCR text for Rhode-Island Republican. [volume] (18011212) as essai_automatisation_OCR_files/Rhode-Island Republican. [volume]_18011212.txt\n",
      "Stored OCR text for Alexandria advertiser and commercial intelligencer. [volume] (18020917) as essai_automatisation_OCR_files/Alexandria advertiser and commercial intelligencer. [volume]_18020917.txt\n",
      "Stored OCR text for Alexandria daily gazette, commercial & political. [volume] (18090529) as essai_automatisation_OCR_files/Alexandria daily gazette, commercial & political. [volume]_18090529.txt\n",
      "Stored OCR text for The gazette. [volume] (17980813) as essai_automatisation_OCR_files/The gazette. [volume]_17980813.txt\n"
     ]
    }
   ],
   "source": [
    "import os\n",
    "import requests\n",
    "\n",
    "# Create a folder named \"essai_automatisation_OCR_files\" if it doesn't exist\n",
    "folder_name = \"essai_automatisation_OCR_files\"\n",
    "if not os.path.exists(folder_name):\n",
    "    os.makedirs(folder_name)\n",
    "\n",
    "# Perform search for \"Illuminati\"\n",
    "illuminati_search = requests.get('http://chroniclingamerica.loc.gov/search/pages/results/?state=&date1=1776&date2=1850&proxtext=Illuminati&dateFilterType=yearRange&format=json').json()\n",
    "\n",
    "# Loop through each search result\n",
    "for result in illuminati_search['items']:\n",
    "    title = result['title']\n",
    "    date = result['date']\n",
    "    \n",
    "    # Check if OCR text is available\n",
    "    if 'ocr_eng' in result:\n",
    "        ocr_text = result['ocr_eng']\n",
    "        \n",
    "        # Define file name format\n",
    "        file_name = f\"{title}_{date}.txt\"\n",
    "        \n",
    "        # Define file path\n",
    "        file_path = os.path.join(folder_name, file_name)\n",
    "        \n",
    "        # Store OCR text content under the file name in the folder\n",
    "        with open(file_path, 'w', encoding='utf-8') as file:\n",
    "            file.write(ocr_text)\n",
    "        \n",
    "        print(f\"Stored OCR text for {title} ({date}) as {file_path}\")\n",
    "    else:\n",
    "        print(f\"No OCR text available for {title} ({date}), skipping...\")"
   ]
  },
  {
   "cell_type": "markdown",
   "id": "54a79929-170b-4aaf-b2f2-c9e1e60f12d1",
   "metadata": {},
   "source": [
    "Il semblerait que seulement 20 des 130 résultats ont des fichiers OCR exploitables. "
   ]
  },
  {
   "cell_type": "code",
   "execution_count": 54,
   "id": "9756458a-2eec-4b0f-b96c-96251f8343ac",
   "metadata": {},
   "outputs": [
    {
     "data": {
      "text/plain": [
       "130"
      ]
     },
     "execution_count": 54,
     "metadata": {},
     "output_type": "execute_result"
    }
   ],
   "source": [
    "illuminati_search_1776_1850['totalItems']"
   ]
  },
  {
   "cell_type": "code",
   "execution_count": 56,
   "id": "24a10aca-0198-48c8-ad8c-0be6a2902efa",
   "metadata": {},
   "outputs": [
    {
     "ename": "IndexError",
     "evalue": "list index out of range",
     "output_type": "error",
     "traceback": [
      "\u001b[0;31m---------------------------------------------------------------------------\u001b[0m",
      "\u001b[0;31mIndexError\u001b[0m                                Traceback (most recent call last)",
      "Cell \u001b[0;32mIn[56], line 1\u001b[0m\n\u001b[0;32m----> 1\u001b[0m \u001b[43milluminati_search_1776_1850\u001b[49m\u001b[43m[\u001b[49m\u001b[38;5;124;43m'\u001b[39;49m\u001b[38;5;124;43mitems\u001b[39;49m\u001b[38;5;124;43m'\u001b[39;49m\u001b[43m]\u001b[49m\u001b[43m[\u001b[49m\u001b[38;5;241;43m50\u001b[39;49m\u001b[43m]\u001b[49m[\u001b[38;5;124m'\u001b[39m\u001b[38;5;124murl\u001b[39m\u001b[38;5;124m'\u001b[39m]\n",
      "\u001b[0;31mIndexError\u001b[0m: list index out of range"
     ]
    }
   ],
   "source": [
    "illuminati_search_1776_1850['items'][50]['url'] #incohérent after cellule précédente"
   ]
  },
  {
   "cell_type": "markdown",
   "id": "73151d8b-6e95-4d0a-b491-da912dadcc14",
   "metadata": {},
   "source": [
    "A la main"
   ]
  },
  {
   "cell_type": "code",
   "execution_count": 61,
   "id": "443a607b-d85a-494c-983f-7a51870e87a8",
   "metadata": {},
   "outputs": [
    {
     "name": "stdout",
     "output_type": "stream",
     "text": [
      "Stored OCR text for Wilmington expositor. (18310930) as Wilmington expositor.18310930.txt\n"
     ]
    }
   ],
   "source": [
    "import os\n",
    "import requests\n",
    "\n",
    "# Perform search for \"Illuminati\"\n",
    "illuminati_search = requests.get('http://chroniclingamerica.loc.gov/search/pages/results/?state=&date1=1776&date2=1850&proxtext=Illuminati&dateFilterType=yearRange&format=json').json()\n",
    "\n",
    "\n",
    "r0 = illuminati_search_1776_1850['items'][0]\n",
    "title = r0['title']\n",
    "date = r0['date']\n",
    "ocr_text = r0['ocr_eng']\n",
    "\n",
    "# Define file name format\n",
    "file_name = f\"{title}{date}.txt\"\n",
    "\n",
    "# Store OCR text content under the file name\n",
    "with open(file_name, 'w', encoding='utf-8') as file:\n",
    "    file.write(ocr_text)\n",
    "\n",
    "print(f\"Stored OCR text for {title} ({date}) as {file_name}\")"
   ]
  },
  {
   "cell_type": "code",
   "execution_count": 62,
   "id": "d418f6ab-78b7-4b89-93fb-0b78ca5b11b3",
   "metadata": {},
   "outputs": [
    {
     "name": "stdout",
     "output_type": "stream",
     "text": [
      "Stored OCR text for The gazette. [volume] (17981210) as The gazette. [volume]17981210.txt\n"
     ]
    }
   ],
   "source": [
    "r1 = illuminati_search_1776_1850['items'][1]\n",
    "title = r1['title']\n",
    "date = r1['date']\n",
    "ocr_text = r1['ocr_eng']\n",
    "\n",
    "# Define file name format\n",
    "file_name = f\"{title}{date}.txt\"\n",
    "\n",
    "# Store OCR text content under the file name\n",
    "with open(file_name, 'w', encoding='utf-8') as file:\n",
    "    file.write(ocr_text)\n",
    "\n",
    "print(f\"Stored OCR text for {title} ({date}) as {file_name}\")"
   ]
  },
  {
   "cell_type": "code",
   "execution_count": 63,
   "id": "701fcbcc-bead-4bfc-88ad-dd65a315d38c",
   "metadata": {},
   "outputs": [
    {
     "name": "stdout",
     "output_type": "stream",
     "text": [
      "Stored OCR text for The national intelligencer and Washington advertiser. [volume] (18020915) as The national intelligencer and Washington advertiser. [volume]18020915.txt\n"
     ]
    }
   ],
   "source": [
    "r2 = illuminati_search_1776_1850['items'][2]\n",
    "title = r2['title']\n",
    "date = r2['date']\n",
    "ocr_text = r2['ocr_eng']\n",
    "\n",
    "# Define file name format\n",
    "file_name = f\"{title}{date}.txt\"\n",
    "\n",
    "# Store OCR text content under the file name\n",
    "with open(file_name, 'w', encoding='utf-8') as file:\n",
    "    file.write(ocr_text)\n",
    "\n",
    "print(f\"Stored OCR text for {title} ({date}) as {file_name}\")"
   ]
  },
  {
   "cell_type": "code",
   "execution_count": 65,
   "id": "4230d71a-7517-4f86-90da-17d7c1f98afd",
   "metadata": {},
   "outputs": [
    {
     "ename": "IndexError",
     "evalue": "list index out of range",
     "output_type": "error",
     "traceback": [
      "\u001b[0;31m---------------------------------------------------------------------------\u001b[0m",
      "\u001b[0;31mIndexError\u001b[0m                                Traceback (most recent call last)",
      "Cell \u001b[0;32mIn[65], line 1\u001b[0m\n\u001b[0;32m----> 1\u001b[0m r20 \u001b[38;5;241m=\u001b[39m \u001b[43milluminati_search_1776_1850\u001b[49m\u001b[43m[\u001b[49m\u001b[38;5;124;43m'\u001b[39;49m\u001b[38;5;124;43mitems\u001b[39;49m\u001b[38;5;124;43m'\u001b[39;49m\u001b[43m]\u001b[49m\u001b[43m[\u001b[49m\u001b[38;5;241;43m20\u001b[39;49m\u001b[43m]\u001b[49m\n\u001b[1;32m      2\u001b[0m title \u001b[38;5;241m=\u001b[39m r20[\u001b[38;5;124m'\u001b[39m\u001b[38;5;124mtitle\u001b[39m\u001b[38;5;124m'\u001b[39m]\n\u001b[1;32m      3\u001b[0m date \u001b[38;5;241m=\u001b[39m r20[\u001b[38;5;124m'\u001b[39m\u001b[38;5;124mdate\u001b[39m\u001b[38;5;124m'\u001b[39m]\n",
      "\u001b[0;31mIndexError\u001b[0m: list index out of range"
     ]
    }
   ],
   "source": [
    "r20 = illuminati_search_1776_1850['items'][20]\n",
    "title = r20['title']\n",
    "date = r20['date']\n",
    "ocr_text = r20['ocr_eng']\n",
    "\n",
    "# Define file name format\n",
    "file_name = f\"{title}{date}.txt\"\n",
    "\n",
    "# Store OCR text content under the file name\n",
    "with open(file_name, 'w', encoding='utf-8') as file:\n",
    "    file.write(ocr_text)\n",
    "\n",
    "print(f\"Stored OCR text for {title} ({date}) as {file_name}\")"
   ]
  },
  {
   "cell_type": "code",
   "execution_count": 66,
   "id": "01423f43-46c1-49ad-b718-235d66cd170f",
   "metadata": {},
   "outputs": [
    {
     "data": {
      "text/plain": [
       "130"
      ]
     },
     "execution_count": 66,
     "metadata": {},
     "output_type": "execute_result"
    }
   ],
   "source": [
    "illuminati_search_1776_1850['totalItems']"
   ]
  },
  {
   "cell_type": "markdown",
   "id": "5f11550d-b32d-4ee0-b65d-b41875809680",
   "metadata": {},
   "source": [
    "Problème de pagination, par défaut l'affichage est de 20 résultats par page. On cherche alors à l'augmenter."
   ]
  },
  {
   "cell_type": "code",
   "execution_count": 8,
   "id": "60a576f6-e262-45b8-9d64-acfe310c6ef2",
   "metadata": {},
   "outputs": [
    {
     "name": "stdout",
     "output_type": "stream",
     "text": [
      "Stored OCR text for Martinsburg gazette. [volume] (18401119) as essai_automatisation_OCR_files/Martinsburg gazette. [volume]_18401119.txt\n",
      "Stored OCR text for Staunton spectator, and general advertiser. [volume] (18490509) as essai_automatisation_OCR_files/Staunton spectator, and general advertiser. [volume]_18490509.txt\n",
      "Stored OCR text for The liberator. [volume] (18420304) as essai_automatisation_OCR_files/The liberator. [volume]_18420304.txt\n",
      "Stored OCR text for Richmond enquirer. [volume] (18180818) as essai_automatisation_OCR_files/Richmond enquirer. [volume]_18180818.txt\n",
      "Stored OCR text for The New York herald. [volume] (18500213) as essai_automatisation_OCR_files/The New York herald. [volume]_18500213.txt\n",
      "Stored OCR text for The New York herald. [volume] (18441012) as essai_automatisation_OCR_files/The New York herald. [volume]_18441012.txt\n",
      "Stored OCR text for Richmond enquirer. [volume] (18440507) as essai_automatisation_OCR_files/Richmond enquirer. [volume]_18440507.txt\n",
      "Stored OCR text for New-York daily tribune. [volume] (18440413) as essai_automatisation_OCR_files/New-York daily tribune. [volume]_18440413.txt\n",
      "Stored OCR text for The New York herald. [volume] (18460128) as essai_automatisation_OCR_files/The New York herald. [volume]_18460128.txt\n",
      "Stored OCR text for Wheeling times and advertiser. [volume] (18400130) as essai_automatisation_OCR_files/Wheeling times and advertiser. [volume]_18400130.txt\n",
      "Stored OCR text for Wheeling times and advertiser. [volume] (18410506) as essai_automatisation_OCR_files/Wheeling times and advertiser. [volume]_18410506.txt\n",
      "Stored OCR text for Richmond enquirer. [volume] (18270413) as essai_automatisation_OCR_files/Richmond enquirer. [volume]_18270413.txt\n",
      "Stored OCR text for Richmond enquirer. [volume] (18280930) as essai_automatisation_OCR_files/Richmond enquirer. [volume]_18280930.txt\n",
      "Stored OCR text for Daily Richmond Whig & public advertiser. [volume] (18360402) as essai_automatisation_OCR_files/Daily Richmond Whig & public advertiser. [volume]_18360402.txt\n",
      "Stored OCR text for Republican herald. [volume] (18491219) as essai_automatisation_OCR_files/Republican herald. [volume]_18491219.txt\n",
      "Stored OCR text for Republican herald. [volume] (18491222) as essai_automatisation_OCR_files/Republican herald. [volume]_18491222.txt\n",
      "Stored OCR text for Republican herald. [volume] (18491215) as essai_automatisation_OCR_files/Republican herald. [volume]_18491215.txt\n",
      "Stored OCR text for Richmond daily Whig. [volume] (18450426) as essai_automatisation_OCR_files/Richmond daily Whig. [volume]_18450426.txt\n",
      "Stored OCR text for Richmond daily Whig. [volume] (18450815) as essai_automatisation_OCR_files/Richmond daily Whig. [volume]_18450815.txt\n",
      "Stored OCR text for Sunday dispatch. [volume] (18470418) as essai_automatisation_OCR_files/Sunday dispatch. [volume]_18470418.txt\n",
      "Stored OCR text for Daily northern tribune. [volume] (18480131) as essai_automatisation_OCR_files/Daily northern tribune. [volume]_18480131.txt\n",
      "Stored OCR text for Gazette of the United States, & Philadelphia daily advertiser. [volume] (17981201) as essai_automatisation_OCR_files/Gazette of the United States, & Philadelphia daily advertiser. [volume]_17981201.txt\n",
      "Stored OCR text for Jenks's Portland gazette. [volume] (18000818) as essai_automatisation_OCR_files/Jenks's Portland gazette. [volume]_18000818.txt\n",
      "Stored OCR text for Norfolk gazette and publick ledger. [volume] (18090708) as essai_automatisation_OCR_files/Norfolk gazette and publick ledger. [volume]_18090708.txt\n",
      "Stored OCR text for The daily Madisonian. [volume] (18430223) as essai_automatisation_OCR_files/The daily Madisonian. [volume]_18430223.txt\n",
      "Stored OCR text for Constitutional Whig. [volume] (18240416) as essai_automatisation_OCR_files/Constitutional Whig. [volume]_18240416.txt\n",
      "Stored OCR text for The New York herald. [volume] (18480821) as essai_automatisation_OCR_files/The New York herald. [volume]_18480821.txt\n",
      "Stored OCR text for Richmond enquirer. [volume] (18470629) as essai_automatisation_OCR_files/Richmond enquirer. [volume]_18470629.txt\n",
      "Stored OCR text for New-York daily tribune. [volume] (18421219) as essai_automatisation_OCR_files/New-York daily tribune. [volume]_18421219.txt\n",
      "Stored OCR text for Richmond enquirer. [volume] (18161109) as essai_automatisation_OCR_files/Richmond enquirer. [volume]_18161109.txt\n"
     ]
    }
   ],
   "source": [
    "#Page 2\n",
    "import os\n",
    "import requests\n",
    "from json.decoder import JSONDecodeError\n",
    "\n",
    "# Create a folder named \"essai_automatisation_OCR_files\" if it doesn't exist\n",
    "folder_name = \"essai_automatisation_OCR_files\"\n",
    "if not os.path.exists(folder_name):\n",
    "    os.makedirs(folder_name)\n",
    "\n",
    "try:\n",
    "    # Perform search for \"Illuminati\"\n",
    "    illuminati_search = requests.get('http://chroniclingamerica.loc.gov/search/pages/results/?date1=1776&rows=50&searchType=basic&state=&date2=1850&proxtext=Illuminati&y=13&x=24&dateFilterType=yearRange&page=1&page=2&page=3&format=json').json()    \n",
    "    # Loop through each search result\n",
    "    for result in illuminati_search['items']:\n",
    "        title = result['title']\n",
    "        date = result['date']\n",
    "        \n",
    "        # Check if OCR text is available\n",
    "        if 'ocr_eng' in result:\n",
    "            ocr_text = result['ocr_eng']\n",
    "            \n",
    "            # Define file name format\n",
    "            file_name = f\"{title}_{date}.txt\"\n",
    "            \n",
    "            # Define file path\n",
    "            file_path = os.path.join(folder_name, file_name)\n",
    "            \n",
    "            # Store OCR text content under the file name in the folder\n",
    "            with open(file_path, 'w', encoding='utf-8') as file:\n",
    "                file.write(ocr_text)\n",
    "            \n",
    "            print(f\"Stored OCR text for {title} ({date}) as {file_path}\")\n",
    "        else:\n",
    "            print(f\"No OCR text available for {title} ({date}), skipping...\")\n",
    "except JSONDecodeError:\n",
    "    print(\"Error decoding JSON response. The response may be empty or not in the expected format.\")"
   ]
  },
  {
   "cell_type": "code",
   "execution_count": 4,
   "id": "9bd293ad-8fc9-4b1d-a43a-3c39e289dcc7",
   "metadata": {},
   "outputs": [
    {
     "ename": "JSONDecodeError",
     "evalue": "Expecting value: line 1 column 1 (char 0)",
     "output_type": "error",
     "traceback": [
      "\u001b[0;31m---------------------------------------------------------------------------\u001b[0m",
      "\u001b[0;31mJSONDecodeError\u001b[0m                           Traceback (most recent call last)",
      "File \u001b[0;32m~/.local/lib/python3.8/site-packages/requests/models.py:971\u001b[0m, in \u001b[0;36mResponse.json\u001b[0;34m(self, **kwargs)\u001b[0m\n\u001b[1;32m    970\u001b[0m \u001b[38;5;28;01mtry\u001b[39;00m:\n\u001b[0;32m--> 971\u001b[0m     \u001b[38;5;28;01mreturn\u001b[39;00m \u001b[43mcomplexjson\u001b[49m\u001b[38;5;241;43m.\u001b[39;49m\u001b[43mloads\u001b[49m\u001b[43m(\u001b[49m\u001b[38;5;28;43mself\u001b[39;49m\u001b[38;5;241;43m.\u001b[39;49m\u001b[43mtext\u001b[49m\u001b[43m,\u001b[49m\u001b[43m \u001b[49m\u001b[38;5;241;43m*\u001b[39;49m\u001b[38;5;241;43m*\u001b[39;49m\u001b[43mkwargs\u001b[49m\u001b[43m)\u001b[49m\n\u001b[1;32m    972\u001b[0m \u001b[38;5;28;01mexcept\u001b[39;00m JSONDecodeError \u001b[38;5;28;01mas\u001b[39;00m e:\n\u001b[1;32m    973\u001b[0m     \u001b[38;5;66;03m# Catch JSON-related errors and raise as requests.JSONDecodeError\u001b[39;00m\n\u001b[1;32m    974\u001b[0m     \u001b[38;5;66;03m# This aliases json.JSONDecodeError and simplejson.JSONDecodeError\u001b[39;00m\n",
      "File \u001b[0;32m/usr/lib/python3/dist-packages/simplejson/__init__.py:518\u001b[0m, in \u001b[0;36mloads\u001b[0;34m(s, encoding, cls, object_hook, parse_float, parse_int, parse_constant, object_pairs_hook, use_decimal, **kw)\u001b[0m\n\u001b[1;32m    514\u001b[0m \u001b[38;5;28;01mif\u001b[39;00m (\u001b[38;5;28mcls\u001b[39m \u001b[38;5;129;01mis\u001b[39;00m \u001b[38;5;28;01mNone\u001b[39;00m \u001b[38;5;129;01mand\u001b[39;00m encoding \u001b[38;5;129;01mis\u001b[39;00m \u001b[38;5;28;01mNone\u001b[39;00m \u001b[38;5;129;01mand\u001b[39;00m object_hook \u001b[38;5;129;01mis\u001b[39;00m \u001b[38;5;28;01mNone\u001b[39;00m \u001b[38;5;129;01mand\u001b[39;00m\n\u001b[1;32m    515\u001b[0m         parse_int \u001b[38;5;129;01mis\u001b[39;00m \u001b[38;5;28;01mNone\u001b[39;00m \u001b[38;5;129;01mand\u001b[39;00m parse_float \u001b[38;5;129;01mis\u001b[39;00m \u001b[38;5;28;01mNone\u001b[39;00m \u001b[38;5;129;01mand\u001b[39;00m\n\u001b[1;32m    516\u001b[0m         parse_constant \u001b[38;5;129;01mis\u001b[39;00m \u001b[38;5;28;01mNone\u001b[39;00m \u001b[38;5;129;01mand\u001b[39;00m object_pairs_hook \u001b[38;5;129;01mis\u001b[39;00m \u001b[38;5;28;01mNone\u001b[39;00m\n\u001b[1;32m    517\u001b[0m         \u001b[38;5;129;01mand\u001b[39;00m \u001b[38;5;129;01mnot\u001b[39;00m use_decimal \u001b[38;5;129;01mand\u001b[39;00m \u001b[38;5;129;01mnot\u001b[39;00m kw):\n\u001b[0;32m--> 518\u001b[0m     \u001b[38;5;28;01mreturn\u001b[39;00m \u001b[43m_default_decoder\u001b[49m\u001b[38;5;241;43m.\u001b[39;49m\u001b[43mdecode\u001b[49m\u001b[43m(\u001b[49m\u001b[43ms\u001b[49m\u001b[43m)\u001b[49m\n\u001b[1;32m    519\u001b[0m \u001b[38;5;28;01mif\u001b[39;00m \u001b[38;5;28mcls\u001b[39m \u001b[38;5;129;01mis\u001b[39;00m \u001b[38;5;28;01mNone\u001b[39;00m:\n",
      "File \u001b[0;32m/usr/lib/python3/dist-packages/simplejson/decoder.py:370\u001b[0m, in \u001b[0;36mJSONDecoder.decode\u001b[0;34m(self, s, _w, _PY3)\u001b[0m\n\u001b[1;32m    369\u001b[0m     s \u001b[38;5;241m=\u001b[39m \u001b[38;5;28mstr\u001b[39m(s, \u001b[38;5;28mself\u001b[39m\u001b[38;5;241m.\u001b[39mencoding)\n\u001b[0;32m--> 370\u001b[0m obj, end \u001b[38;5;241m=\u001b[39m \u001b[38;5;28;43mself\u001b[39;49m\u001b[38;5;241;43m.\u001b[39;49m\u001b[43mraw_decode\u001b[49m\u001b[43m(\u001b[49m\u001b[43ms\u001b[49m\u001b[43m)\u001b[49m\n\u001b[1;32m    371\u001b[0m end \u001b[38;5;241m=\u001b[39m _w(s, end)\u001b[38;5;241m.\u001b[39mend()\n",
      "File \u001b[0;32m/usr/lib/python3/dist-packages/simplejson/decoder.py:400\u001b[0m, in \u001b[0;36mJSONDecoder.raw_decode\u001b[0;34m(self, s, idx, _w, _PY3)\u001b[0m\n\u001b[1;32m    399\u001b[0m         idx \u001b[38;5;241m+\u001b[39m\u001b[38;5;241m=\u001b[39m \u001b[38;5;241m3\u001b[39m\n\u001b[0;32m--> 400\u001b[0m \u001b[38;5;28;01mreturn\u001b[39;00m \u001b[38;5;28;43mself\u001b[39;49m\u001b[38;5;241;43m.\u001b[39;49m\u001b[43mscan_once\u001b[49m\u001b[43m(\u001b[49m\u001b[43ms\u001b[49m\u001b[43m,\u001b[49m\u001b[43m \u001b[49m\u001b[43midx\u001b[49m\u001b[38;5;241;43m=\u001b[39;49m\u001b[43m_w\u001b[49m\u001b[43m(\u001b[49m\u001b[43ms\u001b[49m\u001b[43m,\u001b[49m\u001b[43m \u001b[49m\u001b[43midx\u001b[49m\u001b[43m)\u001b[49m\u001b[38;5;241;43m.\u001b[39;49m\u001b[43mend\u001b[49m\u001b[43m(\u001b[49m\u001b[43m)\u001b[49m\u001b[43m)\u001b[49m\n",
      "\u001b[0;31mJSONDecodeError\u001b[0m: Expecting value: line 1 column 1 (char 0)",
      "\nDuring handling of the above exception, another exception occurred:\n",
      "\u001b[0;31mJSONDecodeError\u001b[0m                           Traceback (most recent call last)",
      "Cell \u001b[0;32mIn[4], line 1\u001b[0m\n\u001b[0;32m----> 1\u001b[0m illuminati_search \u001b[38;5;241m=\u001b[39m \u001b[43mrequests\u001b[49m\u001b[38;5;241;43m.\u001b[39;49m\u001b[43mget\u001b[49m\u001b[43m(\u001b[49m\u001b[38;5;124;43m'\u001b[39;49m\u001b[38;5;124;43mhttp://chroniclingamerica.loc.gov/search/pages/results/?date1=1776&rows=50&searchType=basic&state=&date2=1850&proxtext=Illuminati&y=13&x=24&dateFilterType=yearRange&page1=1&page2=3&pageFilterType=pageRange&format=json\u001b[39;49m\u001b[38;5;124;43m'\u001b[39;49m\u001b[43m)\u001b[49m\u001b[38;5;241;43m.\u001b[39;49m\u001b[43mjson\u001b[49m\u001b[43m(\u001b[49m\u001b[43m)\u001b[49m\n",
      "File \u001b[0;32m~/.local/lib/python3.8/site-packages/requests/models.py:975\u001b[0m, in \u001b[0;36mResponse.json\u001b[0;34m(self, **kwargs)\u001b[0m\n\u001b[1;32m    971\u001b[0m     \u001b[38;5;28;01mreturn\u001b[39;00m complexjson\u001b[38;5;241m.\u001b[39mloads(\u001b[38;5;28mself\u001b[39m\u001b[38;5;241m.\u001b[39mtext, \u001b[38;5;241m*\u001b[39m\u001b[38;5;241m*\u001b[39mkwargs)\n\u001b[1;32m    972\u001b[0m \u001b[38;5;28;01mexcept\u001b[39;00m JSONDecodeError \u001b[38;5;28;01mas\u001b[39;00m e:\n\u001b[1;32m    973\u001b[0m     \u001b[38;5;66;03m# Catch JSON-related errors and raise as requests.JSONDecodeError\u001b[39;00m\n\u001b[1;32m    974\u001b[0m     \u001b[38;5;66;03m# This aliases json.JSONDecodeError and simplejson.JSONDecodeError\u001b[39;00m\n\u001b[0;32m--> 975\u001b[0m     \u001b[38;5;28;01mraise\u001b[39;00m RequestsJSONDecodeError(e\u001b[38;5;241m.\u001b[39mmsg, e\u001b[38;5;241m.\u001b[39mdoc, e\u001b[38;5;241m.\u001b[39mpos)\n",
      "\u001b[0;31mJSONDecodeError\u001b[0m: Expecting value: line 1 column 1 (char 0)"
     ]
    }
   ],
   "source": [
    "    illuminati_search = requests.get('http://chroniclingamerica.loc.gov/search/pages/results/?date1=1776&rows=50&searchType=basic&state=&date2=1850&proxtext=Illuminati&y=13&x=24&dateFilterType=yearRange&page1=1&page2=3&pageFilterType=pageRange&format=json').json()\n"
   ]
  },
  {
   "cell_type": "code",
   "execution_count": 10,
   "id": "85dd3830-6994-4626-aebf-9e5808ccc8b9",
   "metadata": {},
   "outputs": [
    {
     "name": "stdout",
     "output_type": "stream",
     "text": [
      "Stored OCR text for Wilmington expositor. (18310930) as essai_automatisation_OCR_files_p2/Wilmington expositor._18310930.txt\n",
      "Stored OCR text for The gazette. [volume] (17981210) as essai_automatisation_OCR_files_p2/The gazette. [volume]_17981210.txt\n",
      "Stored OCR text for The national intelligencer and Washington advertiser. [volume] (18020915) as essai_automatisation_OCR_files_p2/The national intelligencer and Washington advertiser. [volume]_18020915.txt\n",
      "Stored OCR text for The recorder, or, Lady's and gentleman's miscellany. [volume] (18020424) as essai_automatisation_OCR_files_p2/The recorder, or, Lady's and gentleman's miscellany. [volume]_18020424.txt\n",
      "Stored OCR text for Jenks's Portland gazette. [volume] (18020920) as essai_automatisation_OCR_files_p2/Jenks's Portland gazette. [volume]_18020920.txt\n",
      "Stored OCR text for American watchman and Delaware advertiser. [volume] (18250510) as essai_automatisation_OCR_files_p2/American watchman and Delaware advertiser. [volume]_18250510.txt\n",
      "Stored OCR text for The Arkansas banner. [volume] (18490522) as essai_automatisation_OCR_files_p2/The Arkansas banner. [volume]_18490522.txt\n",
      "Stored OCR text for Gazette of the United States, & Philadelphia daily advertiser. [volume] (17990413) as essai_automatisation_OCR_files_p2/Gazette of the United States, & Philadelphia daily advertiser. [volume]_17990413.txt\n",
      "Stored OCR text for Phenix gazette. [volume] (18250412) as essai_automatisation_OCR_files_p2/Phenix gazette. [volume]_18250412.txt\n",
      "Stored OCR text for Norfolk gazette and publick ledger. [volume] (18050513) as essai_automatisation_OCR_files_p2/Norfolk gazette and publick ledger. [volume]_18050513.txt\n",
      "Stored OCR text for The Delaware gazette. [volume] (18090729) as essai_automatisation_OCR_files_p2/The Delaware gazette. [volume]_18090729.txt\n",
      "Stored OCR text for The national intelligencer and Washington advertiser. [volume] (18010325) as essai_automatisation_OCR_files_p2/The national intelligencer and Washington advertiser. [volume]_18010325.txt\n",
      "Stored OCR text for The national intelligencer and Washington advertiser. [volume] (18010708) as essai_automatisation_OCR_files_p2/The national intelligencer and Washington advertiser. [volume]_18010708.txt\n",
      "Stored OCR text for Jenks's Portland gazette. [volume] (18001208) as essai_automatisation_OCR_files_p2/Jenks's Portland gazette. [volume]_18001208.txt\n",
      "Stored OCR text for Jenks's Portland gazette. [volume] (18001215) as essai_automatisation_OCR_files_p2/Jenks's Portland gazette. [volume]_18001215.txt\n",
      "Stored OCR text for The gazette. [volume] (17990114) as essai_automatisation_OCR_files_p2/The gazette. [volume]_17990114.txt\n",
      "Stored OCR text for Rhode-Island Republican. [volume] (18011212) as essai_automatisation_OCR_files_p2/Rhode-Island Republican. [volume]_18011212.txt\n",
      "Stored OCR text for Alexandria advertiser and commercial intelligencer. [volume] (18020917) as essai_automatisation_OCR_files_p2/Alexandria advertiser and commercial intelligencer. [volume]_18020917.txt\n",
      "Stored OCR text for Alexandria daily gazette, commercial & political. [volume] (18090529) as essai_automatisation_OCR_files_p2/Alexandria daily gazette, commercial & political. [volume]_18090529.txt\n",
      "Stored OCR text for The gazette. [volume] (17980813) as essai_automatisation_OCR_files_p2/The gazette. [volume]_17980813.txt\n",
      "Stored OCR text for The Virginian. [volume] (18250421) as essai_automatisation_OCR_files_p2/The Virginian. [volume]_18250421.txt\n",
      "No OCR text available for Der liberale beobachter und Berks, Montgomery und Schuylkill Caunties allgemeine anzeiger. (18401117), skipping...\n",
      "No OCR text available for Der liberale beobachter und Berks, Montgomery und Schuylkill Caunties allgemeine anzeiger. (18441210), skipping...\n",
      "Stored OCR text for Hawk-eye. [volume] (18441010) as essai_automatisation_OCR_files_p2/Hawk-eye. [volume]_18441010.txt\n",
      "Stored OCR text for The Wilmingtonian. (18231023) as essai_automatisation_OCR_files_p2/The Wilmingtonian._18231023.txt\n",
      "Stored OCR text for The national intelligencer and Washington advertiser. [volume] (18030902) as essai_automatisation_OCR_files_p2/The national intelligencer and Washington advertiser. [volume]_18030902.txt\n",
      "Stored OCR text for Gazette of the United States, & daily advertiser. [volume] (18000709) as essai_automatisation_OCR_files_p2/Gazette of the United States, & daily advertiser. [volume]_18000709.txt\n",
      "Stored OCR text for Gazette of the United States, & daily advertiser. [volume] (18000729) as essai_automatisation_OCR_files_p2/Gazette of the United States, & daily advertiser. [volume]_18000729.txt\n",
      "Stored OCR text for Gazette of the United States, & Philadelphia daily advertiser. [volume] (17980316) as essai_automatisation_OCR_files_p2/Gazette of the United States, & Philadelphia daily advertiser. [volume]_17980316.txt\n",
      "Stored OCR text for Gazette of the United States, & Philadelphia daily advertiser. [volume] (17980322) as essai_automatisation_OCR_files_p2/Gazette of the United States, & Philadelphia daily advertiser. [volume]_17980322.txt\n",
      "Stored OCR text for Gazette of the United States, & Philadelphia daily advertiser. [volume] (17980326) as essai_automatisation_OCR_files_p2/Gazette of the United States, & Philadelphia daily advertiser. [volume]_17980326.txt\n",
      "Stored OCR text for Gazette of the United States, & Philadelphia daily advertiser. [volume] (17980404) as essai_automatisation_OCR_files_p2/Gazette of the United States, & Philadelphia daily advertiser. [volume]_17980404.txt\n",
      "Stored OCR text for Gazette of the United States, & Philadelphia daily advertiser. [volume] (17980313) as essai_automatisation_OCR_files_p2/Gazette of the United States, & Philadelphia daily advertiser. [volume]_17980313.txt\n",
      "Stored OCR text for Gazette of the United States, & Philadelphia daily advertiser. [volume] (17980228) as essai_automatisation_OCR_files_p2/Gazette of the United States, & Philadelphia daily advertiser. [volume]_17980228.txt\n",
      "Stored OCR text for Gazette of the United States, & Philadelphia daily advertiser. [volume] (17990923) as essai_automatisation_OCR_files_p2/Gazette of the United States, & Philadelphia daily advertiser. [volume]_17990923.txt\n",
      "Stored OCR text for Gazette of the United States, & daily advertiser. [volume] (18000812) as essai_automatisation_OCR_files_p2/Gazette of the United States, & daily advertiser. [volume]_18000812.txt\n",
      "Stored OCR text for Gazette of the United States, & Philadelphia daily advertiser. [volume] (18000325) as essai_automatisation_OCR_files_p2/Gazette of the United States, & Philadelphia daily advertiser. [volume]_18000325.txt\n",
      "Stored OCR text for Gazette of the United States, & Philadelphia daily advertiser. [volume] (17990108) as essai_automatisation_OCR_files_p2/Gazette of the United States, & Philadelphia daily advertiser. [volume]_17990108.txt\n",
      "Stored OCR text for Madison Whig advocate. [volume] (18401212) as essai_automatisation_OCR_files_p2/Madison Whig advocate. [volume]_18401212.txt\n",
      "Stored OCR text for Alexandria gazette & daily advertiser. [volume] (18210409) as essai_automatisation_OCR_files_p2/Alexandria gazette & daily advertiser. [volume]_18210409.txt\n",
      "Stored OCR text for Virginia Argus. [volume] (17991115) as essai_automatisation_OCR_files_p2/Virginia Argus. [volume]_17991115.txt\n",
      "Stored OCR text for Virginia Argus. [volume] (18080308) as essai_automatisation_OCR_files_p2/Virginia Argus. [volume]_18080308.txt\n",
      "Stored OCR text for Virginia Argus. [volume] (18060225) as essai_automatisation_OCR_files_p2/Virginia Argus. [volume]_18060225.txt\n",
      "Stored OCR text for Virginia Argus. [volume] (18101005) as essai_automatisation_OCR_files_p2/Virginia Argus. [volume]_18101005.txt\n",
      "Stored OCR text for Portland gazette and Maine advertiser. (18080523) as essai_automatisation_OCR_files_p2/Portland gazette and Maine advertiser._18080523.txt\n",
      "Stored OCR text for Jenks's Portland gazette. [volume] (18000721) as essai_automatisation_OCR_files_p2/Jenks's Portland gazette. [volume]_18000721.txt\n",
      "Stored OCR text for Jenks's Portland gazette. [volume] (18020920) as essai_automatisation_OCR_files_p2/Jenks's Portland gazette. [volume]_18020920.txt\n",
      "Stored OCR text for Jenks' Portland gazette. Maine advertiser. [volume] (18030704) as essai_automatisation_OCR_files_p2/Jenks' Portland gazette. Maine advertiser. [volume]_18030704.txt\n",
      "Stored OCR text for Jenks's Portland gazette. [volume] (18020628) as essai_automatisation_OCR_files_p2/Jenks's Portland gazette. [volume]_18020628.txt\n",
      "Stored OCR text for Jenks's Portland gazette. [volume] (18020628) as essai_automatisation_OCR_files_p2/Jenks's Portland gazette. [volume]_18020628.txt\n",
      "Stored OCR text for Herald of the times. [volume] (18310630) as essai_automatisation_OCR_files_p2/Herald of the times. [volume]_18310630.txt\n",
      "Stored OCR text for Litchfield enquirer. [volume] (18291224) as essai_automatisation_OCR_files_p2/Litchfield enquirer. [volume]_18291224.txt\n",
      "Stored OCR text for Alexandria advertiser and commercial intelligencer. [volume] (18020920) as essai_automatisation_OCR_files_p2/Alexandria advertiser and commercial intelligencer. [volume]_18020920.txt\n",
      "Stored OCR text for Massachusetts spy and Worcester advertiser. [volume] (18240428) as essai_automatisation_OCR_files_p2/Massachusetts spy and Worcester advertiser. [volume]_18240428.txt\n",
      "Stored OCR text for The New Hampshire gazette. [volume] (17990813) as essai_automatisation_OCR_files_p2/The New Hampshire gazette. [volume]_17990813.txt\n",
      "Stored OCR text for The New Hampshire gazette. [volume] (18081101) as essai_automatisation_OCR_files_p2/The New Hampshire gazette. [volume]_18081101.txt\n",
      "Stored OCR text for The New Hampshire gazette. [volume] (17990514) as essai_automatisation_OCR_files_p2/The New Hampshire gazette. [volume]_17990514.txt\n",
      "Stored OCR text for The New Hampshire gazette. [volume] (18020928) as essai_automatisation_OCR_files_p2/The New Hampshire gazette. [volume]_18020928.txt\n",
      "Stored OCR text for The New Hampshire gazette. [volume] (18020629) as essai_automatisation_OCR_files_p2/The New Hampshire gazette. [volume]_18020629.txt\n",
      "Stored OCR text for The New Hampshire gazette. [volume] (18040717) as essai_automatisation_OCR_files_p2/The New Hampshire gazette. [volume]_18040717.txt\n",
      "Stored OCR text for The New Hampshire gazette. [volume] (18030412) as essai_automatisation_OCR_files_p2/The New Hampshire gazette. [volume]_18030412.txt\n",
      "Stored OCR text for Norfolk gazette and publick ledger. [volume] (18050508) as essai_automatisation_OCR_files_p2/Norfolk gazette and publick ledger. [volume]_18050508.txt\n",
      "Stored OCR text for Norfolk gazette and publick ledger. [volume] (18060827) as essai_automatisation_OCR_files_p2/Norfolk gazette and publick ledger. [volume]_18060827.txt\n",
      "Stored OCR text for Norfolk gazette and publick ledger. [volume] (18070928) as essai_automatisation_OCR_files_p2/Norfolk gazette and publick ledger. [volume]_18070928.txt\n",
      "Stored OCR text for The North-Carolinian. [volume] (18500316) as essai_automatisation_OCR_files_p2/The North-Carolinian. [volume]_18500316.txt\n",
      "Stored OCR text for The Caledonian. [volume] (18381225) as essai_automatisation_OCR_files_p2/The Caledonian. [volume]_18381225.txt\n",
      "Stored OCR text for Gazette of the United States, & Philadelphia daily advertiser. [volume] (17980303) as essai_automatisation_OCR_files_p2/Gazette of the United States, & Philadelphia daily advertiser. [volume]_17980303.txt\n",
      "Stored OCR text for Gazette of the United States, & Philadelphia daily advertiser. [volume] (17980307) as essai_automatisation_OCR_files_p2/Gazette of the United States, & Philadelphia daily advertiser. [volume]_17980307.txt\n",
      "Stored OCR text for Gazette of the United States, & Philadelphia daily advertiser. [volume] (17980309) as essai_automatisation_OCR_files_p2/Gazette of the United States, & Philadelphia daily advertiser. [volume]_17980309.txt\n",
      "Stored OCR text for Gazette of the United States, & Philadelphia daily advertiser. [volume] (17980302) as essai_automatisation_OCR_files_p2/Gazette of the United States, & Philadelphia daily advertiser. [volume]_17980302.txt\n",
      "Stored OCR text for Alexandria gazette. [volume] (18381225) as essai_automatisation_OCR_files_p2/Alexandria gazette. [volume]_18381225.txt\n",
      "Stored OCR text for South Branch intelligencer. [volume] (18371202) as essai_automatisation_OCR_files_p2/South Branch intelligencer. [volume]_18371202.txt\n",
      "Stored OCR text for The enquirer. [volume] (18111015) as essai_automatisation_OCR_files_p2/The enquirer. [volume]_18111015.txt\n",
      "Stored OCR text for The enquirer. [volume] (18050319) as essai_automatisation_OCR_files_p2/The enquirer. [volume]_18050319.txt\n",
      "Stored OCR text for The enquirer. [volume] (18041006) as essai_automatisation_OCR_files_p2/The enquirer. [volume]_18041006.txt\n",
      "Stored OCR text for Constitutional Whig. [volume] (18300903) as essai_automatisation_OCR_files_p2/Constitutional Whig. [volume]_18300903.txt\n",
      "Stored OCR text for Richmond enquirer. [volume] (18151028) as essai_automatisation_OCR_files_p2/Richmond enquirer. [volume]_18151028.txt\n",
      "Stored OCR text for Constitutional Whig. [volume] (18250520) as essai_automatisation_OCR_files_p2/Constitutional Whig. [volume]_18250520.txt\n",
      "Stored OCR text for Wheeling compiler. [volume] (18300106) as essai_automatisation_OCR_files_p2/Wheeling compiler. [volume]_18300106.txt\n",
      "Stored OCR text for Litchfield enquirer. [volume] (18470520) as essai_automatisation_OCR_files_p2/Litchfield enquirer. [volume]_18470520.txt\n",
      "Stored OCR text for Martinsburg gazette and public advertiser. [volume] (18290416) as essai_automatisation_OCR_files_p2/Martinsburg gazette and public advertiser. [volume]_18290416.txt\n",
      "Stored OCR text for The Portland gazette. [volume] (18221029) as essai_automatisation_OCR_files_p2/The Portland gazette. [volume]_18221029.txt\n",
      "Stored OCR text for The liberator. [volume] (18500621) as essai_automatisation_OCR_files_p2/The liberator. [volume]_18500621.txt\n",
      "Stored OCR text for Southern Christian advocate. (18500628) as essai_automatisation_OCR_files_p2/Southern Christian advocate._18500628.txt\n",
      "Stored OCR text for Southern Christian advocate. (18430901) as essai_automatisation_OCR_files_p2/Southern Christian advocate._18430901.txt\n",
      "Stored OCR text for Southern Christian advocate. (18450418) as essai_automatisation_OCR_files_p2/Southern Christian advocate._18450418.txt\n",
      "Stored OCR text for Southern Christian advocate. (18441004) as essai_automatisation_OCR_files_p2/Southern Christian advocate._18441004.txt\n",
      "Stored OCR text for Rutland herald. [volume] (18440627) as essai_automatisation_OCR_files_p2/Rutland herald. [volume]_18440627.txt\n",
      "Stored OCR text for The Ohio Democrat and Dover advertiser. [volume] (18400221) as essai_automatisation_OCR_files_p2/The Ohio Democrat and Dover advertiser. [volume]_18400221.txt\n",
      "Stored OCR text for The Madisonian. [volume] (18430817) as essai_automatisation_OCR_files_p2/The Madisonian. [volume]_18430817.txt\n",
      "Stored OCR text for New-York daily tribune. [volume] (18431117) as essai_automatisation_OCR_files_p2/New-York daily tribune. [volume]_18431117.txt\n",
      "Stored OCR text for Spirit of Jefferson. [volume] (18480725) as essai_automatisation_OCR_files_p2/Spirit of Jefferson. [volume]_18480725.txt\n",
      "Stored OCR text for Alexandria gazette. [volume] (18461007) as essai_automatisation_OCR_files_p2/Alexandria gazette. [volume]_18461007.txt\n",
      "Stored OCR text for Alexandria gazette. [volume] (18440316) as essai_automatisation_OCR_files_p2/Alexandria gazette. [volume]_18440316.txt\n",
      "Stored OCR text for Alexandria gazette. [volume] (18451122) as essai_automatisation_OCR_files_p2/Alexandria gazette. [volume]_18451122.txt\n",
      "Stored OCR text for Alexandria gazette. [volume] (18451118) as essai_automatisation_OCR_files_p2/Alexandria gazette. [volume]_18451118.txt\n",
      "Stored OCR text for Virginia free press. (18371207) as essai_automatisation_OCR_files_p2/Virginia free press._18371207.txt\n",
      "Stored OCR text for Wheeling times and advertiser. [volume] (18460624) as essai_automatisation_OCR_files_p2/Wheeling times and advertiser. [volume]_18460624.txt\n",
      "Stored OCR text for Richmond enquirer. [volume] (18160713) as essai_automatisation_OCR_files_p2/Richmond enquirer. [volume]_18160713.txt\n",
      "Stored OCR text for Constitutional Whig. [volume] (18240409) as essai_automatisation_OCR_files_p2/Constitutional Whig. [volume]_18240409.txt\n",
      "Request failed with status code: 504\n"
     ]
    }
   ],
   "source": [
    "#Déjà mieux, 96 OCR récup sur 130 résultats\n",
    "import os\n",
    "import requests\n",
    "from requests.adapters import HTTPAdapter\n",
    "from requests.packages.urllib3.util.retry import Retry\n",
    "from json.decoder import JSONDecodeError\n",
    "\n",
    "# Create a folder named \"essai_automatisation_OCR_files\" if it doesn't exist\n",
    "folder_name = \"essai_automatisation_OCR_files_p2\"\n",
    "if not os.path.exists(folder_name):\n",
    "    os.makedirs(folder_name)\n",
    "\n",
    "base_url = 'http://chroniclingamerica.loc.gov/search/pages/results/?date1=1776&rows=50&searchType=basic&state=&date2=1850&proxtext=Illuminati&y=13&x=24&dateFilterType=yearRange&page={}&format=json'\n",
    "\n",
    "page_number = 1\n",
    "\n",
    "# Define retry strategy\n",
    "retry_strategy = Retry(\n",
    "    total=3,\n",
    "    status_forcelist=[429, 500, 502, 503, 504],\n",
    "    allowed_methods=[\"GET\"]\n",
    ")\n",
    "adapter = HTTPAdapter(max_retries=retry_strategy)\n",
    "\n",
    "# Create session with retry mechanism\n",
    "session = requests.Session()\n",
    "session.mount(\"http://\", adapter)\n",
    "\n",
    "try:\n",
    "    while True:\n",
    "        # Construct URL for the current page\n",
    "        url = base_url.format(page_number)\n",
    "        \n",
    "        # Perform the request with retry\n",
    "        response = session.get(url)\n",
    "        \n",
    "        # Check if response is successful\n",
    "        if response.status_code == 200:\n",
    "            try:\n",
    "                # Parse JSON response\n",
    "                illuminati_search = response.json()\n",
    "                \n",
    "                # Loop through each search result\n",
    "                for result in illuminati_search['items']:\n",
    "                    title = result['title']\n",
    "                    date = result['date']\n",
    "                    \n",
    "                    # Check if OCR text is available\n",
    "                    if 'ocr_eng' in result:\n",
    "                        ocr_text = result['ocr_eng']\n",
    "                        \n",
    "                        # Define file name format\n",
    "                        file_name = f\"{title}_{date}.txt\"\n",
    "                        \n",
    "                        # Define file path\n",
    "                        file_path = os.path.join(folder_name, file_name)\n",
    "                        \n",
    "                        # Store OCR text content under the file name in the folder\n",
    "                        with open(file_path, 'w', encoding='utf-8') as file:\n",
    "                            file.write(ocr_text)\n",
    "                        \n",
    "                        print(f\"Stored OCR text for {title} ({date}) as {file_path}\")\n",
    "                    else:\n",
    "                        print(f\"No OCR text available for {title} ({date}), skipping...\")\n",
    "                \n",
    "                # Move to the next page\n",
    "                page_number += 1\n",
    "            except JSONDecodeError:\n",
    "                print(\"Error decoding JSON response. The response may be empty or not in the expected format.\")\n",
    "                break\n",
    "        else:\n",
    "            print(\"Request failed with status code:\", response.status_code)\n",
    "            break\n",
    "except Exception as e:\n",
    "    print(\"An error occurred:\", e)"
   ]
  },
  {
   "cell_type": "code",
   "execution_count": 11,
   "id": "eb03e715-0553-41a2-9de0-663bd710df66",
   "metadata": {},
   "outputs": [
    {
     "name": "stdout",
     "output_type": "stream",
     "text": [
      "Stored OCR text for Wilmington expositor. (18310930) as essai_automatisation_OCR_files_3/Wilmington expositor._18310930.txt\n",
      "Stored OCR text for The gazette. [volume] (17981210) as essai_automatisation_OCR_files_3/The gazette. [volume]_17981210.txt\n",
      "Stored OCR text for The national intelligencer and Washington advertiser. [volume] (18020915) as essai_automatisation_OCR_files_3/The national intelligencer and Washington advertiser. [volume]_18020915.txt\n",
      "Stored OCR text for The recorder, or, Lady's and gentleman's miscellany. [volume] (18020424) as essai_automatisation_OCR_files_3/The recorder, or, Lady's and gentleman's miscellany. [volume]_18020424.txt\n",
      "Stored OCR text for Jenks's Portland gazette. [volume] (18020920) as essai_automatisation_OCR_files_3/Jenks's Portland gazette. [volume]_18020920.txt\n",
      "Stored OCR text for American watchman and Delaware advertiser. [volume] (18250510) as essai_automatisation_OCR_files_3/American watchman and Delaware advertiser. [volume]_18250510.txt\n",
      "Stored OCR text for The Arkansas banner. [volume] (18490522) as essai_automatisation_OCR_files_3/The Arkansas banner. [volume]_18490522.txt\n",
      "Stored OCR text for Gazette of the United States, & Philadelphia daily advertiser. [volume] (17990413) as essai_automatisation_OCR_files_3/Gazette of the United States, & Philadelphia daily advertiser. [volume]_17990413.txt\n",
      "Stored OCR text for Phenix gazette. [volume] (18250412) as essai_automatisation_OCR_files_3/Phenix gazette. [volume]_18250412.txt\n",
      "Stored OCR text for Norfolk gazette and publick ledger. [volume] (18050513) as essai_automatisation_OCR_files_3/Norfolk gazette and publick ledger. [volume]_18050513.txt\n",
      "Stored OCR text for The Delaware gazette. [volume] (18090729) as essai_automatisation_OCR_files_3/The Delaware gazette. [volume]_18090729.txt\n",
      "Stored OCR text for The national intelligencer and Washington advertiser. [volume] (18010325) as essai_automatisation_OCR_files_3/The national intelligencer and Washington advertiser. [volume]_18010325.txt\n",
      "Stored OCR text for The national intelligencer and Washington advertiser. [volume] (18010708) as essai_automatisation_OCR_files_3/The national intelligencer and Washington advertiser. [volume]_18010708.txt\n",
      "Stored OCR text for Jenks's Portland gazette. [volume] (18001208) as essai_automatisation_OCR_files_3/Jenks's Portland gazette. [volume]_18001208.txt\n",
      "Stored OCR text for Jenks's Portland gazette. [volume] (18001215) as essai_automatisation_OCR_files_3/Jenks's Portland gazette. [volume]_18001215.txt\n",
      "Stored OCR text for The gazette. [volume] (17990114) as essai_automatisation_OCR_files_3/The gazette. [volume]_17990114.txt\n",
      "Stored OCR text for Rhode-Island Republican. [volume] (18011212) as essai_automatisation_OCR_files_3/Rhode-Island Republican. [volume]_18011212.txt\n",
      "Stored OCR text for Alexandria advertiser and commercial intelligencer. [volume] (18020917) as essai_automatisation_OCR_files_3/Alexandria advertiser and commercial intelligencer. [volume]_18020917.txt\n",
      "Stored OCR text for Alexandria daily gazette, commercial & political. [volume] (18090529) as essai_automatisation_OCR_files_3/Alexandria daily gazette, commercial & political. [volume]_18090529.txt\n",
      "Stored OCR text for The gazette. [volume] (17980813) as essai_automatisation_OCR_files_3/The gazette. [volume]_17980813.txt\n",
      "Stored OCR text for The Virginian. [volume] (18250421) as essai_automatisation_OCR_files_3/The Virginian. [volume]_18250421.txt\n",
      "No OCR text available for Der liberale beobachter und Berks, Montgomery und Schuylkill Caunties allgemeine anzeiger. (18401117), skipping...\n",
      "No OCR text available for Der liberale beobachter und Berks, Montgomery und Schuylkill Caunties allgemeine anzeiger. (18441210), skipping...\n",
      "Stored OCR text for Hawk-eye. [volume] (18441010) as essai_automatisation_OCR_files_3/Hawk-eye. [volume]_18441010.txt\n",
      "Stored OCR text for The Wilmingtonian. (18231023) as essai_automatisation_OCR_files_3/The Wilmingtonian._18231023.txt\n",
      "Stored OCR text for The national intelligencer and Washington advertiser. [volume] (18030902) as essai_automatisation_OCR_files_3/The national intelligencer and Washington advertiser. [volume]_18030902.txt\n",
      "Stored OCR text for Gazette of the United States, & daily advertiser. [volume] (18000709) as essai_automatisation_OCR_files_3/Gazette of the United States, & daily advertiser. [volume]_18000709.txt\n",
      "Stored OCR text for Gazette of the United States, & daily advertiser. [volume] (18000729) as essai_automatisation_OCR_files_3/Gazette of the United States, & daily advertiser. [volume]_18000729.txt\n",
      "Stored OCR text for Gazette of the United States, & Philadelphia daily advertiser. [volume] (17980316) as essai_automatisation_OCR_files_3/Gazette of the United States, & Philadelphia daily advertiser. [volume]_17980316.txt\n",
      "Stored OCR text for Gazette of the United States, & Philadelphia daily advertiser. [volume] (17980322) as essai_automatisation_OCR_files_3/Gazette of the United States, & Philadelphia daily advertiser. [volume]_17980322.txt\n",
      "Stored OCR text for Gazette of the United States, & Philadelphia daily advertiser. [volume] (17980326) as essai_automatisation_OCR_files_3/Gazette of the United States, & Philadelphia daily advertiser. [volume]_17980326.txt\n",
      "Stored OCR text for Gazette of the United States, & Philadelphia daily advertiser. [volume] (17980404) as essai_automatisation_OCR_files_3/Gazette of the United States, & Philadelphia daily advertiser. [volume]_17980404.txt\n",
      "Stored OCR text for Gazette of the United States, & Philadelphia daily advertiser. [volume] (17980313) as essai_automatisation_OCR_files_3/Gazette of the United States, & Philadelphia daily advertiser. [volume]_17980313.txt\n",
      "Stored OCR text for Gazette of the United States, & Philadelphia daily advertiser. [volume] (17980228) as essai_automatisation_OCR_files_3/Gazette of the United States, & Philadelphia daily advertiser. [volume]_17980228.txt\n",
      "Stored OCR text for Gazette of the United States, & Philadelphia daily advertiser. [volume] (17990923) as essai_automatisation_OCR_files_3/Gazette of the United States, & Philadelphia daily advertiser. [volume]_17990923.txt\n",
      "Stored OCR text for Gazette of the United States, & daily advertiser. [volume] (18000812) as essai_automatisation_OCR_files_3/Gazette of the United States, & daily advertiser. [volume]_18000812.txt\n",
      "Stored OCR text for Gazette of the United States, & Philadelphia daily advertiser. [volume] (18000325) as essai_automatisation_OCR_files_3/Gazette of the United States, & Philadelphia daily advertiser. [volume]_18000325.txt\n",
      "Stored OCR text for Gazette of the United States, & Philadelphia daily advertiser. [volume] (17990108) as essai_automatisation_OCR_files_3/Gazette of the United States, & Philadelphia daily advertiser. [volume]_17990108.txt\n",
      "Stored OCR text for Madison Whig advocate. [volume] (18401212) as essai_automatisation_OCR_files_3/Madison Whig advocate. [volume]_18401212.txt\n",
      "Stored OCR text for Alexandria gazette & daily advertiser. [volume] (18210409) as essai_automatisation_OCR_files_3/Alexandria gazette & daily advertiser. [volume]_18210409.txt\n",
      "Stored OCR text for Virginia Argus. [volume] (17991115) as essai_automatisation_OCR_files_3/Virginia Argus. [volume]_17991115.txt\n",
      "Stored OCR text for Virginia Argus. [volume] (18080308) as essai_automatisation_OCR_files_3/Virginia Argus. [volume]_18080308.txt\n",
      "Stored OCR text for Virginia Argus. [volume] (18060225) as essai_automatisation_OCR_files_3/Virginia Argus. [volume]_18060225.txt\n",
      "Stored OCR text for Virginia Argus. [volume] (18101005) as essai_automatisation_OCR_files_3/Virginia Argus. [volume]_18101005.txt\n",
      "Stored OCR text for Portland gazette and Maine advertiser. (18080523) as essai_automatisation_OCR_files_3/Portland gazette and Maine advertiser._18080523.txt\n",
      "Stored OCR text for Jenks's Portland gazette. [volume] (18000721) as essai_automatisation_OCR_files_3/Jenks's Portland gazette. [volume]_18000721.txt\n",
      "Stored OCR text for Jenks's Portland gazette. [volume] (18020920) as essai_automatisation_OCR_files_3/Jenks's Portland gazette. [volume]_18020920.txt\n",
      "Stored OCR text for Jenks' Portland gazette. Maine advertiser. [volume] (18030704) as essai_automatisation_OCR_files_3/Jenks' Portland gazette. Maine advertiser. [volume]_18030704.txt\n",
      "Stored OCR text for Jenks's Portland gazette. [volume] (18020628) as essai_automatisation_OCR_files_3/Jenks's Portland gazette. [volume]_18020628.txt\n",
      "Stored OCR text for Jenks's Portland gazette. [volume] (18020628) as essai_automatisation_OCR_files_3/Jenks's Portland gazette. [volume]_18020628.txt\n",
      "Stored OCR text for Herald of the times. [volume] (18310630) as essai_automatisation_OCR_files_3/Herald of the times. [volume]_18310630.txt\n",
      "Stored OCR text for Litchfield enquirer. [volume] (18291224) as essai_automatisation_OCR_files_3/Litchfield enquirer. [volume]_18291224.txt\n",
      "Stored OCR text for Alexandria advertiser and commercial intelligencer. [volume] (18020920) as essai_automatisation_OCR_files_3/Alexandria advertiser and commercial intelligencer. [volume]_18020920.txt\n",
      "Stored OCR text for Massachusetts spy and Worcester advertiser. [volume] (18240428) as essai_automatisation_OCR_files_3/Massachusetts spy and Worcester advertiser. [volume]_18240428.txt\n",
      "Stored OCR text for The New Hampshire gazette. [volume] (17990813) as essai_automatisation_OCR_files_3/The New Hampshire gazette. [volume]_17990813.txt\n",
      "Stored OCR text for The New Hampshire gazette. [volume] (18081101) as essai_automatisation_OCR_files_3/The New Hampshire gazette. [volume]_18081101.txt\n",
      "Stored OCR text for The New Hampshire gazette. [volume] (17990514) as essai_automatisation_OCR_files_3/The New Hampshire gazette. [volume]_17990514.txt\n",
      "Stored OCR text for The New Hampshire gazette. [volume] (18020928) as essai_automatisation_OCR_files_3/The New Hampshire gazette. [volume]_18020928.txt\n",
      "Stored OCR text for The New Hampshire gazette. [volume] (18020629) as essai_automatisation_OCR_files_3/The New Hampshire gazette. [volume]_18020629.txt\n",
      "Stored OCR text for The New Hampshire gazette. [volume] (18040717) as essai_automatisation_OCR_files_3/The New Hampshire gazette. [volume]_18040717.txt\n",
      "Stored OCR text for The New Hampshire gazette. [volume] (18030412) as essai_automatisation_OCR_files_3/The New Hampshire gazette. [volume]_18030412.txt\n",
      "Stored OCR text for Norfolk gazette and publick ledger. [volume] (18050508) as essai_automatisation_OCR_files_3/Norfolk gazette and publick ledger. [volume]_18050508.txt\n",
      "Stored OCR text for Norfolk gazette and publick ledger. [volume] (18060827) as essai_automatisation_OCR_files_3/Norfolk gazette and publick ledger. [volume]_18060827.txt\n",
      "Stored OCR text for Norfolk gazette and publick ledger. [volume] (18070928) as essai_automatisation_OCR_files_3/Norfolk gazette and publick ledger. [volume]_18070928.txt\n",
      "Stored OCR text for The North-Carolinian. [volume] (18500316) as essai_automatisation_OCR_files_3/The North-Carolinian. [volume]_18500316.txt\n",
      "Stored OCR text for The Caledonian. [volume] (18381225) as essai_automatisation_OCR_files_3/The Caledonian. [volume]_18381225.txt\n",
      "Stored OCR text for Gazette of the United States, & Philadelphia daily advertiser. [volume] (17980303) as essai_automatisation_OCR_files_3/Gazette of the United States, & Philadelphia daily advertiser. [volume]_17980303.txt\n",
      "Stored OCR text for Gazette of the United States, & Philadelphia daily advertiser. [volume] (17980307) as essai_automatisation_OCR_files_3/Gazette of the United States, & Philadelphia daily advertiser. [volume]_17980307.txt\n",
      "Stored OCR text for Gazette of the United States, & Philadelphia daily advertiser. [volume] (17980309) as essai_automatisation_OCR_files_3/Gazette of the United States, & Philadelphia daily advertiser. [volume]_17980309.txt\n",
      "Stored OCR text for Gazette of the United States, & Philadelphia daily advertiser. [volume] (17980302) as essai_automatisation_OCR_files_3/Gazette of the United States, & Philadelphia daily advertiser. [volume]_17980302.txt\n",
      "Stored OCR text for Alexandria gazette. [volume] (18381225) as essai_automatisation_OCR_files_3/Alexandria gazette. [volume]_18381225.txt\n",
      "Stored OCR text for South Branch intelligencer. [volume] (18371202) as essai_automatisation_OCR_files_3/South Branch intelligencer. [volume]_18371202.txt\n",
      "Stored OCR text for The enquirer. [volume] (18111015) as essai_automatisation_OCR_files_3/The enquirer. [volume]_18111015.txt\n",
      "Stored OCR text for The enquirer. [volume] (18050319) as essai_automatisation_OCR_files_3/The enquirer. [volume]_18050319.txt\n",
      "Stored OCR text for The enquirer. [volume] (18041006) as essai_automatisation_OCR_files_3/The enquirer. [volume]_18041006.txt\n",
      "Stored OCR text for Constitutional Whig. [volume] (18300903) as essai_automatisation_OCR_files_3/Constitutional Whig. [volume]_18300903.txt\n",
      "Stored OCR text for Richmond enquirer. [volume] (18151028) as essai_automatisation_OCR_files_3/Richmond enquirer. [volume]_18151028.txt\n",
      "Stored OCR text for Constitutional Whig. [volume] (18250520) as essai_automatisation_OCR_files_3/Constitutional Whig. [volume]_18250520.txt\n",
      "Stored OCR text for Wheeling compiler. [volume] (18300106) as essai_automatisation_OCR_files_3/Wheeling compiler. [volume]_18300106.txt\n",
      "Stored OCR text for Litchfield enquirer. [volume] (18470520) as essai_automatisation_OCR_files_3/Litchfield enquirer. [volume]_18470520.txt\n",
      "Stored OCR text for Martinsburg gazette and public advertiser. [volume] (18290416) as essai_automatisation_OCR_files_3/Martinsburg gazette and public advertiser. [volume]_18290416.txt\n",
      "Stored OCR text for The Portland gazette. [volume] (18221029) as essai_automatisation_OCR_files_3/The Portland gazette. [volume]_18221029.txt\n",
      "Stored OCR text for The liberator. [volume] (18500621) as essai_automatisation_OCR_files_3/The liberator. [volume]_18500621.txt\n",
      "Stored OCR text for Southern Christian advocate. (18500628) as essai_automatisation_OCR_files_3/Southern Christian advocate._18500628.txt\n",
      "Stored OCR text for Southern Christian advocate. (18430901) as essai_automatisation_OCR_files_3/Southern Christian advocate._18430901.txt\n",
      "Stored OCR text for Southern Christian advocate. (18450418) as essai_automatisation_OCR_files_3/Southern Christian advocate._18450418.txt\n",
      "Stored OCR text for Southern Christian advocate. (18441004) as essai_automatisation_OCR_files_3/Southern Christian advocate._18441004.txt\n",
      "Stored OCR text for Rutland herald. [volume] (18440627) as essai_automatisation_OCR_files_3/Rutland herald. [volume]_18440627.txt\n",
      "Stored OCR text for The Ohio Democrat and Dover advertiser. [volume] (18400221) as essai_automatisation_OCR_files_3/The Ohio Democrat and Dover advertiser. [volume]_18400221.txt\n",
      "Stored OCR text for The Madisonian. [volume] (18430817) as essai_automatisation_OCR_files_3/The Madisonian. [volume]_18430817.txt\n",
      "Stored OCR text for New-York daily tribune. [volume] (18431117) as essai_automatisation_OCR_files_3/New-York daily tribune. [volume]_18431117.txt\n",
      "Stored OCR text for Spirit of Jefferson. [volume] (18480725) as essai_automatisation_OCR_files_3/Spirit of Jefferson. [volume]_18480725.txt\n",
      "Stored OCR text for Alexandria gazette. [volume] (18461007) as essai_automatisation_OCR_files_3/Alexandria gazette. [volume]_18461007.txt\n",
      "Stored OCR text for Alexandria gazette. [volume] (18440316) as essai_automatisation_OCR_files_3/Alexandria gazette. [volume]_18440316.txt\n",
      "Stored OCR text for Alexandria gazette. [volume] (18451122) as essai_automatisation_OCR_files_3/Alexandria gazette. [volume]_18451122.txt\n",
      "Stored OCR text for Alexandria gazette. [volume] (18451118) as essai_automatisation_OCR_files_3/Alexandria gazette. [volume]_18451118.txt\n",
      "Stored OCR text for Virginia free press. (18371207) as essai_automatisation_OCR_files_3/Virginia free press._18371207.txt\n",
      "Stored OCR text for Wheeling times and advertiser. [volume] (18460624) as essai_automatisation_OCR_files_3/Wheeling times and advertiser. [volume]_18460624.txt\n",
      "Stored OCR text for Richmond enquirer. [volume] (18160713) as essai_automatisation_OCR_files_3/Richmond enquirer. [volume]_18160713.txt\n",
      "Stored OCR text for Constitutional Whig. [volume] (18240409) as essai_automatisation_OCR_files_3/Constitutional Whig. [volume]_18240409.txt\n",
      "Stored OCR text for Martinsburg gazette. [volume] (18401119) as essai_automatisation_OCR_files_3/Martinsburg gazette. [volume]_18401119.txt\n",
      "Stored OCR text for Staunton spectator, and general advertiser. [volume] (18490509) as essai_automatisation_OCR_files_3/Staunton spectator, and general advertiser. [volume]_18490509.txt\n",
      "Stored OCR text for The liberator. [volume] (18420304) as essai_automatisation_OCR_files_3/The liberator. [volume]_18420304.txt\n",
      "Stored OCR text for Richmond enquirer. [volume] (18180818) as essai_automatisation_OCR_files_3/Richmond enquirer. [volume]_18180818.txt\n",
      "Stored OCR text for The New York herald. [volume] (18500213) as essai_automatisation_OCR_files_3/The New York herald. [volume]_18500213.txt\n",
      "Stored OCR text for The New York herald. [volume] (18441012) as essai_automatisation_OCR_files_3/The New York herald. [volume]_18441012.txt\n",
      "Stored OCR text for Richmond enquirer. [volume] (18440507) as essai_automatisation_OCR_files_3/Richmond enquirer. [volume]_18440507.txt\n",
      "Stored OCR text for New-York daily tribune. [volume] (18440413) as essai_automatisation_OCR_files_3/New-York daily tribune. [volume]_18440413.txt\n",
      "Stored OCR text for The New York herald. [volume] (18460128) as essai_automatisation_OCR_files_3/The New York herald. [volume]_18460128.txt\n",
      "Stored OCR text for Wheeling times and advertiser. [volume] (18400130) as essai_automatisation_OCR_files_3/Wheeling times and advertiser. [volume]_18400130.txt\n",
      "Stored OCR text for Wheeling times and advertiser. [volume] (18410506) as essai_automatisation_OCR_files_3/Wheeling times and advertiser. [volume]_18410506.txt\n",
      "Stored OCR text for Richmond enquirer. [volume] (18270413) as essai_automatisation_OCR_files_3/Richmond enquirer. [volume]_18270413.txt\n",
      "Stored OCR text for Richmond enquirer. [volume] (18280930) as essai_automatisation_OCR_files_3/Richmond enquirer. [volume]_18280930.txt\n",
      "Stored OCR text for Daily Richmond Whig & public advertiser. [volume] (18360402) as essai_automatisation_OCR_files_3/Daily Richmond Whig & public advertiser. [volume]_18360402.txt\n",
      "Stored OCR text for Republican herald. [volume] (18491219) as essai_automatisation_OCR_files_3/Republican herald. [volume]_18491219.txt\n",
      "Stored OCR text for Republican herald. [volume] (18491222) as essai_automatisation_OCR_files_3/Republican herald. [volume]_18491222.txt\n",
      "Stored OCR text for Republican herald. [volume] (18491215) as essai_automatisation_OCR_files_3/Republican herald. [volume]_18491215.txt\n",
      "Stored OCR text for Richmond daily Whig. [volume] (18450426) as essai_automatisation_OCR_files_3/Richmond daily Whig. [volume]_18450426.txt\n",
      "Stored OCR text for Richmond daily Whig. [volume] (18450815) as essai_automatisation_OCR_files_3/Richmond daily Whig. [volume]_18450815.txt\n",
      "Stored OCR text for Sunday dispatch. [volume] (18470418) as essai_automatisation_OCR_files_3/Sunday dispatch. [volume]_18470418.txt\n",
      "Stored OCR text for Daily northern tribune. [volume] (18480131) as essai_automatisation_OCR_files_3/Daily northern tribune. [volume]_18480131.txt\n",
      "Stored OCR text for Gazette of the United States, & Philadelphia daily advertiser. [volume] (17981201) as essai_automatisation_OCR_files_3/Gazette of the United States, & Philadelphia daily advertiser. [volume]_17981201.txt\n",
      "Stored OCR text for Jenks's Portland gazette. [volume] (18000818) as essai_automatisation_OCR_files_3/Jenks's Portland gazette. [volume]_18000818.txt\n",
      "Stored OCR text for Norfolk gazette and publick ledger. [volume] (18090708) as essai_automatisation_OCR_files_3/Norfolk gazette and publick ledger. [volume]_18090708.txt\n",
      "Stored OCR text for The daily Madisonian. [volume] (18430223) as essai_automatisation_OCR_files_3/The daily Madisonian. [volume]_18430223.txt\n",
      "Stored OCR text for Constitutional Whig. [volume] (18240416) as essai_automatisation_OCR_files_3/Constitutional Whig. [volume]_18240416.txt\n",
      "Stored OCR text for The New York herald. [volume] (18480821) as essai_automatisation_OCR_files_3/The New York herald. [volume]_18480821.txt\n",
      "Stored OCR text for Richmond enquirer. [volume] (18470629) as essai_automatisation_OCR_files_3/Richmond enquirer. [volume]_18470629.txt\n",
      "Stored OCR text for New-York daily tribune. [volume] (18421219) as essai_automatisation_OCR_files_3/New-York daily tribune. [volume]_18421219.txt\n",
      "Stored OCR text for Richmond enquirer. [volume] (18161109) as essai_automatisation_OCR_files_3/Richmond enquirer. [volume]_18161109.txt\n"
     ]
    }
   ],
   "source": [
    "#Encore mieux, 126/130 résultats récupérés \n",
    "import os\n",
    "import requests\n",
    "from requests.adapters import HTTPAdapter\n",
    "from requests.packages.urllib3.util.retry import Retry\n",
    "from json.decoder import JSONDecodeError\n",
    "\n",
    "# Create a folder named \"essai_automatisation_OCR_files\" if it doesn't exist\n",
    "folder_name = \"essai_automatisation_OCR_files_3\"\n",
    "if not os.path.exists(folder_name):\n",
    "    os.makedirs(folder_name)\n",
    "\n",
    "base_url = 'http://chroniclingamerica.loc.gov/search/pages/results/?date1=1776&rows=50&searchType=basic&state=&date2=1850&proxtext=Illuminati&y=13&x=24&dateFilterType=yearRange&page={}&format=json'\n",
    "\n",
    "page_number = 1\n",
    "pages_to_fetch = 3  # Set the number of pages to fetch\n",
    "\n",
    "# Define retry strategy\n",
    "retry_strategy = Retry(\n",
    "    total=3,\n",
    "    status_forcelist=[429, 500, 502, 503, 504],\n",
    "    allowed_methods=[\"GET\"]\n",
    ")\n",
    "adapter = HTTPAdapter(max_retries=retry_strategy)\n",
    "\n",
    "# Create session with retry mechanism\n",
    "session = requests.Session()\n",
    "session.mount(\"http://\", adapter)\n",
    "\n",
    "try:\n",
    "    while page_number <= pages_to_fetch:\n",
    "        # Construct URL for the current page\n",
    "        url = base_url.format(page_number)\n",
    "        \n",
    "        # Perform the request with retry\n",
    "        response = session.get(url)\n",
    "        \n",
    "        # Check if response is successful\n",
    "        if response.status_code == 200:\n",
    "            try:\n",
    "                # Parse JSON response\n",
    "                illuminati_search = response.json()\n",
    "                \n",
    "                # Loop through each search result\n",
    "                for result in illuminati_search['items']:\n",
    "                    title = result['title']\n",
    "                    date = result['date']\n",
    "                    \n",
    "                    # Check if OCR text is available\n",
    "                    if 'ocr_eng' in result:\n",
    "                        ocr_text = result['ocr_eng']\n",
    "                        \n",
    "                        # Define file name format\n",
    "                        file_name = f\"{title}_{date}.txt\"\n",
    "                        \n",
    "                        # Define file path\n",
    "                        file_path = os.path.join(folder_name, file_name)\n",
    "                        \n",
    "                        # Store OCR text content under the file name in the folder\n",
    "                        with open(file_path, 'w', encoding='utf-8') as file:\n",
    "                            file.write(ocr_text)\n",
    "                        \n",
    "                        print(f\"Stored OCR text for {title} ({date}) as {file_path}\")\n",
    "                    else:\n",
    "                        print(f\"No OCR text available for {title} ({date}), skipping...\")\n",
    "                \n",
    "                # Move to the next page\n",
    "                page_number += 1\n",
    "            except JSONDecodeError:\n",
    "                print(\"Error decoding JSON response. The response may be empty or not in the expected format.\")\n",
    "                break\n",
    "        else:\n",
    "            print(\"Request failed with status code:\", response.status_code)\n",
    "            break\n",
    "except Exception as e:\n",
    "    print(\"An error occurred:\", e)"
   ]
  },
  {
   "cell_type": "markdown",
   "id": "98030131-1007-4029-b4a0-576a7c775382",
   "metadata": {},
   "source": [
    "Il ne semble pas que cela soit un problème de pagination ici, mais un problème plus complexe qu'il me semble difficile à régler cette année. Pour la taille du corpus donné, il me semble pas trop fâcheux de perdre 4 textes sur 130 (perte de 3%)."
   ]
  },
  {
   "cell_type": "code",
   "execution_count": null,
   "id": "079ffa6b-8481-4a4d-84e6-ef3de1971218",
   "metadata": {},
   "outputs": [],
   "source": []
  },
  {
   "cell_type": "code",
   "execution_count": null,
   "id": "08dd210b-3df5-48cc-bd08-80565947be6d",
   "metadata": {},
   "outputs": [],
   "source": []
  },
  {
   "cell_type": "code",
   "execution_count": null,
   "id": "15854efd-21d0-4e3a-b9bc-3cde34a7e13f",
   "metadata": {},
   "outputs": [],
   "source": []
  }
 ],
 "metadata": {
  "kernelspec": {
   "display_name": "Python 3 (ipykernel)",
   "language": "python",
   "name": "python3"
  },
  "language_info": {
   "codemirror_mode": {
    "name": "ipython",
    "version": 3
   },
   "file_extension": ".py",
   "mimetype": "text/x-python",
   "name": "python",
   "nbconvert_exporter": "python",
   "pygments_lexer": "ipython3",
   "version": "3.8.10"
  }
 },
 "nbformat": 4,
 "nbformat_minor": 5
}
